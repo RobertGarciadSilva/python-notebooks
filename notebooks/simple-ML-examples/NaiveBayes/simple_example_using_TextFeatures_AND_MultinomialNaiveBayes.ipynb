{
 "cells": [
  {
   "cell_type": "markdown",
   "metadata": {},
   "source": [
    "## Example Text Features"
   ]
  },
  {
   "cell_type": "code",
   "execution_count": 58,
   "metadata": {},
   "outputs": [],
   "source": [
    "\n",
    "import numpy as np\n",
    "import pandas as pd\n",
    "import matplotlib.pyplot as plt\n",
    "import seaborn as sns; sns.set()\n",
    "\n",
    "from sklearn.feature_extraction.text import CountVectorizer\n",
    "from sklearn.feature_extraction.text import TfidfVectorizer\n",
    "\n",
    "from sklearn.naive_bayes import MultinomialNB\n",
    "from sklearn.pipeline import make_pipeline\n",
    "\n",
    "from sklearn.datasets import fetch_20newsgroups\n",
    "\n",
    "from sklearn.metrics import confusion_matrix\n"
   ]
  },
  {
   "cell_type": "markdown",
   "metadata": {},
   "source": [
    "### Example using CountVectorizer"
   ]
  },
  {
   "cell_type": "code",
   "execution_count": 2,
   "metadata": {},
   "outputs": [
    {
     "name": "stdout",
     "output_type": "stream",
     "text": [
      "['Texto é um conjunto de palavras e frases encadeadas que permitem interpretação e transmitem uma mensagem.'\n",
      " 'É qualquer obra escrita em versão original e que constitui um livro ou um documento escrito. '\n",
      " 'Um texto é uma unidade linguística de extensão superior à frase.']\n"
     ]
    }
   ],
   "source": [
    "\n",
    "linha1 = \"Texto é um conjunto de palavras e frases encadeadas que permitem interpretação e transmitem uma mensagem.\"\n",
    "linha2 = \"É qualquer obra escrita em versão original e que constitui um livro ou um documento escrito. \"\n",
    "linha3 = \"Um texto é uma unidade linguística de extensão superior à frase.\"\n",
    "\n",
    "texto = np.array([linha1, linha2, linha3]); print(texto)\n"
   ]
  },
  {
   "cell_type": "code",
   "execution_count": 3,
   "metadata": {},
   "outputs": [
    {
     "data": {
      "text/html": [
       "<div>\n",
       "<style scoped>\n",
       "    .dataframe tbody tr th:only-of-type {\n",
       "        vertical-align: middle;\n",
       "    }\n",
       "\n",
       "    .dataframe tbody tr th {\n",
       "        vertical-align: top;\n",
       "    }\n",
       "\n",
       "    .dataframe thead th {\n",
       "        text-align: right;\n",
       "    }\n",
       "</style>\n",
       "<table border=\"1\" class=\"dataframe\">\n",
       "  <thead>\n",
       "    <tr style=\"text-align: right;\">\n",
       "      <th></th>\n",
       "      <th>conjunto</th>\n",
       "      <th>constitui</th>\n",
       "      <th>de</th>\n",
       "      <th>documento</th>\n",
       "      <th>em</th>\n",
       "      <th>encadeadas</th>\n",
       "      <th>escrita</th>\n",
       "      <th>escrito</th>\n",
       "      <th>extensão</th>\n",
       "      <th>frase</th>\n",
       "      <th>...</th>\n",
       "      <th>permitem</th>\n",
       "      <th>qualquer</th>\n",
       "      <th>que</th>\n",
       "      <th>superior</th>\n",
       "      <th>texto</th>\n",
       "      <th>transmitem</th>\n",
       "      <th>um</th>\n",
       "      <th>uma</th>\n",
       "      <th>unidade</th>\n",
       "      <th>versão</th>\n",
       "    </tr>\n",
       "  </thead>\n",
       "  <tbody>\n",
       "    <tr>\n",
       "      <th>0</th>\n",
       "      <td>1</td>\n",
       "      <td>0</td>\n",
       "      <td>1</td>\n",
       "      <td>0</td>\n",
       "      <td>0</td>\n",
       "      <td>1</td>\n",
       "      <td>0</td>\n",
       "      <td>0</td>\n",
       "      <td>0</td>\n",
       "      <td>0</td>\n",
       "      <td>...</td>\n",
       "      <td>1</td>\n",
       "      <td>0</td>\n",
       "      <td>1</td>\n",
       "      <td>0</td>\n",
       "      <td>1</td>\n",
       "      <td>1</td>\n",
       "      <td>1</td>\n",
       "      <td>1</td>\n",
       "      <td>0</td>\n",
       "      <td>0</td>\n",
       "    </tr>\n",
       "    <tr>\n",
       "      <th>1</th>\n",
       "      <td>0</td>\n",
       "      <td>1</td>\n",
       "      <td>0</td>\n",
       "      <td>1</td>\n",
       "      <td>1</td>\n",
       "      <td>0</td>\n",
       "      <td>1</td>\n",
       "      <td>1</td>\n",
       "      <td>0</td>\n",
       "      <td>0</td>\n",
       "      <td>...</td>\n",
       "      <td>0</td>\n",
       "      <td>1</td>\n",
       "      <td>1</td>\n",
       "      <td>0</td>\n",
       "      <td>0</td>\n",
       "      <td>0</td>\n",
       "      <td>2</td>\n",
       "      <td>0</td>\n",
       "      <td>0</td>\n",
       "      <td>1</td>\n",
       "    </tr>\n",
       "    <tr>\n",
       "      <th>2</th>\n",
       "      <td>0</td>\n",
       "      <td>0</td>\n",
       "      <td>1</td>\n",
       "      <td>0</td>\n",
       "      <td>0</td>\n",
       "      <td>0</td>\n",
       "      <td>0</td>\n",
       "      <td>0</td>\n",
       "      <td>1</td>\n",
       "      <td>1</td>\n",
       "      <td>...</td>\n",
       "      <td>0</td>\n",
       "      <td>0</td>\n",
       "      <td>0</td>\n",
       "      <td>1</td>\n",
       "      <td>1</td>\n",
       "      <td>0</td>\n",
       "      <td>1</td>\n",
       "      <td>1</td>\n",
       "      <td>1</td>\n",
       "      <td>0</td>\n",
       "    </tr>\n",
       "  </tbody>\n",
       "</table>\n",
       "<p>3 rows × 29 columns</p>\n",
       "</div>"
      ],
      "text/plain": [
       "   conjunto  constitui  de  documento  em  encadeadas  escrita  escrito  \\\n",
       "0         1          0   1          0   0           1        0        0   \n",
       "1         0          1   0          1   1           0        1        1   \n",
       "2         0          0   1          0   0           0        0        0   \n",
       "\n",
       "   extensão  frase  ...  permitem  qualquer  que  superior  texto  transmitem  \\\n",
       "0         0      0  ...         1         0    1         0      1           1   \n",
       "1         0      0  ...         0         1    1         0      0           0   \n",
       "2         1      1  ...         0         0    0         1      1           0   \n",
       "\n",
       "   um  uma  unidade  versão  \n",
       "0   1    1        0       0  \n",
       "1   2    0        0       1  \n",
       "2   1    1        1       0  \n",
       "\n",
       "[3 rows x 29 columns]"
      ]
     },
     "execution_count": 3,
     "metadata": {},
     "output_type": "execute_result"
    }
   ],
   "source": [
    "#Usando countVectorizer para contar o número de vezes que a palavra ocorre em cada linha.\n",
    "\n",
    "countV = CountVectorizer()\n",
    "countWord = countV.fit_transform(texto) \n",
    "\n",
    "df_countWords = pd.DataFrame(countWord.toarray(), columns=countV.get_feature_names()) \n",
    "df_countWords"
   ]
  },
  {
   "cell_type": "code",
   "execution_count": 4,
   "metadata": {},
   "outputs": [
    {
     "name": "stdout",
     "output_type": "stream",
     "text": [
      "['Texto é um conjunto de palavras e frases encadeadas que permitem interpretação e transmitem uma mensagem.É qualquer obra escrita em versão original e que constitui um livro ou um documento escrito. Um texto é uma unidade linguística de extensão superior à frase.']\n"
     ]
    }
   ],
   "source": [
    "\n",
    "# Se o texto estiver todo na mesma linha, tem-se:\n",
    "\n",
    "texto_2 = np.array([linha1 + linha2 + linha3]); print(texto_2)\n"
   ]
  },
  {
   "cell_type": "code",
   "execution_count": 5,
   "metadata": {},
   "outputs": [
    {
     "name": "stdout",
     "output_type": "stream",
     "text": [
      "(1, 29)\n"
     ]
    },
    {
     "data": {
      "text/html": [
       "<div>\n",
       "<style scoped>\n",
       "    .dataframe tbody tr th:only-of-type {\n",
       "        vertical-align: middle;\n",
       "    }\n",
       "\n",
       "    .dataframe tbody tr th {\n",
       "        vertical-align: top;\n",
       "    }\n",
       "\n",
       "    .dataframe thead th {\n",
       "        text-align: right;\n",
       "    }\n",
       "</style>\n",
       "<table border=\"1\" class=\"dataframe\">\n",
       "  <thead>\n",
       "    <tr style=\"text-align: right;\">\n",
       "      <th></th>\n",
       "      <th>conjunto</th>\n",
       "      <th>constitui</th>\n",
       "      <th>de</th>\n",
       "      <th>documento</th>\n",
       "      <th>em</th>\n",
       "      <th>encadeadas</th>\n",
       "      <th>escrita</th>\n",
       "      <th>escrito</th>\n",
       "      <th>extensão</th>\n",
       "      <th>frase</th>\n",
       "      <th>...</th>\n",
       "      <th>permitem</th>\n",
       "      <th>qualquer</th>\n",
       "      <th>que</th>\n",
       "      <th>superior</th>\n",
       "      <th>texto</th>\n",
       "      <th>transmitem</th>\n",
       "      <th>um</th>\n",
       "      <th>uma</th>\n",
       "      <th>unidade</th>\n",
       "      <th>versão</th>\n",
       "    </tr>\n",
       "  </thead>\n",
       "  <tbody>\n",
       "    <tr>\n",
       "      <th>0</th>\n",
       "      <td>1</td>\n",
       "      <td>1</td>\n",
       "      <td>2</td>\n",
       "      <td>1</td>\n",
       "      <td>1</td>\n",
       "      <td>1</td>\n",
       "      <td>1</td>\n",
       "      <td>1</td>\n",
       "      <td>1</td>\n",
       "      <td>1</td>\n",
       "      <td>...</td>\n",
       "      <td>1</td>\n",
       "      <td>1</td>\n",
       "      <td>2</td>\n",
       "      <td>1</td>\n",
       "      <td>2</td>\n",
       "      <td>1</td>\n",
       "      <td>4</td>\n",
       "      <td>2</td>\n",
       "      <td>1</td>\n",
       "      <td>1</td>\n",
       "    </tr>\n",
       "  </tbody>\n",
       "</table>\n",
       "<p>1 rows × 29 columns</p>\n",
       "</div>"
      ],
      "text/plain": [
       "   conjunto  constitui  de  documento  em  encadeadas  escrita  escrito  \\\n",
       "0         1          1   2          1   1           1        1        1   \n",
       "\n",
       "   extensão  frase  ...  permitem  qualquer  que  superior  texto  transmitem  \\\n",
       "0         1      1  ...         1         1    2         1      2           1   \n",
       "\n",
       "   um  uma  unidade  versão  \n",
       "0   4    2        1       1  \n",
       "\n",
       "[1 rows x 29 columns]"
      ]
     },
     "execution_count": 5,
     "metadata": {},
     "output_type": "execute_result"
    }
   ],
   "source": [
    "\n",
    "countWord_2 = countV.fit_transform(texto_2)\n",
    "\n",
    "df_2 = pd.DataFrame(countWord_2.toarray(), columns=countV.get_feature_names()); print(df_2.shape)\n",
    "\n",
    "df_2"
   ]
  },
  {
   "cell_type": "markdown",
   "metadata": {},
   "source": [
    "### Example using TfidfVectorizer"
   ]
  },
  {
   "cell_type": "code",
   "execution_count": 7,
   "metadata": {},
   "outputs": [
    {
     "data": {
      "text/plain": [
       "array(['Texto é um conjunto de palavras e frases encadeadas que permitem interpretação e transmitem uma mensagem.É qualquer obra escrita em versão original e que constitui um livro ou um documento escrito. Um texto é uma unidade linguística de extensão superior à frase.'],\n",
       "      dtype='<U262')"
      ]
     },
     "execution_count": 7,
     "metadata": {},
     "output_type": "execute_result"
    }
   ],
   "source": [
    "\n",
    "texto = np.array([linha1 + linha2 + linha3]); texto\n"
   ]
  },
  {
   "cell_type": "code",
   "execution_count": 12,
   "metadata": {},
   "outputs": [
    {
     "data": {
      "text/html": [
       "<div>\n",
       "<style scoped>\n",
       "    .dataframe tbody tr th:only-of-type {\n",
       "        vertical-align: middle;\n",
       "    }\n",
       "\n",
       "    .dataframe tbody tr th {\n",
       "        vertical-align: top;\n",
       "    }\n",
       "\n",
       "    .dataframe thead th {\n",
       "        text-align: right;\n",
       "    }\n",
       "</style>\n",
       "<table border=\"1\" class=\"dataframe\">\n",
       "  <thead>\n",
       "    <tr style=\"text-align: right;\">\n",
       "      <th></th>\n",
       "      <th>conjunto</th>\n",
       "      <th>constitui</th>\n",
       "      <th>de</th>\n",
       "      <th>documento</th>\n",
       "      <th>em</th>\n",
       "      <th>encadeadas</th>\n",
       "      <th>escrita</th>\n",
       "      <th>escrito</th>\n",
       "      <th>extensão</th>\n",
       "      <th>frase</th>\n",
       "      <th>...</th>\n",
       "      <th>permitem</th>\n",
       "      <th>qualquer</th>\n",
       "      <th>que</th>\n",
       "      <th>superior</th>\n",
       "      <th>texto</th>\n",
       "      <th>transmitem</th>\n",
       "      <th>um</th>\n",
       "      <th>uma</th>\n",
       "      <th>unidade</th>\n",
       "      <th>versão</th>\n",
       "    </tr>\n",
       "  </thead>\n",
       "  <tbody>\n",
       "    <tr>\n",
       "      <th>0</th>\n",
       "      <td>0.133631</td>\n",
       "      <td>0.133631</td>\n",
       "      <td>0.267261</td>\n",
       "      <td>0.133631</td>\n",
       "      <td>0.133631</td>\n",
       "      <td>0.133631</td>\n",
       "      <td>0.133631</td>\n",
       "      <td>0.133631</td>\n",
       "      <td>0.133631</td>\n",
       "      <td>0.133631</td>\n",
       "      <td>...</td>\n",
       "      <td>0.133631</td>\n",
       "      <td>0.133631</td>\n",
       "      <td>0.267261</td>\n",
       "      <td>0.133631</td>\n",
       "      <td>0.267261</td>\n",
       "      <td>0.133631</td>\n",
       "      <td>0.534522</td>\n",
       "      <td>0.267261</td>\n",
       "      <td>0.133631</td>\n",
       "      <td>0.133631</td>\n",
       "    </tr>\n",
       "  </tbody>\n",
       "</table>\n",
       "<p>1 rows × 29 columns</p>\n",
       "</div>"
      ],
      "text/plain": [
       "   conjunto  constitui        de  documento        em  encadeadas   escrita  \\\n",
       "0  0.133631   0.133631  0.267261   0.133631  0.133631    0.133631  0.133631   \n",
       "\n",
       "    escrito  extensão     frase  ...  permitem  qualquer       que  superior  \\\n",
       "0  0.133631  0.133631  0.133631  ...  0.133631  0.133631  0.267261  0.133631   \n",
       "\n",
       "      texto  transmitem        um       uma   unidade    versão  \n",
       "0  0.267261    0.133631  0.534522  0.267261  0.133631  0.133631  \n",
       "\n",
       "[1 rows x 29 columns]"
      ]
     },
     "execution_count": 12,
     "metadata": {},
     "output_type": "execute_result"
    }
   ],
   "source": [
    "\n",
    "extract_text = TfidfVectorizer()\n",
    "freq_words = extract_text.fit_transform(texto)\n",
    "\n",
    "df_freq_words = pd.DataFrame(freq_words.toarray(), columns=extract_text.get_feature_names())\n",
    "\n",
    "df_freq_words"
   ]
  },
  {
   "cell_type": "markdown",
   "metadata": {},
   "source": [
    "### Applying Naive Bayes Muiltinomial"
   ]
  },
  {
   "cell_type": "code",
   "execution_count": 17,
   "metadata": {},
   "outputs": [],
   "source": [
    "\n",
    "data = fetch_20newsgroups() # downloading data \n"
   ]
  },
  {
   "cell_type": "code",
   "execution_count": 24,
   "metadata": {},
   "outputs": [
    {
     "name": "stdout",
     "output_type": "stream",
     "text": [
      "Quantidade tópicos:  20\n",
      "Tópicos: \n"
     ]
    },
    {
     "data": {
      "text/plain": [
       "['alt.atheism',\n",
       " 'comp.graphics',\n",
       " 'comp.os.ms-windows.misc',\n",
       " 'comp.sys.ibm.pc.hardware',\n",
       " 'comp.sys.mac.hardware',\n",
       " 'comp.windows.x',\n",
       " 'misc.forsale',\n",
       " 'rec.autos',\n",
       " 'rec.motorcycles',\n",
       " 'rec.sport.baseball',\n",
       " 'rec.sport.hockey',\n",
       " 'sci.crypt',\n",
       " 'sci.electronics',\n",
       " 'sci.med',\n",
       " 'sci.space',\n",
       " 'soc.religion.christian',\n",
       " 'talk.politics.guns',\n",
       " 'talk.politics.mideast',\n",
       " 'talk.politics.misc',\n",
       " 'talk.religion.misc']"
      ]
     },
     "execution_count": 24,
     "metadata": {},
     "output_type": "execute_result"
    }
   ],
   "source": [
    "\n",
    "print(\"Quantidade tópicos: \", len(data.target_names)); print(\"Tópicos: \")\n",
    "data.target_names # topicos"
   ]
  },
  {
   "cell_type": "code",
   "execution_count": 32,
   "metadata": {},
   "outputs": [
    {
     "data": {
      "text/plain": [
       "array(['/home/garcia/scikit_learn_data/20news_home/20news-bydate-train/rec.autos/102994',\n",
       "       '/home/garcia/scikit_learn_data/20news_home/20news-bydate-train/comp.sys.mac.hardware/51861',\n",
       "       '/home/garcia/scikit_learn_data/20news_home/20news-bydate-train/comp.sys.mac.hardware/51879',\n",
       "       ...,\n",
       "       '/home/garcia/scikit_learn_data/20news_home/20news-bydate-train/comp.sys.ibm.pc.hardware/60695',\n",
       "       '/home/garcia/scikit_learn_data/20news_home/20news-bydate-train/comp.graphics/38319',\n",
       "       '/home/garcia/scikit_learn_data/20news_home/20news-bydate-train/rec.motorcycles/104440'],\n",
       "      dtype='<U93')"
      ]
     },
     "execution_count": 32,
     "metadata": {},
     "output_type": "execute_result"
    }
   ],
   "source": [
    "\n",
    "data.filenames#.shape # file_names\n"
   ]
  },
  {
   "cell_type": "code",
   "execution_count": 28,
   "metadata": {},
   "outputs": [
    {
     "data": {
      "text/plain": [
       "array([7, 4, 4, ..., 3, 1, 8])"
      ]
     },
     "execution_count": 28,
     "metadata": {},
     "output_type": "execute_result"
    }
   ],
   "source": [
    "data.target # real data (test, put as integers)"
   ]
  },
  {
   "cell_type": "code",
   "execution_count": 47,
   "metadata": {},
   "outputs": [
    {
     "name": "stdout",
     "output_type": "stream",
     "text": [
      "Dados de treino:  11314\n",
      "Labels:  (11314,)\n"
     ]
    }
   ],
   "source": [
    "\n",
    "print(\"Dados de treino: \",len(data.data))\n",
    "print(\"Labels: \", data.target.shape)"
   ]
  },
  {
   "cell_type": "code",
   "execution_count": 40,
   "metadata": {},
   "outputs": [],
   "source": [
    "\n",
    "select_topics = [\"sci.space\",\"sci.electronics\",\"soc.religion.christian\",\"talk.religion.misc\",\"alt.atheism\"]\n",
    "\n",
    "data_selected_train = fetch_20newsgroups(subset=\"train\",categories=select_topics)\n",
    "data_selected_test = fetch_20newsgroups(subset=\"test\", categories=select_topics)"
   ]
  },
  {
   "cell_type": "code",
   "execution_count": 42,
   "metadata": {},
   "outputs": [
    {
     "name": "stdout",
     "output_type": "stream",
     "text": [
      "From: livesey@solntze.wpd.sgi.com (Jon Livesey)\n",
      "Subject: Re: Morality? (was Re: <Political Atheists?)\n",
      "Organization: sgi\n",
      "Lines: 47\n",
      "Distribution: world\n",
      "NNTP-Posting-Host: solntze.wpd.sgi.com\n",
      "\n",
      "In article <1ql667INN54a@gap.caltech.edu>, keith@cco.caltech.edu (Keith Allan Schneider) writes:\n",
      "|> livesey@solntze.wpd.sgi.com (Jon Livesey) writes:\n",
      "|> \n",
      "|> >I don't expect the lion to know, or not know anything of the kind.\n",
      "|> >In fact, I don't have any evidence that lions ever consider such \n",
      "|> >issues.\n",
      "|> >And that, of course, is why I don't think you can assign moral\n",
      "|> >significance to the instinctive behaviour of lions.\n",
      "|> \n",
      "|> What I've been saying is that moral behavior is likely the null behavior.\n",
      "|> That is, it doesn't take much work to be moral, but it certainly does to\n",
      "|> be immoral (in some cases).\n",
      "\n",
      "That's the craziest thing I ever heard.   Are you serious?\n",
      "\n",
      "\t\"it doesn't take much work to be moral?\"\n",
      "\n",
      "|> Also, I've said that morality is a remnant of evolution.  \n",
      "\n",
      "Really?   And that's why people discuss morality on a daily basis?\n",
      "Because it's a kind of evolutionary hangover, like your little toe?\n",
      "\n",
      "|> Our moral system is based on concepts well practiced in the animal \n",
      "|> kingdom.\n",
      "\n",
      "This must be some novel use of the phrase \"based on\" with which I\n",
      "am not sufficiently familiar.    What do you mean by \"based on\" and \n",
      "what is the significance of it for your argument?\n",
      "\n",
      "|> \n",
      "|> >>So you are basically saying that you think a \"moral\" is an undefinable\n",
      "|> >>term, and that \"moral systems\" don't exist?  If we can't agree on a\n",
      "|> >>definition of these terms, then how can we hope to discuss them?\n",
      "|> >\n",
      "|> >No, it's perfectly clear that I am saying that I know what a moral\n",
      "|> >is in *my* system, but that I can't speak for other people.\n",
      "|> \n",
      "|> But, this doesn't get us anywhere.  Your particular beliefs are irrelevant\n",
      "|> unless you can share them or discuss them...\n",
      "\n",
      "Well, we can.   What would you like to know about my particular moral\n",
      "beliefs?\n",
      "\n",
      "If you raise a topic I've never considered, I'll be quite happy to \n",
      "invent a moral belief out of thin air.\n",
      "\n",
      "jon.\n",
      "\n"
     ]
    }
   ],
   "source": [
    "\n",
    "print(data_selected_train.data[0]) # example text"
   ]
  },
  {
   "cell_type": "code",
   "execution_count": 51,
   "metadata": {},
   "outputs": [],
   "source": [
    "\n",
    "featureExtractText = TfidfVectorizer()\n",
    "model_multinomialNB = MultinomialNB()\n",
    "\n",
    "model = make_pipeline(featureExtractText, model_multinomialNB)\n",
    "\n",
    "model.fit(data_selected_train.data,data_selected_train.target);"
   ]
  },
  {
   "cell_type": "code",
   "execution_count": 52,
   "metadata": {},
   "outputs": [],
   "source": [
    "\n",
    "class_predicted = model.predict(data_selected_test.data)"
   ]
  },
  {
   "cell_type": "code",
   "execution_count": 54,
   "metadata": {},
   "outputs": [
    {
     "data": {
      "text/plain": [
       "array([[195,   1,   5, 116,   2],\n",
       "       [  2, 323,  16,  52,   0],\n",
       "       [  0,   1, 369,  24,   0],\n",
       "       [  2,   0,   5, 391,   0],\n",
       "       [ 35,   0,   9, 161,  46]])"
      ]
     },
     "execution_count": 54,
     "metadata": {},
     "output_type": "execute_result"
    }
   ],
   "source": [
    "# confusion matrix\n",
    "\n",
    "conf_mat = confusion_matrix(data_selected_test.target, class_predicted); conf_mat"
   ]
  },
  {
   "cell_type": "code",
   "execution_count": 74,
   "metadata": {},
   "outputs": [
    {
     "data": {
      "image/png": "[encoded data removed]",
      "text/plain": [
       "<Figure size 864x576 with 1 Axes>"
      ]
     },
     "metadata": {},
     "output_type": "display_data"
    }
   ],
   "source": [
    "\n",
    "fig, axe = plt.subplots(figsize=(12,8))\n",
    "sns.heatmap(conf_mat, annot=True, square=True, cbar=False, fmt=\"d\", xticklabels=data_selected_train.target_names, yticklabels=data_selected_train.target_names)\n",
    "plt.xlabel(\"true values\")\n",
    "plt.ylabel(\"predicted values\")\n",
    "plt.show()"
   ]
  },
  {
   "cell_type": "code",
   "execution_count": 81,
   "metadata": {},
   "outputs": [
    {
     "data": {
      "text/plain": [
       "'sci.space'"
      ]
     },
     "execution_count": 81,
     "metadata": {},
     "output_type": "execute_result"
    }
   ],
   "source": [
    "\n",
    "#Example predict strings\n",
    "\n",
    "def predict_strings(string, m=model, data=data_selected_train):\n",
    "    p = m.predict([string]); #print(p); print(p[0]) ; # predict tanto espera uma listra como entrada como retorna também uma lista\n",
    "    return data.target_names[p[0]]\n",
    "\n",
    "\n",
    "predict_strings(\"space it is a really mean of ...\")"
   ]
  },
  {
   "cell_type": "markdown",
   "metadata": {},
   "source": [
    "## References"
   ]
  },
  {
   "cell_type": "markdown",
   "metadata": {},
   "source": [
    "[1]https://jakevdp.github.io/PythonDataScienceHandbook/05.05-naive-bayes.html\n",
    "<br>\n",
    "[2]https://jakevdp.github.io/PythonDataScienceHandbook/05.04-feature-engineering.html\n",
    "<br>\n",
    "[3]https://scikit-learn.org/stable/datasets/index.html#real-world-datasets\n",
    "<br>"
   ]
  }
 ],
 "metadata": {
  "kernelspec": {
   "display_name": "Python 3",
   "language": "python",
   "name": "python3"
  },
  "language_info": {
   "codemirror_mode": {
    "name": "ipython",
    "version": 3
   },
   "file_extension": ".py",
   "mimetype": "text/x-python",
   "name": "python",
   "nbconvert_exporter": "python",
   "pygments_lexer": "ipython3",
   "version": "3.7.6"
  }
 },
 "nbformat": 4,
 "nbformat_minor": 4
}
