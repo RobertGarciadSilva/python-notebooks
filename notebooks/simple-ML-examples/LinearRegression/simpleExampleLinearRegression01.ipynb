{
 "cells": [
  {
   "cell_type": "markdown",
   "metadata": {},
   "source": [
    "# Simple example Linear regression"
   ]
  },
  {
   "cell_type": "code",
   "execution_count": 1,
   "metadata": {},
   "outputs": [],
   "source": [
    "\n",
    "#imports library\n",
    "\n",
    "import pandas as pd\n",
    "import numpy as np\n",
    "import matplotlib.pyplot as plt\n",
    "\n",
    "import seaborn as sns; sns.set()\n",
    "\n",
    "from sklearn.linear_model import LinearRegression \n",
    "from sklearn.model_selection import train_test_split\n"
   ]
  },
  {
   "cell_type": "code",
   "execution_count": 2,
   "metadata": {},
   "outputs": [],
   "source": [
    "\n",
    "#import data\n",
    "\n",
    "data = pd.read_csv('./simpleData/data01.csv')"
   ]
  },
  {
   "cell_type": "code",
   "execution_count": 3,
   "metadata": {},
   "outputs": [
    {
     "data": {
      "text/html": [
       "<div>\n",
       "<style scoped>\n",
       "    .dataframe tbody tr th:only-of-type {\n",
       "        vertical-align: middle;\n",
       "    }\n",
       "\n",
       "    .dataframe tbody tr th {\n",
       "        vertical-align: top;\n",
       "    }\n",
       "\n",
       "    .dataframe thead th {\n",
       "        text-align: right;\n",
       "    }\n",
       "</style>\n",
       "<table border=\"1\" class=\"dataframe\">\n",
       "  <thead>\n",
       "    <tr style=\"text-align: right;\">\n",
       "      <th></th>\n",
       "      <th>x</th>\n",
       "      <th>y</th>\n",
       "    </tr>\n",
       "  </thead>\n",
       "  <tbody>\n",
       "    <tr>\n",
       "      <th>0</th>\n",
       "      <td>0.771321</td>\n",
       "      <td>8.321688</td>\n",
       "    </tr>\n",
       "    <tr>\n",
       "      <th>1</th>\n",
       "      <td>0.020752</td>\n",
       "      <td>4.149232</td>\n",
       "    </tr>\n",
       "    <tr>\n",
       "      <th>2</th>\n",
       "      <td>0.633648</td>\n",
       "      <td>6.883606</td>\n",
       "    </tr>\n",
       "    <tr>\n",
       "      <th>3</th>\n",
       "      <td>0.748804</td>\n",
       "      <td>8.050260</td>\n",
       "    </tr>\n",
       "    <tr>\n",
       "      <th>4</th>\n",
       "      <td>0.498507</td>\n",
       "      <td>6.929381</td>\n",
       "    </tr>\n",
       "  </tbody>\n",
       "</table>\n",
       "</div>"
      ],
      "text/plain": [
       "          x         y\n",
       "0  0.771321  8.321688\n",
       "1  0.020752  4.149232\n",
       "2  0.633648  6.883606\n",
       "3  0.748804  8.050260\n",
       "4  0.498507  6.929381"
      ]
     },
     "execution_count": 3,
     "metadata": {},
     "output_type": "execute_result"
    }
   ],
   "source": [
    "data.head()"
   ]
  },
  {
   "cell_type": "code",
   "execution_count": 4,
   "metadata": {},
   "outputs": [],
   "source": [
    "\n",
    "# separing data: train and test\n",
    "\n",
    "X = np.array(data['x'])\n",
    "y = np.array(data['y'])\n",
    "\n",
    "X_train, X_test, y_train, y_test = train_test_split(X, y, test_size=0.2, random_state=42)\n",
    "\n"
   ]
  },
  {
   "cell_type": "code",
   "execution_count": 5,
   "metadata": {},
   "outputs": [
    {
     "data": {
      "image/png": "[encoded data removed]",
      "text/plain": [
       "<Figure size 864x432 with 1 Axes>"
      ]
     },
     "metadata": {},
     "output_type": "display_data"
    }
   ],
   "source": [
    "# ploting the train dots\n",
    "\n",
    "fig, ax = plt.subplots(figsize=(12,6))\n",
    "ax.scatter(X_train, y_train, color='r')\n",
    "plt.show()\n"
   ]
  },
  {
   "cell_type": "code",
   "execution_count": 6,
   "metadata": {},
   "outputs": [],
   "source": [
    "# Don't have use\n",
    "\n",
    "#X_train = data.iloc[:,0].values.reshape(-1,1)\n",
    "#y_train = data.iloc[:,1].values.reshape(-1,1)\n",
    "#print('X_train: \\n', X_train, end='\\n\\n'); print('y_train: \\n', y_train)"
   ]
  },
  {
   "cell_type": "code",
   "execution_count": 15,
   "metadata": {},
   "outputs": [
    {
     "name": "stdout",
     "output_type": "stream",
     "text": [
      "Model:  LinearRegression(copy_X=True, fit_intercept=True, n_jobs=None, normalize=False)\n",
      "\n",
      "Accuracy_dataTrain =  0.9628122771569015\n",
      "Accuracy_dataTest =  0.9503291926661015\n"
     ]
    }
   ],
   "source": [
    "\n",
    "\n",
    "model = LinearRegression()\n",
    "model.fit(X_train[:, np.newaxis], y_train) # X_train[:, np.newaxis] = X_train.reshape(-1,1), ou seja, transformando um array de uma dimensão (1D) para duas (2D) necessário para a entrada da função .fit \n",
    "print('Model: ', model, end='\\n\\n')\n",
    "\n",
    "accuracy_dataTrain = model.score(X_train[:, np.newaxis], y_train)\n",
    "accuracy_dataTest = model.score(X_test[:, np.newaxis], y_test)\n",
    "\n",
    "print('Accuracy_dataTrain = ', accuracy_dataTrain)\n",
    "print('Accuracy_dataTest = ', accuracy_dataTest)\n"
   ]
  },
  {
   "cell_type": "code",
   "execution_count": 119,
   "metadata": {},
   "outputs": [
    {
     "name": "stdout",
     "output_type": "stream",
     "text": [
      "Slope:  5.865356257293236\n",
      "Intercept:  3.5921711069585935\n"
     ]
    }
   ],
   "source": [
    "\n",
    "# slope and intercept axis\n",
    "\n",
    "print('Slope: ', model.coef_[0])\n",
    "print('Intercept: ', model.intercept_)\n"
   ]
  },
  {
   "cell_type": "code",
   "execution_count": 127,
   "metadata": {},
   "outputs": [
    {
     "data": {
      "text/html": [
       "<div>\n",
       "<style scoped>\n",
       "    .dataframe tbody tr th:only-of-type {\n",
       "        vertical-align: middle;\n",
       "    }\n",
       "\n",
       "    .dataframe tbody tr th {\n",
       "        vertical-align: top;\n",
       "    }\n",
       "\n",
       "    .dataframe thead th {\n",
       "        text-align: right;\n",
       "    }\n",
       "</style>\n",
       "<table border=\"1\" class=\"dataframe\">\n",
       "  <thead>\n",
       "    <tr style=\"text-align: right;\">\n",
       "      <th></th>\n",
       "      <th>X</th>\n",
       "      <th>y_predicted</th>\n",
       "      <th>y_real_value</th>\n",
       "    </tr>\n",
       "  </thead>\n",
       "  <tbody>\n",
       "    <tr>\n",
       "      <th>0</th>\n",
       "      <td>0.262216</td>\n",
       "      <td>5.130159</td>\n",
       "      <td>4.590856</td>\n",
       "    </tr>\n",
       "    <tr>\n",
       "      <th>1</th>\n",
       "      <td>0.151152</td>\n",
       "      <td>4.478732</td>\n",
       "      <td>4.889755</td>\n",
       "    </tr>\n",
       "    <tr>\n",
       "      <th>2</th>\n",
       "      <td>0.039959</td>\n",
       "      <td>3.826546</td>\n",
       "      <td>4.179013</td>\n",
       "    </tr>\n",
       "    <tr>\n",
       "      <th>3</th>\n",
       "      <td>0.754648</td>\n",
       "      <td>8.018449</td>\n",
       "      <td>8.378506</td>\n",
       "    </tr>\n",
       "    <tr>\n",
       "      <th>4</th>\n",
       "      <td>0.351653</td>\n",
       "      <td>5.654739</td>\n",
       "      <td>5.810951</td>\n",
       "    </tr>\n",
       "    <tr>\n",
       "      <th>5</th>\n",
       "      <td>0.626287</td>\n",
       "      <td>7.265568</td>\n",
       "      <td>7.931202</td>\n",
       "    </tr>\n",
       "    <tr>\n",
       "      <th>6</th>\n",
       "      <td>0.373341</td>\n",
       "      <td>5.781948</td>\n",
       "      <td>5.368300</td>\n",
       "    </tr>\n",
       "    <tr>\n",
       "      <th>7</th>\n",
       "      <td>0.605578</td>\n",
       "      <td>7.144099</td>\n",
       "      <td>7.214290</td>\n",
       "    </tr>\n",
       "    <tr>\n",
       "      <th>8</th>\n",
       "      <td>0.685360</td>\n",
       "      <td>7.612051</td>\n",
       "      <td>7.471835</td>\n",
       "    </tr>\n",
       "    <tr>\n",
       "      <th>9</th>\n",
       "      <td>0.771321</td>\n",
       "      <td>8.116241</td>\n",
       "      <td>8.321688</td>\n",
       "    </tr>\n",
       "    <tr>\n",
       "      <th>10</th>\n",
       "      <td>0.917774</td>\n",
       "      <td>8.975243</td>\n",
       "      <td>9.569637</td>\n",
       "    </tr>\n",
       "    <tr>\n",
       "      <th>11</th>\n",
       "      <td>0.805223</td>\n",
       "      <td>8.315092</td>\n",
       "      <td>8.129674</td>\n",
       "    </tr>\n",
       "    <tr>\n",
       "      <th>12</th>\n",
       "      <td>0.636491</td>\n",
       "      <td>7.325418</td>\n",
       "      <td>7.756220</td>\n",
       "    </tr>\n",
       "    <tr>\n",
       "      <th>13</th>\n",
       "      <td>0.319236</td>\n",
       "      <td>5.464604</td>\n",
       "      <td>5.373110</td>\n",
       "    </tr>\n",
       "    <tr>\n",
       "      <th>14</th>\n",
       "      <td>0.475132</td>\n",
       "      <td>6.378991</td>\n",
       "      <td>5.964384</td>\n",
       "    </tr>\n",
       "    <tr>\n",
       "      <th>15</th>\n",
       "      <td>0.498507</td>\n",
       "      <td>6.516092</td>\n",
       "      <td>6.929381</td>\n",
       "    </tr>\n",
       "    <tr>\n",
       "      <th>16</th>\n",
       "      <td>0.879915</td>\n",
       "      <td>8.753187</td>\n",
       "      <td>9.180049</td>\n",
       "    </tr>\n",
       "    <tr>\n",
       "      <th>17</th>\n",
       "      <td>0.763241</td>\n",
       "      <td>8.068849</td>\n",
       "      <td>7.790694</td>\n",
       "    </tr>\n",
       "    <tr>\n",
       "      <th>18</th>\n",
       "      <td>0.003948</td>\n",
       "      <td>3.615329</td>\n",
       "      <td>3.831850</td>\n",
       "    </tr>\n",
       "    <tr>\n",
       "      <th>19</th>\n",
       "      <td>0.521647</td>\n",
       "      <td>6.651817</td>\n",
       "      <td>6.780773</td>\n",
       "    </tr>\n",
       "  </tbody>\n",
       "</table>\n",
       "</div>"
      ],
      "text/plain": [
       "           X  y_predicted  y_real_value\n",
       "0   0.262216     5.130159      4.590856\n",
       "1   0.151152     4.478732      4.889755\n",
       "2   0.039959     3.826546      4.179013\n",
       "3   0.754648     8.018449      8.378506\n",
       "4   0.351653     5.654739      5.810951\n",
       "5   0.626287     7.265568      7.931202\n",
       "6   0.373341     5.781948      5.368300\n",
       "7   0.605578     7.144099      7.214290\n",
       "8   0.685360     7.612051      7.471835\n",
       "9   0.771321     8.116241      8.321688\n",
       "10  0.917774     8.975243      9.569637\n",
       "11  0.805223     8.315092      8.129674\n",
       "12  0.636491     7.325418      7.756220\n",
       "13  0.319236     5.464604      5.373110\n",
       "14  0.475132     6.378991      5.964384\n",
       "15  0.498507     6.516092      6.929381\n",
       "16  0.879915     8.753187      9.180049\n",
       "17  0.763241     8.068849      7.790694\n",
       "18  0.003948     3.615329      3.831850\n",
       "19  0.521647     6.651817      6.780773"
      ]
     },
     "execution_count": 127,
     "metadata": {},
     "output_type": "execute_result"
    }
   ],
   "source": [
    "\n",
    "# predicted vs real values\n",
    "\n",
    "predicted = model.predict(X_test[:, np.newaxis])\n",
    "\n",
    "pred = [] \n",
    "\n",
    "for i in range(len(predicted)):\n",
    "    pred.append([X_test[i], predicted[i], y_test[i]])\n",
    "    \n",
    "dfCompare = pd.DataFrame(pred, columns=['X', 'y_predicted', 'y_real_value'])\n",
    "dfCompare"
   ]
  },
  {
   "cell_type": "code",
   "execution_count": 138,
   "metadata": {},
   "outputs": [
    {
     "data": {
      "image/png": "[encoded data removed]",
      "text/plain": [
       "<Figure size 648x432 with 1 Axes>"
      ]
     },
     "metadata": {},
     "output_type": "display_data"
    }
   ],
   "source": [
    "\n",
    "\n",
    "# plot dots and predicted to data test\n",
    "\n",
    "fig, ax = plt.subplots(figsize=(9,6))\n",
    "\n",
    "ax.scatter(dfCompare['X'], dfCompare['y_real_value'], color='r', label='real-value')\n",
    "ax.scatter(dfCompare['X'], dfCompare['y_predicted'], label='predicted')\n",
    "ax.plot(dfCompare['X'], dfCompare['y_predicted'], label='fit_line_predicted', color='green')\n",
    "ax.legend()\n",
    "plt.show()\n"
   ]
  },
  {
   "cell_type": "code",
   "execution_count": null,
   "metadata": {},
   "outputs": [],
   "source": []
  }
 ],
 "metadata": {
  "kernelspec": {
   "display_name": "Python 3",
   "language": "python",
   "name": "python3"
  },
  "language_info": {
   "codemirror_mode": {
    "name": "ipython",
    "version": 3
   },
   "file_extension": ".py",
   "mimetype": "text/x-python",
   "name": "python",
   "nbconvert_exporter": "python",
   "pygments_lexer": "ipython3",
   "version": "3.7.6"
  }
 },
 "nbformat": 4,
 "nbformat_minor": 4
}
