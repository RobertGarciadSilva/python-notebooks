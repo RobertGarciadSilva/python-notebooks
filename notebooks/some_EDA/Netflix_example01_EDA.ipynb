{
 "cells": [
  {
   "cell_type": "markdown",
   "metadata": {},
   "source": [
    "## EDA - Netflix Movies and TV Shows (Movies and TV Shows listings on Netflix)"
   ]
  },
  {
   "cell_type": "code",
   "execution_count": 1,
   "metadata": {},
   "outputs": [],
   "source": [
    "\n",
    "#Libraries\n",
    "\n",
    "import pandas as pd\n",
    "import numpy as np\n",
    "import matplotlib.pyplot as plt\n",
    "import seaborn as sns\n"
   ]
  },
  {
   "cell_type": "code",
   "execution_count": 2,
   "metadata": {},
   "outputs": [],
   "source": [
    "\n",
    "#Import data\n",
    "\n",
    "data = pd.read_csv('./data/netflix_titles.csv')"
   ]
  },
  {
   "cell_type": "markdown",
   "metadata": {},
   "source": [
    "## Overview"
   ]
  },
  {
   "cell_type": "code",
   "execution_count": 3,
   "metadata": {},
   "outputs": [
    {
     "data": {
      "text/html": [
       "<div>\n",
       "<style scoped>\n",
       "    .dataframe tbody tr th:only-of-type {\n",
       "        vertical-align: middle;\n",
       "    }\n",
       "\n",
       "    .dataframe tbody tr th {\n",
       "        vertical-align: top;\n",
       "    }\n",
       "\n",
       "    .dataframe thead th {\n",
       "        text-align: right;\n",
       "    }\n",
       "</style>\n",
       "<table border=\"1\" class=\"dataframe\">\n",
       "  <thead>\n",
       "    <tr style=\"text-align: right;\">\n",
       "      <th></th>\n",
       "      <th>show_id</th>\n",
       "      <th>type</th>\n",
       "      <th>title</th>\n",
       "      <th>director</th>\n",
       "      <th>cast</th>\n",
       "      <th>country</th>\n",
       "      <th>date_added</th>\n",
       "      <th>release_year</th>\n",
       "      <th>rating</th>\n",
       "      <th>duration</th>\n",
       "      <th>listed_in</th>\n",
       "      <th>description</th>\n",
       "    </tr>\n",
       "  </thead>\n",
       "  <tbody>\n",
       "    <tr>\n",
       "      <th>0</th>\n",
       "      <td>81145628</td>\n",
       "      <td>Movie</td>\n",
       "      <td>Norm of the North: King Sized Adventure</td>\n",
       "      <td>Richard Finn, Tim Maltby</td>\n",
       "      <td>Alan Marriott, Andrew Toth, Brian Dobson, Cole...</td>\n",
       "      <td>United States, India, South Korea, China</td>\n",
       "      <td>September 9, 2019</td>\n",
       "      <td>2019</td>\n",
       "      <td>TV-PG</td>\n",
       "      <td>90 min</td>\n",
       "      <td>Children &amp; Family Movies, Comedies</td>\n",
       "      <td>Before planning an awesome wedding for his gra...</td>\n",
       "    </tr>\n",
       "    <tr>\n",
       "      <th>1</th>\n",
       "      <td>80117401</td>\n",
       "      <td>Movie</td>\n",
       "      <td>Jandino: Whatever it Takes</td>\n",
       "      <td>NaN</td>\n",
       "      <td>Jandino Asporaat</td>\n",
       "      <td>United Kingdom</td>\n",
       "      <td>September 9, 2016</td>\n",
       "      <td>2016</td>\n",
       "      <td>TV-MA</td>\n",
       "      <td>94 min</td>\n",
       "      <td>Stand-Up Comedy</td>\n",
       "      <td>Jandino Asporaat riffs on the challenges of ra...</td>\n",
       "    </tr>\n",
       "    <tr>\n",
       "      <th>2</th>\n",
       "      <td>70234439</td>\n",
       "      <td>TV Show</td>\n",
       "      <td>Transformers Prime</td>\n",
       "      <td>NaN</td>\n",
       "      <td>Peter Cullen, Sumalee Montano, Frank Welker, J...</td>\n",
       "      <td>United States</td>\n",
       "      <td>September 8, 2018</td>\n",
       "      <td>2013</td>\n",
       "      <td>TV-Y7-FV</td>\n",
       "      <td>1 Season</td>\n",
       "      <td>Kids' TV</td>\n",
       "      <td>With the help of three human allies, the Autob...</td>\n",
       "    </tr>\n",
       "    <tr>\n",
       "      <th>3</th>\n",
       "      <td>80058654</td>\n",
       "      <td>TV Show</td>\n",
       "      <td>Transformers: Robots in Disguise</td>\n",
       "      <td>NaN</td>\n",
       "      <td>Will Friedle, Darren Criss, Constance Zimmer, ...</td>\n",
       "      <td>United States</td>\n",
       "      <td>September 8, 2018</td>\n",
       "      <td>2016</td>\n",
       "      <td>TV-Y7</td>\n",
       "      <td>1 Season</td>\n",
       "      <td>Kids' TV</td>\n",
       "      <td>When a prison ship crash unleashes hundreds of...</td>\n",
       "    </tr>\n",
       "    <tr>\n",
       "      <th>4</th>\n",
       "      <td>80125979</td>\n",
       "      <td>Movie</td>\n",
       "      <td>#realityhigh</td>\n",
       "      <td>Fernando Lebrija</td>\n",
       "      <td>Nesta Cooper, Kate Walsh, John Michael Higgins...</td>\n",
       "      <td>United States</td>\n",
       "      <td>September 8, 2017</td>\n",
       "      <td>2017</td>\n",
       "      <td>TV-14</td>\n",
       "      <td>99 min</td>\n",
       "      <td>Comedies</td>\n",
       "      <td>When nerdy high schooler Dani finally attracts...</td>\n",
       "    </tr>\n",
       "  </tbody>\n",
       "</table>\n",
       "</div>"
      ],
      "text/plain": [
       "    show_id     type                                    title  \\\n",
       "0  81145628    Movie  Norm of the North: King Sized Adventure   \n",
       "1  80117401    Movie               Jandino: Whatever it Takes   \n",
       "2  70234439  TV Show                       Transformers Prime   \n",
       "3  80058654  TV Show         Transformers: Robots in Disguise   \n",
       "4  80125979    Movie                             #realityhigh   \n",
       "\n",
       "                   director  \\\n",
       "0  Richard Finn, Tim Maltby   \n",
       "1                       NaN   \n",
       "2                       NaN   \n",
       "3                       NaN   \n",
       "4          Fernando Lebrija   \n",
       "\n",
       "                                                cast  \\\n",
       "0  Alan Marriott, Andrew Toth, Brian Dobson, Cole...   \n",
       "1                                   Jandino Asporaat   \n",
       "2  Peter Cullen, Sumalee Montano, Frank Welker, J...   \n",
       "3  Will Friedle, Darren Criss, Constance Zimmer, ...   \n",
       "4  Nesta Cooper, Kate Walsh, John Michael Higgins...   \n",
       "\n",
       "                                    country         date_added  release_year  \\\n",
       "0  United States, India, South Korea, China  September 9, 2019          2019   \n",
       "1                            United Kingdom  September 9, 2016          2016   \n",
       "2                             United States  September 8, 2018          2013   \n",
       "3                             United States  September 8, 2018          2016   \n",
       "4                             United States  September 8, 2017          2017   \n",
       "\n",
       "     rating  duration                           listed_in  \\\n",
       "0     TV-PG    90 min  Children & Family Movies, Comedies   \n",
       "1     TV-MA    94 min                     Stand-Up Comedy   \n",
       "2  TV-Y7-FV  1 Season                            Kids' TV   \n",
       "3     TV-Y7  1 Season                            Kids' TV   \n",
       "4     TV-14    99 min                            Comedies   \n",
       "\n",
       "                                         description  \n",
       "0  Before planning an awesome wedding for his gra...  \n",
       "1  Jandino Asporaat riffs on the challenges of ra...  \n",
       "2  With the help of three human allies, the Autob...  \n",
       "3  When a prison ship crash unleashes hundreds of...  \n",
       "4  When nerdy high schooler Dani finally attracts...  "
      ]
     },
     "execution_count": 3,
     "metadata": {},
     "output_type": "execute_result"
    }
   ],
   "source": [
    "\n",
    "#data head\n",
    "data.head()"
   ]
  },
  {
   "cell_type": "code",
   "execution_count": 4,
   "metadata": {},
   "outputs": [
    {
     "name": "stdout",
     "output_type": "stream",
     "text": [
      "<class 'pandas.core.frame.DataFrame'>\n",
      "RangeIndex: 6234 entries, 0 to 6233\n",
      "Data columns (total 12 columns):\n",
      " #   Column        Non-Null Count  Dtype \n",
      "---  ------        --------------  ----- \n",
      " 0   show_id       6234 non-null   int64 \n",
      " 1   type          6234 non-null   object\n",
      " 2   title         6234 non-null   object\n",
      " 3   director      4265 non-null   object\n",
      " 4   cast          5664 non-null   object\n",
      " 5   country       5758 non-null   object\n",
      " 6   date_added    6223 non-null   object\n",
      " 7   release_year  6234 non-null   int64 \n",
      " 8   rating        6224 non-null   object\n",
      " 9   duration      6234 non-null   object\n",
      " 10  listed_in     6234 non-null   object\n",
      " 11  description   6234 non-null   object\n",
      "dtypes: int64(2), object(10)\n",
      "memory usage: 584.6+ KB\n"
     ]
    }
   ],
   "source": [
    "data.info()"
   ]
  },
  {
   "cell_type": "code",
   "execution_count": 5,
   "metadata": {},
   "outputs": [
    {
     "data": {
      "text/plain": [
       "show_id            0\n",
       "type               0\n",
       "title              0\n",
       "director        1969\n",
       "cast             570\n",
       "country          476\n",
       "date_added        11\n",
       "release_year       0\n",
       "rating            10\n",
       "duration           0\n",
       "listed_in          0\n",
       "description        0\n",
       "dtype: int64"
      ]
     },
     "execution_count": 5,
     "metadata": {},
     "output_type": "execute_result"
    }
   ],
   "source": [
    "#Quantidade de valores NA em cada feature\n",
    "data.isna().sum()"
   ]
  },
  {
   "cell_type": "markdown",
   "metadata": {},
   "source": [
    "## Overview columns"
   ]
  },
  {
   "cell_type": "markdown",
   "metadata": {},
   "source": [
    "### Column \"show_id\""
   ]
  },
  {
   "cell_type": "code",
   "execution_count": 6,
   "metadata": {},
   "outputs": [
    {
     "data": {
      "text/plain": [
       "6234"
      ]
     },
     "execution_count": 6,
     "metadata": {},
     "output_type": "execute_result"
    }
   ],
   "source": [
    "data['show_id'].nunique()"
   ]
  },
  {
   "cell_type": "markdown",
   "metadata": {},
   "source": [
    "<ul>\n",
    "    <li>Pode-se observar que a coluna <b>show_id</b> contém de fato um único id para cada registro, <b>varivável qualitativa nominal</b>.</li>\n",
    "</ul>"
   ]
  },
  {
   "cell_type": "markdown",
   "metadata": {},
   "source": [
    "### Column \"type\""
   ]
  },
  {
   "cell_type": "code",
   "execution_count": 7,
   "metadata": {},
   "outputs": [
    {
     "data": {
      "text/plain": [
       "Movie      0.684151\n",
       "TV Show    0.315849\n",
       "Name: type, dtype: float64"
      ]
     },
     "execution_count": 7,
     "metadata": {},
     "output_type": "execute_result"
    }
   ],
   "source": [
    "data['type'].value_counts(normalize=True)"
   ]
  },
  {
   "cell_type": "code",
   "execution_count": 8,
   "metadata": {},
   "outputs": [
    {
     "data": {
      "image/png": "[encoded data removed]",
      "text/plain": [
       "<Figure size 432x288 with 1 Axes>"
      ]
     },
     "metadata": {
      "needs_background": "light"
     },
     "output_type": "display_data"
    }
   ],
   "source": [
    "\n",
    "sns.histplot(x='type', data=data)\n",
    "plt.title('Histograma column \"type\"')\n",
    "plt.yticks(data['type'].value_counts())\n",
    "plt.grid(alpha=0.5)\n",
    "\n",
    "plt.show()"
   ]
  },
  {
   "cell_type": "markdown",
   "metadata": {},
   "source": [
    "<ul>\n",
    "    <li><b>Variável qualitativa nominal</b>, pode-se observar que o número de registros contendo \"Movie\" (Filmes) é superior a \"TV Show\" (Séries), sendo, <br>\n",
    "        - Movie: 4257<br>\n",
    "        - TV Show: 1967, <br>\n",
    "        Em termos percentuais, aproximadamente,<br>\n",
    "        - Movie: 68%<br>\n",
    "        - TV Show: 32%<br>\n",
    "        </li>\n",
    "</ul>"
   ]
  },
  {
   "cell_type": "markdown",
   "metadata": {},
   "source": [
    "### Column \"title\""
   ]
  },
  {
   "cell_type": "code",
   "execution_count": 9,
   "metadata": {},
   "outputs": [
    {
     "data": {
      "text/plain": [
       "6172"
      ]
     },
     "execution_count": 9,
     "metadata": {},
     "output_type": "execute_result"
    }
   ],
   "source": [
    "#Quantidade de valores unicos\n",
    "data['title'].nunique()"
   ]
  },
  {
   "cell_type": "code",
   "execution_count": 10,
   "metadata": {},
   "outputs": [
    {
     "data": {
      "text/plain": [
       "Index(['Aquarius', 'Benji', 'Bleach', 'Blood Money', 'Carrie', 'Charmed',\n",
       "       'Deep', 'Don', 'Drive', 'Frank and Cindy', 'Godzilla', 'Hostages',\n",
       "       'Kakegurui', 'Lavender', 'Life', 'Limitless',\n",
       "       'Little Baby Bum: Nursery Rhyme Friends', 'Locked Up', 'Love',\n",
       "       'Love O2O', 'Lovesick', 'Manhunt', 'Maniac', 'Oh My Ghost', 'One Day',\n",
       "       'People You May Know', 'Persona', 'Prince', 'Retribution',\n",
       "       'Rosario Tijeras', 'Sarkar', 'Shadow', 'She's Gotta Have It', 'Skins',\n",
       "       'Solo', 'Supergirl', 'The Birth Reborn', 'The Code', 'The Gift',\n",
       "       'The In-Laws', 'The Innocents', 'The Iron Lady', 'The Lovers',\n",
       "       'The Oath', 'The Outsider', 'The Saint', 'The Secret', 'The Silence',\n",
       "       'Tiger', 'Top Boy', 'Troy', 'Tunnel', 'Us and Them', 'We Are Family',\n",
       "       'Wet Hot American Summer', 'Zoo', 'Zoom'],\n",
       "      dtype='object')"
      ]
     },
     "execution_count": 10,
     "metadata": {},
     "output_type": "execute_result"
    }
   ],
   "source": [
    "\n",
    "# Contém todos os títulos que aparecem mais de uma vez\n",
    "\n",
    "same_title = data['title'].value_counts()[data['title'].value_counts() > 1].keys().sort_values()\n",
    "same_title\n",
    "\n",
    "\n",
    "#data['title'].value_counts()[data['title'].value_counts() > 1] #contém todos os títulos que aparecem mais de uma vez e a quantidade de vezes que aparecem. "
   ]
  },
  {
   "cell_type": "code",
   "execution_count": 11,
   "metadata": {},
   "outputs": [
    {
     "data": {
      "text/html": [
       "<div>\n",
       "<style scoped>\n",
       "    .dataframe tbody tr th:only-of-type {\n",
       "        vertical-align: middle;\n",
       "    }\n",
       "\n",
       "    .dataframe tbody tr th {\n",
       "        vertical-align: top;\n",
       "    }\n",
       "\n",
       "    .dataframe thead th {\n",
       "        text-align: right;\n",
       "    }\n",
       "</style>\n",
       "<table border=\"1\" class=\"dataframe\">\n",
       "  <thead>\n",
       "    <tr style=\"text-align: right;\">\n",
       "      <th></th>\n",
       "      <th>show_id</th>\n",
       "      <th>type</th>\n",
       "      <th>title</th>\n",
       "      <th>director</th>\n",
       "      <th>cast</th>\n",
       "      <th>country</th>\n",
       "      <th>date_added</th>\n",
       "      <th>release_year</th>\n",
       "      <th>rating</th>\n",
       "      <th>duration</th>\n",
       "      <th>listed_in</th>\n",
       "      <th>description</th>\n",
       "    </tr>\n",
       "  </thead>\n",
       "  <tbody>\n",
       "    <tr>\n",
       "      <th>5905</th>\n",
       "      <td>80026224</td>\n",
       "      <td>TV Show</td>\n",
       "      <td>Aquarius</td>\n",
       "      <td>NaN</td>\n",
       "      <td>David Duchovny, Gethin Anthony, Grey Damon, Em...</td>\n",
       "      <td>United States</td>\n",
       "      <td>June 16, 2017</td>\n",
       "      <td>2016</td>\n",
       "      <td>TV-MA</td>\n",
       "      <td>2 Seasons</td>\n",
       "      <td>Crime TV Shows, TV Dramas</td>\n",
       "      <td>Amid the turmoil of 1960s LA, two cops and a p...</td>\n",
       "    </tr>\n",
       "    <tr>\n",
       "      <th>3441</th>\n",
       "      <td>80113667</td>\n",
       "      <td>Movie</td>\n",
       "      <td>Aquarius</td>\n",
       "      <td>Kleber Mendonça Filho</td>\n",
       "      <td>Sonia Braga, Maeve Jinkings, Irandhir Santos, ...</td>\n",
       "      <td>Brazil, France</td>\n",
       "      <td>January 13, 2017</td>\n",
       "      <td>2016</td>\n",
       "      <td>UR</td>\n",
       "      <td>146 min</td>\n",
       "      <td>Dramas, International Movies</td>\n",
       "      <td>The final holdout in her historic beachside bu...</td>\n",
       "    </tr>\n",
       "    <tr>\n",
       "      <th>2159</th>\n",
       "      <td>80204923</td>\n",
       "      <td>Movie</td>\n",
       "      <td>Benji</td>\n",
       "      <td>Brandon Camp</td>\n",
       "      <td>Gabriel Bateman, Darby Camp, Kiele Sanchez, Je...</td>\n",
       "      <td>United Arab Emirates, United States</td>\n",
       "      <td>March 16, 2018</td>\n",
       "      <td>2018</td>\n",
       "      <td>TV-PG</td>\n",
       "      <td>87 min</td>\n",
       "      <td>Children &amp; Family Movies, Dramas</td>\n",
       "      <td>A determined dog comes to the rescue and helps...</td>\n",
       "    </tr>\n",
       "    <tr>\n",
       "      <th>1969</th>\n",
       "      <td>296682</td>\n",
       "      <td>Movie</td>\n",
       "      <td>Benji</td>\n",
       "      <td>Joe Camp</td>\n",
       "      <td>Benji, Deborah Walley, Peter Breck, Edgar Buch...</td>\n",
       "      <td>United States</td>\n",
       "      <td>March 6, 2018</td>\n",
       "      <td>1974</td>\n",
       "      <td>G</td>\n",
       "      <td>86 min</td>\n",
       "      <td>Children &amp; Family Movies, Classic Movies</td>\n",
       "      <td>After lovable abandoned mutt Benji is adopted ...</td>\n",
       "    </tr>\n",
       "    <tr>\n",
       "      <th>5724</th>\n",
       "      <td>70204957</td>\n",
       "      <td>TV Show</td>\n",
       "      <td>Bleach</td>\n",
       "      <td>NaN</td>\n",
       "      <td>Masakazu Morita, Fumiko Orikasa, Yuki Matsuoka...</td>\n",
       "      <td>Japan</td>\n",
       "      <td>November 3, 2018</td>\n",
       "      <td>2006</td>\n",
       "      <td>TV-14</td>\n",
       "      <td>3 Seasons</td>\n",
       "      <td>Anime Series, International TV Shows</td>\n",
       "      <td>After teenager Ichigo Kurosaki acquires superp...</td>\n",
       "    </tr>\n",
       "    <tr>\n",
       "      <th>...</th>\n",
       "      <td>...</td>\n",
       "      <td>...</td>\n",
       "      <td>...</td>\n",
       "      <td>...</td>\n",
       "      <td>...</td>\n",
       "      <td>...</td>\n",
       "      <td>...</td>\n",
       "      <td>...</td>\n",
       "      <td>...</td>\n",
       "      <td>...</td>\n",
       "      <td>...</td>\n",
       "      <td>...</td>\n",
       "    </tr>\n",
       "    <tr>\n",
       "      <th>2320</th>\n",
       "      <td>60021299</td>\n",
       "      <td>Movie</td>\n",
       "      <td>Wet Hot American Summer</td>\n",
       "      <td>David Wain</td>\n",
       "      <td>Janeane Garofalo, David Hyde Pierce, Michael S...</td>\n",
       "      <td>United States</td>\n",
       "      <td>March 1, 2019</td>\n",
       "      <td>2001</td>\n",
       "      <td>R</td>\n",
       "      <td>98 min</td>\n",
       "      <td>Comedies, Cult Movies, Independent Movies</td>\n",
       "      <td>Everyone wants a final shot at action on the l...</td>\n",
       "    </tr>\n",
       "    <tr>\n",
       "      <th>3131</th>\n",
       "      <td>80993648</td>\n",
       "      <td>Movie</td>\n",
       "      <td>Zoo</td>\n",
       "      <td>Shlok Sharma</td>\n",
       "      <td>Shashank Arora, Shweta Tripathi, Rahul Kumar, ...</td>\n",
       "      <td>India</td>\n",
       "      <td>July 1, 2018</td>\n",
       "      <td>2018</td>\n",
       "      <td>TV-MA</td>\n",
       "      <td>94 min</td>\n",
       "      <td>Dramas, Independent Movies, International Movies</td>\n",
       "      <td>A drug dealer starts having doubts about his t...</td>\n",
       "    </tr>\n",
       "    <tr>\n",
       "      <th>5656</th>\n",
       "      <td>80011206</td>\n",
       "      <td>TV Show</td>\n",
       "      <td>Zoo</td>\n",
       "      <td>NaN</td>\n",
       "      <td>James Wolk, Kristen Connolly, Nonso Anozie, No...</td>\n",
       "      <td>United States</td>\n",
       "      <td>October 3, 2017</td>\n",
       "      <td>2017</td>\n",
       "      <td>TV-14</td>\n",
       "      <td>3 Seasons</td>\n",
       "      <td>TV Dramas, TV Mysteries, TV Sci-Fi &amp; Fantasy</td>\n",
       "      <td>When animal species all over the world begin a...</td>\n",
       "    </tr>\n",
       "    <tr>\n",
       "      <th>3456</th>\n",
       "      <td>81221873</td>\n",
       "      <td>Movie</td>\n",
       "      <td>Zoom</td>\n",
       "      <td>Peter Hewitt</td>\n",
       "      <td>Tim Allen, Courteney Cox, Chevy Chase, Kate Ma...</td>\n",
       "      <td>United States</td>\n",
       "      <td>January 11, 2020</td>\n",
       "      <td>2006</td>\n",
       "      <td>PG</td>\n",
       "      <td>88 min</td>\n",
       "      <td>Children &amp; Family Movies, Comedies</td>\n",
       "      <td>Dragged from civilian life, a former superhero...</td>\n",
       "    </tr>\n",
       "    <tr>\n",
       "      <th>4567</th>\n",
       "      <td>80093812</td>\n",
       "      <td>Movie</td>\n",
       "      <td>Zoom</td>\n",
       "      <td>Pedro Morelli</td>\n",
       "      <td>Gael García Bernal, Alison Pill, Mariana Ximen...</td>\n",
       "      <td>Brazil, Canada</td>\n",
       "      <td>December 15, 2016</td>\n",
       "      <td>2015</td>\n",
       "      <td>NR</td>\n",
       "      <td>93 min</td>\n",
       "      <td>Comedies, Dramas, Independent Movies</td>\n",
       "      <td>Comic book artist Emma draws her ideal man: Ed...</td>\n",
       "    </tr>\n",
       "  </tbody>\n",
       "</table>\n",
       "<p>119 rows × 12 columns</p>\n",
       "</div>"
      ],
      "text/plain": [
       "       show_id     type                    title               director  \\\n",
       "5905  80026224  TV Show                 Aquarius                    NaN   \n",
       "3441  80113667    Movie                 Aquarius  Kleber Mendonça Filho   \n",
       "2159  80204923    Movie                    Benji           Brandon Camp   \n",
       "1969    296682    Movie                    Benji               Joe Camp   \n",
       "5724  70204957  TV Show                   Bleach                    NaN   \n",
       "...        ...      ...                      ...                    ...   \n",
       "2320  60021299    Movie  Wet Hot American Summer             David Wain   \n",
       "3131  80993648    Movie                      Zoo           Shlok Sharma   \n",
       "5656  80011206  TV Show                      Zoo                    NaN   \n",
       "3456  81221873    Movie                     Zoom           Peter Hewitt   \n",
       "4567  80093812    Movie                     Zoom          Pedro Morelli   \n",
       "\n",
       "                                                   cast  \\\n",
       "5905  David Duchovny, Gethin Anthony, Grey Damon, Em...   \n",
       "3441  Sonia Braga, Maeve Jinkings, Irandhir Santos, ...   \n",
       "2159  Gabriel Bateman, Darby Camp, Kiele Sanchez, Je...   \n",
       "1969  Benji, Deborah Walley, Peter Breck, Edgar Buch...   \n",
       "5724  Masakazu Morita, Fumiko Orikasa, Yuki Matsuoka...   \n",
       "...                                                 ...   \n",
       "2320  Janeane Garofalo, David Hyde Pierce, Michael S...   \n",
       "3131  Shashank Arora, Shweta Tripathi, Rahul Kumar, ...   \n",
       "5656  James Wolk, Kristen Connolly, Nonso Anozie, No...   \n",
       "3456  Tim Allen, Courteney Cox, Chevy Chase, Kate Ma...   \n",
       "4567  Gael García Bernal, Alison Pill, Mariana Ximen...   \n",
       "\n",
       "                                  country         date_added  release_year  \\\n",
       "5905                        United States      June 16, 2017          2016   \n",
       "3441                       Brazil, France   January 13, 2017          2016   \n",
       "2159  United Arab Emirates, United States     March 16, 2018          2018   \n",
       "1969                        United States      March 6, 2018          1974   \n",
       "5724                                Japan   November 3, 2018          2006   \n",
       "...                                   ...                ...           ...   \n",
       "2320                        United States      March 1, 2019          2001   \n",
       "3131                                India       July 1, 2018          2018   \n",
       "5656                        United States    October 3, 2017          2017   \n",
       "3456                        United States   January 11, 2020          2006   \n",
       "4567                       Brazil, Canada  December 15, 2016          2015   \n",
       "\n",
       "     rating   duration                                         listed_in  \\\n",
       "5905  TV-MA  2 Seasons                         Crime TV Shows, TV Dramas   \n",
       "3441     UR    146 min                      Dramas, International Movies   \n",
       "2159  TV-PG     87 min                  Children & Family Movies, Dramas   \n",
       "1969      G     86 min          Children & Family Movies, Classic Movies   \n",
       "5724  TV-14  3 Seasons              Anime Series, International TV Shows   \n",
       "...     ...        ...                                               ...   \n",
       "2320      R     98 min         Comedies, Cult Movies, Independent Movies   \n",
       "3131  TV-MA     94 min  Dramas, Independent Movies, International Movies   \n",
       "5656  TV-14  3 Seasons      TV Dramas, TV Mysteries, TV Sci-Fi & Fantasy   \n",
       "3456     PG     88 min                Children & Family Movies, Comedies   \n",
       "4567     NR     93 min              Comedies, Dramas, Independent Movies   \n",
       "\n",
       "                                            description  \n",
       "5905  Amid the turmoil of 1960s LA, two cops and a p...  \n",
       "3441  The final holdout in her historic beachside bu...  \n",
       "2159  A determined dog comes to the rescue and helps...  \n",
       "1969  After lovable abandoned mutt Benji is adopted ...  \n",
       "5724  After teenager Ichigo Kurosaki acquires superp...  \n",
       "...                                                 ...  \n",
       "2320  Everyone wants a final shot at action on the l...  \n",
       "3131  A drug dealer starts having doubts about his t...  \n",
       "5656  When animal species all over the world begin a...  \n",
       "3456  Dragged from civilian life, a former superhero...  \n",
       "4567  Comic book artist Emma draws her ideal man: Ed...  \n",
       "\n",
       "[119 rows x 12 columns]"
      ]
     },
     "execution_count": 11,
     "metadata": {},
     "output_type": "execute_result"
    }
   ],
   "source": [
    "\n",
    "# Registros que contém o mesmo título organizados.\n",
    "rowsSame_title = data[data['title'].isin(same_title)].sort_values(by=['title'])\n",
    "rowsSame_title\n"
   ]
  },
  {
   "cell_type": "markdown",
   "metadata": {},
   "source": [
    "Pode-se observar que a coluna <b>title</b> contém alguns valores repetidos, dando uma rápida olhada esses registros aparentam ter mesmo title mas apresentarem características diferentes, apresentam o mesmo título mas não são a mesma obra. \n",
    "\n",
    "<ul>\n",
    "    <li><b>Variável qualitativa nomial.</b></li>\n",
    "</ul><br>\n",
    "Países diferentes e/ou anos diferentes podem contér títulos com mesmo nome mas representarem obras totalmente diferentes. "
   ]
  },
  {
   "cell_type": "markdown",
   "metadata": {},
   "source": [
    "### Column \"listed_in\""
   ]
  },
  {
   "cell_type": "code",
   "execution_count": 87,
   "metadata": {},
   "outputs": [
    {
     "data": {
      "image/png": "[encoded data removed]",
      "text/plain": [
       "<Figure size 864x864 with 2 Axes>"
      ]
     },
     "metadata": {
      "needs_background": "light"
     },
     "output_type": "display_data"
    }
   ],
   "source": [
    "\n",
    "listed_inMaiorIgual50 = data['listed_in'].value_counts()[data['listed_in'].value_counts() >= 50]\n",
    "\n",
    "\n",
    "fig, (axe1,axe2) = plt.subplots(2,1,figsize=(12,12), sharex=True)\n",
    "#fig.subplots_adjust(hspace=0.1)\n",
    "\n",
    "\n",
    "axe1 = sns.barplot(x=listed_inMaiorIgual50.keys(), y=listed_inMaiorIgual50, ax=axe1)\n",
    "axe1.set_title('Frequência de títulos pela categoria em que estão listados (\"listed_in\"), (categorias com frequência >= 50 títulos)')\n",
    "axe1.set_ylabel('Frequência')\n",
    "#axe1.set_xlabel('Categorias')\n",
    "axe1.set_xticklabels(listed_inMaiorIgual50.keys(), rotation='vertical')\n",
    "axe1.grid(alpha=0.5)\n",
    "\n",
    "\n",
    "axe2 = sns.barplot(x=listed_inMaiorIgual50.keys(), y=listed_inMaiorIgual50/len(data['listed_in']), ax=axe2)\n",
    "axe2.set_title('Frequência relativa de títulos pela categoria em que estão listados (\"listed_in\"), (categorias com frequência >= 50 títulos)')\n",
    "axe2.set_ylabel('Frequência relativa')\n",
    "axe2.set_xlabel('Categorias')\n",
    "axe2.set_xticklabels(listed_inMaiorIgual50.keys(),rotation='vertical')\n",
    "axe2.grid(alpha=0.5)\n",
    "\n",
    "plt.show()"
   ]
  },
  {
   "cell_type": "markdown",
   "metadata": {},
   "source": [
    "<ul>\n",
    "    <li><b>Variável categorica nominal.</b></li>\n",
    "</ul><br>\n",
    "Pode-se observar que a maioria dos títulos estão listados em <b>Documentaries</b>.  Alguns títulos são listados em mais de uma categoria. (Categorias com menos de 50 títulos não são mostrados no gráfico acima.)"
   ]
  },
  {
   "cell_type": "code",
   "execution_count": 85,
   "metadata": {},
   "outputs": [
    {
     "data": {
      "text/plain": [
       "Movies                                                               49\n",
       "Action & Adventure, Sci-Fi & Fantasy                                 49\n",
       "Horror Movies, International Movies                                  48\n",
       "Crime TV Shows, International TV Shows, Spanish-Language TV Shows    45\n",
       "Dramas, International Movies, Music & Musicals                       44\n",
       "                                                                     ..\n",
       "Action & Adventure, Comedies, Horror Movies                           1\n",
       "TV Comedies, TV Horror, TV Thrillers                                  1\n",
       "Action & Adventure, Anime Features, Classic Movies                    1\n",
       "Crime TV Shows, International TV Shows, Reality TV                    1\n",
       "Comedies, Independent Movies, Music & Musicals                        1\n",
       "Name: listed_in, Length: 427, dtype: int64"
      ]
     },
     "execution_count": 85,
     "metadata": {},
     "output_type": "execute_result"
    }
   ],
   "source": [
    "\n",
    "#Registros em \"listed_in\" e a frequência com que ocorrem (registros com frequência menor que 50)\n",
    "data['listed_in'].value_counts()[data['listed_in'].value_counts() < 50]\n"
   ]
  },
  {
   "cell_type": "markdown",
   "metadata": {},
   "source": [
    "Pode-se observar que alguns títulos estão listados em tantas categorias de forma que seu registro em <b>listed_in</b> aparece apenas uma vez. Esses dados podem ser trabalados de forma a quebrar essas strings com várias classificações em features separadas, isso pode ser pensando mais adiante. "
   ]
  },
  {
   "cell_type": "markdown",
   "metadata": {},
   "source": [
    "### Column \"release_year\""
   ]
  },
  {
   "cell_type": "code",
   "execution_count": 91,
   "metadata": {},
   "outputs": [
    {
     "data": {
      "image/png": "[encoded data removed]",
      "text/plain": [
       "<Figure size 864x432 with 1 Axes>"
      ]
     },
     "metadata": {
      "needs_background": "light"
     },
     "output_type": "display_data"
    }
   ],
   "source": [
    "\n",
    "fig, axe = plt.subplots(figsize=(12,6))\n",
    "sns.histplot(data['release_year'], ax=axe)\n",
    "axe.grid()\n",
    "\n",
    "plt.show()"
   ]
  },
  {
   "cell_type": "code",
   "execution_count": 14,
   "metadata": {},
   "outputs": [
    {
     "data": {
      "text/plain": [
       "Raúl Campos, Jan Suter    18\n",
       "Marcus Raboy              14\n",
       "Jay Karas                 13\n",
       "Jay Chapman               12\n",
       "Steven Spielberg           9\n",
       "                          ..\n",
       "Patricia Font              1\n",
       "Tom Green                  1\n",
       "Pradip Kurbah              1\n",
       "Ian Nelms, Eshom Nelms     1\n",
       "Sally Potter               1\n",
       "Name: director, Length: 3301, dtype: int64"
      ]
     },
     "execution_count": 14,
     "metadata": {},
     "output_type": "execute_result"
    }
   ],
   "source": [
    "data['director'].value_counts()"
   ]
  },
  {
   "cell_type": "code",
   "execution_count": 15,
   "metadata": {},
   "outputs": [
    {
     "data": {
      "text/plain": [
       "TV-MA       2027\n",
       "TV-14       1698\n",
       "TV-PG        701\n",
       "R            508\n",
       "PG-13        286\n",
       "NR           218\n",
       "PG           184\n",
       "TV-Y7        169\n",
       "TV-G         149\n",
       "TV-Y         143\n",
       "TV-Y7-FV      95\n",
       "G             37\n",
       "UR             7\n",
       "NC-17          2\n",
       "Name: rating, dtype: int64"
      ]
     },
     "execution_count": 15,
     "metadata": {},
     "output_type": "execute_result"
    }
   ],
   "source": [
    "data['rating'].value_counts()"
   ]
  },
  {
   "cell_type": "code",
   "execution_count": 16,
   "metadata": {},
   "outputs": [],
   "source": [
    "\n",
    "#dicionário para a coluna \"rating\" based in [2] and [3]\n",
    "\n",
    "rating_mean = {\n",
    "    'TV-MA':'TV Adultos (18+)',\n",
    "    'TV-14':'TV Jovens adultos (16+)',\n",
    "    'TV-PG':'TV Crianças mais velhas (7+)',\n",
    "    'R':'Filmes Adultos (18+)',\n",
    "    'PG-13':'Filmes Adolescentes (13+)',\n",
    "    'NR':'Filmes Adultos (18+)',\n",
    "    'PG':'Filmes Crianças mais velhas (7+)',\n",
    "    'TV-Y7':'TV Crianças mais velhas (7+)',\n",
    "    'TV-G':'TV Crianças (Todos)',\n",
    "    'TV-Y':'TV Crianças (Todos)',\n",
    "    'TV-Y7-FV':'TV Crianças mais velhas (7+)',\n",
    "    'G':'Filmes Crianças (Todos)',\n",
    "    'UR':'Não classificado',\n",
    "    'NC-17':'Filmes Adultos (18+)'\n",
    "}\n",
    "\n",
    "def new_rating(x):\n",
    "    for k, v in zip(rating_mean.keys(), rating_mean.values()):\n",
    "        if x == k:\n",
    "            return v\n",
    "            \n",
    "data['mean_rating'] = data['rating'].apply(new_rating)"
   ]
  },
  {
   "cell_type": "code",
   "execution_count": 17,
   "metadata": {},
   "outputs": [],
   "source": [
    "\n",
    "data.dropna(subset=['mean_rating'], inplace=True);\n"
   ]
  },
  {
   "cell_type": "code",
   "execution_count": 18,
   "metadata": {},
   "outputs": [
    {
     "data": {
      "text/plain": [
       "TV Adultos (18+)                    2027\n",
       "TV Jovens adultos (16+)             1698\n",
       "TV Crianças mais velhas (7+)         965\n",
       "Filmes Adultos (18+)                 728\n",
       "TV Crianças (Todos)                  292\n",
       "Filmes Adolescentes (13+)            286\n",
       "Filmes Crianças mais velhas (7+)     184\n",
       "Filmes Crianças (Todos)               37\n",
       "Não classificado                       7\n",
       "Name: mean_rating, dtype: int64"
      ]
     },
     "execution_count": 18,
     "metadata": {},
     "output_type": "execute_result"
    }
   ],
   "source": [
    "\n",
    "data['mean_rating'].value_counts()"
   ]
  },
  {
   "cell_type": "code",
   "execution_count": null,
   "metadata": {},
   "outputs": [],
   "source": []
  },
  {
   "cell_type": "code",
   "execution_count": 19,
   "metadata": {},
   "outputs": [
    {
     "data": {
      "image/png": "[encoded data removed]",
      "text/plain": [
       "<Figure size 720x360 with 1 Axes>"
      ]
     },
     "metadata": {
      "needs_background": "light"
     },
     "output_type": "display_data"
    }
   ],
   "source": [
    "\n",
    "fig, axe = plt.subplots(figsize=(10,5))\n",
    "axe = sns.histplot(x='mean_rating', data = data)\n",
    "plt.xticks(rotation='vertical')\n",
    "plt.grid(alpha=0.5)\n",
    "plt.yticks(data['mean_rating'].value_counts().values)\n",
    "\n",
    "\n",
    "plt.show()"
   ]
  },
  {
   "cell_type": "code",
   "execution_count": 20,
   "metadata": {},
   "outputs": [
    {
     "data": {
      "text/plain": [
       "<AxesSubplot:xlabel='release_year', ylabel='Count'>"
      ]
     },
     "execution_count": 20,
     "metadata": {},
     "output_type": "execute_result"
    },
    {
     "data": {
      "image/png": "[encoded data removed]",
      "text/plain": [
       "<Figure size 1152x288 with 2 Axes>"
      ]
     },
     "metadata": {
      "needs_background": "light"
     },
     "output_type": "display_data"
    }
   ],
   "source": [
    "\n",
    "fig, axe = plt.subplots(1,2, figsize=(16,4))\n",
    "\n",
    "sns.histplot(data = data['type'], ax=axe[0])\n",
    "sns.histplot(data = data['release_year'], ax=axe[1])"
   ]
  },
  {
   "cell_type": "code",
   "execution_count": 21,
   "metadata": {},
   "outputs": [
    {
     "data": {
      "text/plain": [
       "Index(['United States', 'India', 'United Kingdom', 'Japan', 'Canada',\n",
       "       'South Korea', 'Spain', 'France', 'Mexico', 'Turkey',\n",
       "       ...\n",
       "       'Finland, France', 'Mexico, Netherlands',\n",
       "       'United Kingdom, Ukraine, United States', 'Australia, France',\n",
       "       'United States, Canada, Ireland', 'United States, Nicaragua',\n",
       "       'Austria, Czech Republic', 'United States, Kazakhstan',\n",
       "       'Netherlands, Germany, Italy, Canada', 'Egypt, France'],\n",
       "      dtype='object', length=554)"
      ]
     },
     "execution_count": 21,
     "metadata": {},
     "output_type": "execute_result"
    }
   ],
   "source": [
    "data['country'].value_counts().keys()"
   ]
  },
  {
   "cell_type": "markdown",
   "metadata": {},
   "source": [
    "## References"
   ]
  },
  {
   "cell_type": "markdown",
   "metadata": {},
   "source": [
    "[1]https://www.kaggle.com/shivamb/netflix-shows<br>\n",
    "[2]https://www.primevideo.com/help/ref=atv_hp_nd_cnt?nodeId=GFGQU3WYEG6FSJFJ<br>\n",
    "[3]https://www.atlascinemas.net/ratings.html<br>\n",
    "[4]https://stackoverflow.com/questions/19155718/select-pandas-rows-based-on-list-index df.isin()<br>\n",
    "[5]https://stackabuse.com/rotate-axis-labels-in-matplotlib/<br>"
   ]
  }
 ],
 "metadata": {
  "kernelspec": {
   "display_name": "Python 3",
   "language": "python",
   "name": "python3"
  },
  "language_info": {
   "codemirror_mode": {
    "name": "ipython",
    "version": 3
   },
   "file_extension": ".py",
   "mimetype": "text/x-python",
   "name": "python",
   "nbconvert_exporter": "python",
   "pygments_lexer": "ipython3",
   "version": "3.7.6"
  }
 },
 "nbformat": 4,
 "nbformat_minor": 4
}
