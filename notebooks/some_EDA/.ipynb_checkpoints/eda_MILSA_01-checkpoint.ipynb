{
 "cells": [
  {
   "cell_type": "markdown",
   "metadata": {},
   "source": [
    "## Simple EDA data MILSA"
   ]
  },
  {
   "cell_type": "code",
   "execution_count": 1,
   "metadata": {},
   "outputs": [],
   "source": [
    "# Libraries\n",
    "\n",
    "import numpy as np\n",
    "import pandas as pd\n",
    "import matplotlib.pyplot as plt\n",
    "import seaborn as sns; sns.set_style('whitegrid'); #sns.set(); \n",
    "\n",
    "\n",
    "\n",
    "# Essa parte abaixo é apenas um exemplo da aplicação de uma função dentro de um modulo criado por mim\n",
    "# Veja referência [3] e [4]\n",
    "import sys\n",
    "import site\n",
    "site.addsitedir('../../my_modules/usefulFunctions_EDA') # adicionando o endereço do módulo # sys.path\n",
    "import usefulFunctions_EDA as ufEDA # my module\n"
   ]
  },
  {
   "cell_type": "code",
   "execution_count": 2,
   "metadata": {},
   "outputs": [],
   "source": [
    "\n",
    "# import data\n",
    "data = pd.read_csv('../../gettingData/data/data_MILSA')\n"
   ]
  },
  {
   "cell_type": "markdown",
   "metadata": {},
   "source": [
    "### First Look at data"
   ]
  },
  {
   "cell_type": "code",
   "execution_count": 3,
   "metadata": {},
   "outputs": [
    {
     "data": {
      "text/html": [
       "<div>\n",
       "<style scoped>\n",
       "    .dataframe tbody tr th:only-of-type {\n",
       "        vertical-align: middle;\n",
       "    }\n",
       "\n",
       "    .dataframe tbody tr th {\n",
       "        vertical-align: top;\n",
       "    }\n",
       "\n",
       "    .dataframe thead th {\n",
       "        text-align: right;\n",
       "    }\n",
       "</style>\n",
       "<table border=\"1\" class=\"dataframe\">\n",
       "  <thead>\n",
       "    <tr style=\"text-align: right;\">\n",
       "      <th></th>\n",
       "      <th>Funcionario</th>\n",
       "      <th>Est.civil</th>\n",
       "      <th>Inst</th>\n",
       "      <th>Filhos</th>\n",
       "      <th>Salario</th>\n",
       "      <th>Anos</th>\n",
       "      <th>Meses</th>\n",
       "      <th>Regiao</th>\n",
       "    </tr>\n",
       "  </thead>\n",
       "  <tbody>\n",
       "    <tr>\n",
       "      <th>0</th>\n",
       "      <td>1</td>\n",
       "      <td>solteiro</td>\n",
       "      <td>1o Grau</td>\n",
       "      <td>NaN</td>\n",
       "      <td>4.00</td>\n",
       "      <td>26</td>\n",
       "      <td>3</td>\n",
       "      <td>interior</td>\n",
       "    </tr>\n",
       "    <tr>\n",
       "      <th>1</th>\n",
       "      <td>2</td>\n",
       "      <td>casado</td>\n",
       "      <td>1o Grau</td>\n",
       "      <td>1.0</td>\n",
       "      <td>4.56</td>\n",
       "      <td>32</td>\n",
       "      <td>10</td>\n",
       "      <td>capital</td>\n",
       "    </tr>\n",
       "    <tr>\n",
       "      <th>2</th>\n",
       "      <td>3</td>\n",
       "      <td>casado</td>\n",
       "      <td>1o Grau</td>\n",
       "      <td>2.0</td>\n",
       "      <td>5.25</td>\n",
       "      <td>36</td>\n",
       "      <td>5</td>\n",
       "      <td>capital</td>\n",
       "    </tr>\n",
       "    <tr>\n",
       "      <th>3</th>\n",
       "      <td>4</td>\n",
       "      <td>solteiro</td>\n",
       "      <td>2o Grau</td>\n",
       "      <td>NaN</td>\n",
       "      <td>5.73</td>\n",
       "      <td>20</td>\n",
       "      <td>10</td>\n",
       "      <td>outro</td>\n",
       "    </tr>\n",
       "    <tr>\n",
       "      <th>4</th>\n",
       "      <td>5</td>\n",
       "      <td>solteiro</td>\n",
       "      <td>1o Grau</td>\n",
       "      <td>NaN</td>\n",
       "      <td>6.26</td>\n",
       "      <td>40</td>\n",
       "      <td>7</td>\n",
       "      <td>outro</td>\n",
       "    </tr>\n",
       "  </tbody>\n",
       "</table>\n",
       "</div>"
      ],
      "text/plain": [
       "   Funcionario Est.civil     Inst  Filhos  Salario  Anos  Meses    Regiao\n",
       "0            1  solteiro  1o Grau     NaN     4.00    26      3  interior\n",
       "1            2    casado  1o Grau     1.0     4.56    32     10   capital\n",
       "2            3    casado  1o Grau     2.0     5.25    36      5   capital\n",
       "3            4  solteiro  2o Grau     NaN     5.73    20     10     outro\n",
       "4            5  solteiro  1o Grau     NaN     6.26    40      7     outro"
      ]
     },
     "execution_count": 3,
     "metadata": {},
     "output_type": "execute_result"
    }
   ],
   "source": [
    "data.head()"
   ]
  },
  {
   "cell_type": "code",
   "execution_count": 4,
   "metadata": {},
   "outputs": [
    {
     "name": "stdout",
     "output_type": "stream",
     "text": [
      "<class 'pandas.core.frame.DataFrame'>\n",
      "RangeIndex: 36 entries, 0 to 35\n",
      "Data columns (total 8 columns):\n",
      " #   Column       Non-Null Count  Dtype  \n",
      "---  ------       --------------  -----  \n",
      " 0   Funcionario  36 non-null     int64  \n",
      " 1   Est.civil    36 non-null     object \n",
      " 2   Inst         36 non-null     object \n",
      " 3   Filhos       20 non-null     float64\n",
      " 4   Salario      36 non-null     float64\n",
      " 5   Anos         36 non-null     int64  \n",
      " 6   Meses        36 non-null     int64  \n",
      " 7   Regiao       36 non-null     object \n",
      "dtypes: float64(2), int64(3), object(3)\n",
      "memory usage: 2.4+ KB\n"
     ]
    }
   ],
   "source": [
    "data.info()"
   ]
  },
  {
   "cell_type": "code",
   "execution_count": 5,
   "metadata": {},
   "outputs": [
    {
     "data": {
      "text/html": [
       "<div>\n",
       "<style scoped>\n",
       "    .dataframe tbody tr th:only-of-type {\n",
       "        vertical-align: middle;\n",
       "    }\n",
       "\n",
       "    .dataframe tbody tr th {\n",
       "        vertical-align: top;\n",
       "    }\n",
       "\n",
       "    .dataframe thead th {\n",
       "        text-align: right;\n",
       "    }\n",
       "</style>\n",
       "<table border=\"1\" class=\"dataframe\">\n",
       "  <thead>\n",
       "    <tr style=\"text-align: right;\">\n",
       "      <th></th>\n",
       "      <th>Funcionario</th>\n",
       "      <th>Filhos</th>\n",
       "      <th>Salario</th>\n",
       "      <th>Anos</th>\n",
       "      <th>Meses</th>\n",
       "    </tr>\n",
       "  </thead>\n",
       "  <tbody>\n",
       "    <tr>\n",
       "      <th>count</th>\n",
       "      <td>36.000000</td>\n",
       "      <td>20.000000</td>\n",
       "      <td>36.000000</td>\n",
       "      <td>36.000000</td>\n",
       "      <td>36.000000</td>\n",
       "    </tr>\n",
       "    <tr>\n",
       "      <th>mean</th>\n",
       "      <td>18.500000</td>\n",
       "      <td>1.650000</td>\n",
       "      <td>11.122222</td>\n",
       "      <td>34.583333</td>\n",
       "      <td>5.611111</td>\n",
       "    </tr>\n",
       "    <tr>\n",
       "      <th>std</th>\n",
       "      <td>10.535654</td>\n",
       "      <td>1.268028</td>\n",
       "      <td>4.587458</td>\n",
       "      <td>6.737422</td>\n",
       "      <td>3.288749</td>\n",
       "    </tr>\n",
       "    <tr>\n",
       "      <th>min</th>\n",
       "      <td>1.000000</td>\n",
       "      <td>0.000000</td>\n",
       "      <td>4.000000</td>\n",
       "      <td>20.000000</td>\n",
       "      <td>0.000000</td>\n",
       "    </tr>\n",
       "    <tr>\n",
       "      <th>25%</th>\n",
       "      <td>9.750000</td>\n",
       "      <td>1.000000</td>\n",
       "      <td>7.552500</td>\n",
       "      <td>30.000000</td>\n",
       "      <td>3.750000</td>\n",
       "    </tr>\n",
       "    <tr>\n",
       "      <th>50%</th>\n",
       "      <td>18.500000</td>\n",
       "      <td>2.000000</td>\n",
       "      <td>10.165000</td>\n",
       "      <td>34.500000</td>\n",
       "      <td>6.000000</td>\n",
       "    </tr>\n",
       "    <tr>\n",
       "      <th>75%</th>\n",
       "      <td>27.250000</td>\n",
       "      <td>2.000000</td>\n",
       "      <td>14.060000</td>\n",
       "      <td>40.000000</td>\n",
       "      <td>8.000000</td>\n",
       "    </tr>\n",
       "    <tr>\n",
       "      <th>max</th>\n",
       "      <td>36.000000</td>\n",
       "      <td>5.000000</td>\n",
       "      <td>23.300000</td>\n",
       "      <td>48.000000</td>\n",
       "      <td>11.000000</td>\n",
       "    </tr>\n",
       "  </tbody>\n",
       "</table>\n",
       "</div>"
      ],
      "text/plain": [
       "       Funcionario     Filhos    Salario       Anos      Meses\n",
       "count    36.000000  20.000000  36.000000  36.000000  36.000000\n",
       "mean     18.500000   1.650000  11.122222  34.583333   5.611111\n",
       "std      10.535654   1.268028   4.587458   6.737422   3.288749\n",
       "min       1.000000   0.000000   4.000000  20.000000   0.000000\n",
       "25%       9.750000   1.000000   7.552500  30.000000   3.750000\n",
       "50%      18.500000   2.000000  10.165000  34.500000   6.000000\n",
       "75%      27.250000   2.000000  14.060000  40.000000   8.000000\n",
       "max      36.000000   5.000000  23.300000  48.000000  11.000000"
      ]
     },
     "execution_count": 5,
     "metadata": {},
     "output_type": "execute_result"
    }
   ],
   "source": [
    "data.describe()"
   ]
  },
  {
   "cell_type": "markdown",
   "metadata": {},
   "source": [
    "<b>Pontos a observar:</b>\n",
    "<ul>\n",
    "    <li>O conjunto de dados é bem pequeno, apresentando <b>8 colunas</b> e <b>36 registros</b>.</li>\n",
    "    <li>Em relação a dados faltantes:\n",
    "        <ul>\n",
    "            <li>A coluna <b>Filhos</b> é a única que apresenta dados faltantes.</li>\n",
    "        </ul>\n",
    "    </li>\n",
    "    <li> Não foi-se apresentado um dicionário sobre os dados, desse modo, em <b>hipótese</b> as colunas <b>Anos</b> e <b>Meses</b> serão interpretadas como sendo a <b>idade</b> de cada funcionário. O motivo da hipótese colocada deve-se ao fato da coluna \"Anos\" apresentar como valor minimo \"20.00..\" o que, em princípio, parece fazer mais sentido como idade e não como tempo de serviço do funcionário.\n",
    "    </li>\n",
    "</ul>"
   ]
  },
  {
   "cell_type": "markdown",
   "metadata": {},
   "source": [
    "### Análise univariada"
   ]
  },
  {
   "cell_type": "markdown",
   "metadata": {},
   "source": [
    "De acordo com [1], uma análise univariada deve consistir em:\n",
    "<ul>\n",
    "    <li>\"Classificar a variável quanto a seu tipo: qualitativa (nominal ou ordinal) ou quantitativa (discreta ou contínua)\"</li>\n",
    "    <li>\"Obter tabelas, gráficos e/ou medidas que resumam a variável\"</li>\n",
    "</ul>"
   ]
  },
  {
   "cell_type": "markdown",
   "metadata": {},
   "source": [
    "#### \"Funcionario\""
   ]
  },
  {
   "cell_type": "code",
   "execution_count": 6,
   "metadata": {},
   "outputs": [
    {
     "data": {
      "text/plain": [
       "(36,)"
      ]
     },
     "execution_count": 6,
     "metadata": {},
     "output_type": "execute_result"
    }
   ],
   "source": [
    "data['Funcionario'].unique().shape"
   ]
  },
  {
   "cell_type": "code",
   "execution_count": 7,
   "metadata": {},
   "outputs": [
    {
     "data": {
      "text/plain": [
       "dtype('int64')"
      ]
     },
     "execution_count": 7,
     "metadata": {},
     "output_type": "execute_result"
    }
   ],
   "source": [
    "data['Funcionario'].dtype"
   ]
  },
  {
   "cell_type": "markdown",
   "metadata": {},
   "source": [
    "<b>Em relação a coluna \"Funcionario\" pode-se observar:</b>\n",
    "<ul>\n",
    "    <li>É constituída por 36 valores únicos, mesmo número de registros, o que nos mostra ser uma <b>coluna do tipo PRIMARY KEY</b>.</li>\n",
    "    <li>Coluna <b>qualitativa ordinal</b>.</li>\n",
    "</ul>"
   ]
  },
  {
   "cell_type": "markdown",
   "metadata": {},
   "source": [
    "#### \"Est.civil\""
   ]
  },
  {
   "cell_type": "code",
   "execution_count": 8,
   "metadata": {},
   "outputs": [
    {
     "data": {
      "text/plain": [
       "dtype('O')"
      ]
     },
     "execution_count": 8,
     "metadata": {},
     "output_type": "execute_result"
    }
   ],
   "source": [
    "data['Est.civil'].dtype #Object"
   ]
  },
  {
   "cell_type": "code",
   "execution_count": 9,
   "metadata": {},
   "outputs": [
    {
     "data": {
      "text/plain": [
       "(2,)"
      ]
     },
     "execution_count": 9,
     "metadata": {},
     "output_type": "execute_result"
    }
   ],
   "source": [
    "data['Est.civil'].unique().shape"
   ]
  },
  {
   "cell_type": "code",
   "execution_count": 10,
   "metadata": {},
   "outputs": [
    {
     "data": {
      "text/plain": [
       "casado      20\n",
       "solteiro    16\n",
       "Name: Est.civil, dtype: int64"
      ]
     },
     "execution_count": 10,
     "metadata": {},
     "output_type": "execute_result"
    }
   ],
   "source": [
    "data['Est.civil'].value_counts()"
   ]
  },
  {
   "cell_type": "code",
   "execution_count": 11,
   "metadata": {},
   "outputs": [
    {
     "data": {
      "text/plain": [
       "casado      0.555556\n",
       "solteiro    0.444444\n",
       "Name: Est.civil, dtype: float64"
      ]
     },
     "execution_count": 11,
     "metadata": {},
     "output_type": "execute_result"
    }
   ],
   "source": [
    "estCivil_valCounts = data['Est.civil'].value_counts(normalize=True); \n",
    "estCivil_valCounts"
   ]
  },
  {
   "cell_type": "markdown",
   "metadata": {},
   "source": [
    "<b>Em relação a coluna \"Est.civil\" pode-se observar: </b>\n",
    "<ul>\n",
    "    <li>É um variável do tipo <b>qualitativo nominal</b>.</li>\n",
    "    <li>Apresenta duas categorias: \"casado\", \"solteiro\".</li>\n",
    "    <li>O maior número de registros pertencem a categoria \"casado\".</li>\n",
    "</ul>"
   ]
  },
  {
   "cell_type": "code",
   "execution_count": 12,
   "metadata": {},
   "outputs": [
    {
     "data": {
      "image/png": "[encoded data removed]",
      "text/plain": [
       "<Figure size 864x288 with 2 Axes>"
      ]
     },
     "metadata": {},
     "output_type": "display_data"
    }
   ],
   "source": [
    "\n",
    "fig, (axe1, axe2) = plt.subplots(1,2, figsize=(12,4))\n",
    "fig.subplots_adjust(wspace=0.5)\n",
    "\n",
    "data['Est.civil'].value_counts().plot.bar(ax=axe1) # usando seaborn: sns.countplot(x='Est.civil', data=data, ax=axe1)\n",
    "axe1.set_yticks(np.arange(0,21,4))\n",
    "axe1.set_title('Est.civil - Frequência absoluta')\n",
    "axe1.set_ylabel('Frequência absoluta')\n",
    "axe1.set_xlabel('Categorias')\n",
    "\n",
    "data['Est.civil'].value_counts(normalize=True).plot.bar(ax=axe2)\n",
    "axe2.set_yticks([estCivil_valCounts[0], estCivil_valCounts[1]])\n",
    "axe2.set_title('Est.civil - Frequência relativa')\n",
    "axe2.set_ylabel('Frequência relativa')\n",
    "axe2.set_xlabel('Categorias')\n",
    "\n",
    "plt.show()"
   ]
  },
  {
   "cell_type": "markdown",
   "metadata": {},
   "source": [
    "#### \"Inst\""
   ]
  },
  {
   "cell_type": "code",
   "execution_count": 13,
   "metadata": {},
   "outputs": [
    {
     "data": {
      "text/plain": [
       "dtype('O')"
      ]
     },
     "execution_count": 13,
     "metadata": {},
     "output_type": "execute_result"
    }
   ],
   "source": [
    "data['Inst'].dtype # tipo"
   ]
  },
  {
   "cell_type": "code",
   "execution_count": 14,
   "metadata": {},
   "outputs": [
    {
     "data": {
      "text/plain": [
       "0"
      ]
     },
     "execution_count": 14,
     "metadata": {},
     "output_type": "execute_result"
    }
   ],
   "source": [
    "data['Inst'].isna().sum() # quantidade de valores NA"
   ]
  },
  {
   "cell_type": "code",
   "execution_count": 15,
   "metadata": {},
   "outputs": [
    {
     "data": {
      "text/plain": [
       "(3,)"
      ]
     },
     "execution_count": 15,
     "metadata": {},
     "output_type": "execute_result"
    }
   ],
   "source": [
    "data['Inst'].unique().shape"
   ]
  },
  {
   "cell_type": "code",
   "execution_count": 16,
   "metadata": {},
   "outputs": [
    {
     "data": {
      "text/plain": [
       "2o Grau     18\n",
       "1o Grau     12\n",
       "Superior     6\n",
       "Name: Inst, dtype: int64"
      ]
     },
     "execution_count": 16,
     "metadata": {},
     "output_type": "execute_result"
    }
   ],
   "source": [
    "data['Inst'].value_counts()"
   ]
  },
  {
   "cell_type": "code",
   "execution_count": 17,
   "metadata": {},
   "outputs": [
    {
     "data": {
      "text/plain": [
       "2o Grau     0.500000\n",
       "1o Grau     0.333333\n",
       "Superior    0.166667\n",
       "Name: Inst, dtype: float64"
      ]
     },
     "execution_count": 17,
     "metadata": {},
     "output_type": "execute_result"
    }
   ],
   "source": [
    "inst_valCounts = data['Inst'].value_counts(normalize=True)\n",
    "inst_valCounts"
   ]
  },
  {
   "cell_type": "markdown",
   "metadata": {},
   "source": [
    "<b>Em relação a coluna \"Inst\" pode-se observar: </b>\n",
    "<ul>\n",
    "    <li>É uma variável do tipo <b> qualitativa ordinal </b>.</li>\n",
    "    <li>\"Inst\", aparentemente, está relacionado a <b>grau de instrução escolar formal</b>.</li>\n",
    "    <li>Não apresenta valores NA.</li>\n",
    "</ul>"
   ]
  },
  {
   "cell_type": "code",
   "execution_count": 18,
   "metadata": {},
   "outputs": [
    {
     "data": {
      "image/png": "[encoded data removed]",
      "text/plain": [
       "<Figure size 864x288 with 2 Axes>"
      ]
     },
     "metadata": {},
     "output_type": "display_data"
    }
   ],
   "source": [
    "\n",
    "fig, (axe1, axe2) = plt.subplots(1,2, figsize=(12,4))\n",
    "fig.subplots_adjust(wspace=0.5)\n",
    "\n",
    "sns.countplot(x='Inst', data=data, order=['1o Grau', '2o Grau','Superior'], ax=axe1)\n",
    "axe1.set_yticks(np.arange(0,19,6))\n",
    "axe1.set_title('Inst - Frequência absoluta')\n",
    "axe1.set_xlabel('Categorias')\n",
    "axe1.set_ylabel('Frequência absoluta')\n",
    "\n",
    "sns.barplot(x=inst_valCounts.index, y=inst_valCounts, order=['1o Grau', '2o Grau','Superior'],ax=axe2)\n",
    "axe2.set_yticks(inst_valCounts)\n",
    "axe2.set_title('Inst - Frequência relativa')\n",
    "axe2.set_xlabel('Categorias')\n",
    "axe2.set_ylabel('Frequência relativa')\n",
    "\n",
    "plt.show()"
   ]
  },
  {
   "cell_type": "markdown",
   "metadata": {},
   "source": [
    "#### \"Filhos\""
   ]
  },
  {
   "cell_type": "code",
   "execution_count": 19,
   "metadata": {},
   "outputs": [
    {
     "data": {
      "text/plain": [
       "dtype('float64')"
      ]
     },
     "execution_count": 19,
     "metadata": {},
     "output_type": "execute_result"
    }
   ],
   "source": [
    "data['Filhos'].dtype"
   ]
  },
  {
   "cell_type": "code",
   "execution_count": 20,
   "metadata": {},
   "outputs": [
    {
     "data": {
      "text/plain": [
       "(6,)"
      ]
     },
     "execution_count": 20,
     "metadata": {},
     "output_type": "execute_result"
    }
   ],
   "source": [
    "data['Filhos'].unique().shape"
   ]
  },
  {
   "cell_type": "code",
   "execution_count": 21,
   "metadata": {},
   "outputs": [
    {
     "data": {
      "text/plain": [
       "16"
      ]
     },
     "execution_count": 21,
     "metadata": {},
     "output_type": "execute_result"
    }
   ],
   "source": [
    "data['Filhos'].isna().sum()"
   ]
  },
  {
   "cell_type": "code",
   "execution_count": 22,
   "metadata": {},
   "outputs": [
    {
     "name": "stdout",
     "output_type": "stream",
     "text": [
      "0.0    4\n",
      "1.0    5\n",
      "2.0    7\n",
      "3.0    3\n",
      "5.0    1\n",
      "Name: Filhos, dtype: int64\n"
     ]
    }
   ],
   "source": [
    "\n",
    "filhos_valueCounts = data['Filhos'].value_counts().sort_index();\n",
    "print(filhos_valueCounts)\n",
    "\n",
    "filhos_valueCounts_normalized = data['Filhos'].value_counts(normalize=True).sort_index();\n",
    "\n",
    "# os valores são armazenadas em variáveis apenas para poderem ser utilizados mais abaixo em plotagens"
   ]
  },
  {
   "cell_type": "code",
   "execution_count": 23,
   "metadata": {},
   "outputs": [
    {
     "name": "stdout",
     "output_type": "stream",
     "text": [
      "Porcentagem de valores NA:  44.44444444444444  %\n"
     ]
    }
   ],
   "source": [
    "print('Porcentagem de valores NA: ', (data['Filhos'].isna().sum()/len(data['Filhos']))*100, ' %')"
   ]
  },
  {
   "cell_type": "markdown",
   "metadata": {},
   "source": [
    "<b>Em relação a coluna \"Filhos\" pode-se observar: </b>\n",
    "<ul>\n",
    "    <li>É uma variável do tipo <b>quantitativa discreta</b>.</li>\n",
    "    <li>Apresenta 6 valores discretos diferentes.</li>\n",
    "    <li>Em torno de 44% de seus valores são NA.</li>\n",
    "</ul>"
   ]
  },
  {
   "cell_type": "code",
   "execution_count": 24,
   "metadata": {},
   "outputs": [
    {
     "data": {
      "image/png": "[encoded data removed]",
      "text/plain": [
       "<Figure size 864x576 with 4 Axes>"
      ]
     },
     "metadata": {},
     "output_type": "display_data"
    }
   ],
   "source": [
    "\n",
    "\n",
    "fig, ([[axe1, axe2], [axe3, axe4]]) = plt.subplots(2,2, figsize=(12,8))\n",
    "fig.subplots_adjust(wspace=0.4, hspace=0.6)\n",
    "\n",
    "data['Filhos'].value_counts().sort_index().plot.bar(width=0.05, color='black', ax=axe1)\n",
    "axe1.set_title('Filhos - Frequência absoluta')\n",
    "axe1.set_xlabel('Número de filhos')\n",
    "axe1.set_ylabel('Frequência absoluta')\n",
    "\n",
    "\n",
    "data['Filhos'].plot.hist(cumulative=True, bins=5, histtype='step', color='black', lw=2, ax=axe2)\n",
    "axe2.set_yticks(filhos_valueCounts.cumsum())\n",
    "axe2.set_xlabel('Número de filhos')\n",
    "axe2.set_ylabel('Frequência acumulada absoluta')\n",
    "axe2.set_title('Filhos - Frequência acumulada absoluta')\n",
    "\n",
    "\n",
    "data['Filhos'].value_counts(normalize=True).sort_index().plot.bar(width=0.05, color='black', ax=axe3)\n",
    "axe3.set_title('Filhos - Frequência relativa')\n",
    "axe3.set_xlabel('Número de filhos')\n",
    "axe3.set_ylabel('Frequência relativa')\n",
    "\n",
    "data['Filhos'].plot.hist(cumulative=True, bins=5, histtype='step', color='black', lw=2, ax=axe4, density=True)\n",
    "axe4.set_yticks(filhos_valueCounts_normalized.cumsum())\n",
    "axe4.set_xlabel('Número de filhos')\n",
    "axe4.set_ylabel('Frequência acumulada relativa')\n",
    "axe4.set_title('Filhos - Frequência acumulada relativa')\n",
    "\n",
    "plt.show()\n"
   ]
  },
  {
   "cell_type": "markdown",
   "metadata": {},
   "source": [
    "#### \"Salario\""
   ]
  },
  {
   "cell_type": "code",
   "execution_count": 25,
   "metadata": {},
   "outputs": [
    {
     "data": {
      "text/plain": [
       "dtype('float64')"
      ]
     },
     "execution_count": 25,
     "metadata": {},
     "output_type": "execute_result"
    }
   ],
   "source": [
    "data['Salario'].dtype"
   ]
  },
  {
   "cell_type": "code",
   "execution_count": 26,
   "metadata": {},
   "outputs": [
    {
     "data": {
      "text/plain": [
       "(36,)"
      ]
     },
     "execution_count": 26,
     "metadata": {},
     "output_type": "execute_result"
    }
   ],
   "source": [
    "data['Salario'].unique().shape"
   ]
  },
  {
   "cell_type": "code",
   "execution_count": 27,
   "metadata": {},
   "outputs": [
    {
     "data": {
      "text/plain": [
       "0"
      ]
     },
     "execution_count": 27,
     "metadata": {},
     "output_type": "execute_result"
    }
   ],
   "source": [
    "data['Salario'].isna().sum()"
   ]
  },
  {
   "cell_type": "code",
   "execution_count": 28,
   "metadata": {},
   "outputs": [
    {
     "name": "stdout",
     "output_type": "stream",
     "text": [
      "Fronteiras do histograma abaixo:  [ 4.  8. 12. 16. 20. 24.]\n"
     ]
    }
   ],
   "source": [
    "\n",
    "# essa cécula usa uma função de um módulo criado por mim, para teste\n",
    "# a função cria as fronteiras, inteiras,das classes para um histograma e será utilizado abaixo\n",
    "# para mais detalhes use: help(ufEDA.createBinsIntHistogram)\n",
    "# o método utilizado para a criação dessas frontes de classe é bastante simples e é descrito\n",
    "# em parte da referẽncia [1]\n",
    "myBins = ufEDA.createBinsIntHistogram(edgeMin=min(data['Salario']), edgeMax=max(data['Salario']), numReg=len(data['Salario']));\n",
    "print('Fronteiras do histograma abaixo: ',myBins)"
   ]
  },
  {
   "cell_type": "code",
   "execution_count": 105,
   "metadata": {},
   "outputs": [
    {
     "data": {
      "image/png": "[encoded data removed]",
      "text/plain": [
       "<Figure size 360x360 with 1 Axes>"
      ]
     },
     "metadata": {},
     "output_type": "display_data"
    }
   ],
   "source": [
    "\n",
    "fig = plt.figure(figsize=(5,5))\n",
    "axe = plt.gca()\n",
    "(n, bins, p) = plt.hist(x=data['Salario'], bins=myBins)\n",
    "axe.set_xticks(bins)\n",
    "axe.set_yticks(n)\n",
    "axe.set_title('Salario - histograma frequência absoluta')\n",
    "axe.set_xlabel('Valor do salário')\n",
    "axe.set_ylabel('Frequência absoluta')\n",
    "plt.show()\n"
   ]
  },
  {
   "cell_type": "markdown",
   "metadata": {},
   "source": [
    "<b>Em relação a coluna \"Salario\" pode-se observar:</b>\n",
    "<ul>\n",
    "    <li>É uma variável <b>quantitativa contínua</b>.</li>\n",
    "    <li>Apresenta 36 valores únicos, ou seja, nenhum funcionário tem o salário igual a outro.</li>\n",
    "    <li>Não apresenta valores NA.</li>\n",
    "</ul>\n",
    "\n"
   ]
  },
  {
   "cell_type": "code",
   "execution_count": 213,
   "metadata": {},
   "outputs": [
    {
     "data": {
      "image/png": "[encoded data removed]",
      "text/plain": [
       "<Figure size 1008x432 with 2 Axes>"
      ]
     },
     "metadata": {},
     "output_type": "display_data"
    }
   ],
   "source": [
    "\n",
    "fig, (axe1,axe2) = plt.subplots(1,2, figsize=(14,6))\n",
    "\n",
    "n1, bins1, p1 = axe1.hist(x=data['Salario'], bins=myBins, density=True)\n",
    "axe1.set_title('Salário - histograma frequência relativa')\n",
    "axe1.set_xlabel('Salário')\n",
    "axe1.set_ylabel('Densidade')\n",
    "axe1.set_xticks(bins1); #axe1.set_yticks(n1); \n",
    "k = np.around((n/36),2); #axe1.legend((p1),k,framealpha=0, )\n",
    "\n",
    "# adiciona a legenda de frequencia relativa em cima de cada bin\n",
    "for i in range(0,len(n1)):\n",
    "    axe1.text((bins1[i+1]-bins1[i])/4 + bins1[i], n1[i] + (n1[i]*0.01),str(k[i]), fontsize='x-large')\n",
    "\n",
    "    \n",
    "n2, bins2, p2 = axe2.hist(x=data['Salario'], bins=myBins, density=True, cumulative=True)\n",
    "axe2.set_title('Salário - Frequência acumulada')\n",
    "axe2.set_xlabel('Salário')\n",
    "axe2.set_ylabel('Frequência relativa')\n",
    "axe2.set_xticks(myBins)\n",
    "k2 = np.around(n2,2)\n",
    "axe2.set_yticks(k2)\n",
    "\n",
    "plt.show()\n",
    "\n"
   ]
  },
  {
   "cell_type": "markdown",
   "metadata": {},
   "source": [
    "## References"
   ]
  },
  {
   "cell_type": "markdown",
   "metadata": {},
   "source": [
    "[1]http://leg.ufpr.br/~fernandomayer/aulas/ce001e-2016-2/02_Analise_Exploratoria_de_Dados.html\n",
    "<br>\n",
    "[2]https://matplotlib.org/3.1.1/api/_as_gen/matplotlib.pyplot.hist.html\n",
    "<br>\n",
    "[3]https://www.programiz.com/python-programming/modules\n",
    "<br>\n",
    "[4]https://www.devdungeon.com/content/python-import-syspath-and-pythonpath-tutorial\n",
    "<br>"
   ]
  }
 ],
 "metadata": {
  "kernelspec": {
   "display_name": "Python 3",
   "language": "python",
   "name": "python3"
  },
  "language_info": {
   "codemirror_mode": {
    "name": "ipython",
    "version": 3
   },
   "file_extension": ".py",
   "mimetype": "text/x-python",
   "name": "python",
   "nbconvert_exporter": "python",
   "pygments_lexer": "ipython3",
   "version": "3.7.6"
  }
 },
 "nbformat": 4,
 "nbformat_minor": 4
}
