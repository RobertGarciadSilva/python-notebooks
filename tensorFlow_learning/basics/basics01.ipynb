{
 "cells": [
  {
   "cell_type": "markdown",
   "metadata": {},
   "source": [
    "# Basics TensorFlow"
   ]
  },
  {
   "cell_type": "code",
   "execution_count": 1,
   "metadata": {},
   "outputs": [],
   "source": [
    "\n",
    "#Libraries\n",
    "import numpy as np\n",
    "import tensorflow as tf; # print(tf.version)"
   ]
  },
  {
   "cell_type": "code",
   "execution_count": 7,
   "metadata": {},
   "outputs": [],
   "source": [
    "\n",
    "# Creating Tensors\n",
    "\n",
    "s = tf.Variable(\"this is a string\", tf.string)\n",
    "n = tf.Variable(12, tf.int16)\n",
    "n0 = tf.Variable(2, tf.int16)\n",
    "f = tf.Variable(3.14, tf.float64)\n"
   ]
  },
  {
   "cell_type": "code",
   "execution_count": 9,
   "metadata": {},
   "outputs": [
    {
     "name": "stdout",
     "output_type": "stream",
     "text": [
      "<tf.Variable 'Variable:0' shape=() dtype=string, numpy=b'this is a string'>\n",
      "<tf.Variable 'Variable:0' shape=() dtype=int32, numpy=12>\n",
      "tf.Tensor(14, shape=(), dtype=int32)\n"
     ]
    }
   ],
   "source": [
    "print(s)\n",
    "print(n)\n",
    "print(n+n0)"
   ]
  },
  {
   "cell_type": "code",
   "execution_count": 10,
   "metadata": {},
   "outputs": [],
   "source": [
    "\n",
    "v = tf.Variable([[1,2,3,4]], tf.int32)"
   ]
  },
  {
   "cell_type": "code",
   "execution_count": 20,
   "metadata": {},
   "outputs": [
    {
     "name": "stdout",
     "output_type": "stream",
     "text": [
      "<class 'tensorflow.python.ops.resource_variable_ops.ResourceVariable'>\n",
      "(1, 4)\n",
      "<class 'numpy.ndarray'>\n",
      "<tf.Variable 'Variable:0' shape=(1, 4) dtype=int32, numpy=array([[1, 2, 3, 4]], dtype=int32)>\n"
     ]
    }
   ],
   "source": [
    "print(type(v))\n",
    "print(v.shape)\n",
    "v0 = np.array(v)\n",
    "print(type(v0))\n",
    "print(v0)"
   ]
  },
  {
   "cell_type": "code",
   "execution_count": 23,
   "metadata": {},
   "outputs": [
    {
     "name": "stdout",
     "output_type": "stream",
     "text": [
      "tf.Tensor(\n",
      "[[1 2]\n",
      " [3 4]], shape=(2, 2), dtype=int32)\n"
     ]
    }
   ],
   "source": [
    "\n",
    "t = tf.reshape(v, [2,2])\n",
    "print(t)"
   ]
  },
  {
   "cell_type": "code",
   "execution_count": 30,
   "metadata": {},
   "outputs": [
    {
     "name": "stdout",
     "output_type": "stream",
     "text": [
      "(4, 2)\n",
      "<class 'tensorflow.python.ops.resource_variable_ops.ResourceVariable'>\n",
      "tf.Tensor(2, shape=(), dtype=int32)\n",
      "<tf.Variable 'Variable:0' shape=(4, 2) dtype=int32, numpy=\n",
      "array([[1, 2],\n",
      "       [2, 4],\n",
      "       [4, 5],\n",
      "       [5, 6]], dtype=int32)>\n"
     ]
    }
   ],
   "source": [
    "\n",
    "mat = [[1,2],[2,4],[4,5],[5,6]]\n",
    "\n",
    "t = tf.Variable(mat, tf.int32)\n",
    "print(t.shape)\n",
    "print(type(t))\n",
    "print(tf.rank(t))\n",
    "print(t)"
   ]
  },
  {
   "cell_type": "code",
   "execution_count": 34,
   "metadata": {},
   "outputs": [
    {
     "name": "stdout",
     "output_type": "stream",
     "text": [
      "tf.Tensor(2, shape=(), dtype=int32)\n",
      "tf.Tensor([1 2], shape=(2,), dtype=int32)\n",
      "tf.Tensor([1 2 4 5], shape=(4,), dtype=int32)\n"
     ]
    }
   ],
   "source": [
    "print(t[0,1])\n",
    "print(t[0,:])\n",
    "print(t[:,0])"
   ]
  },
  {
   "cell_type": "markdown",
   "metadata": {},
   "source": [
    "## References"
   ]
  },
  {
   "cell_type": "markdown",
   "metadata": {},
   "source": [
    "[1]https://colab.research.google.com/drive/1F_EWVKa8rbMXi3_fG0w7AtcscFq7Hi7B#forceEdit=true&sandboxMode=true&scrollTo=wVDmLJeFs086<br>\n",
    "[2]https://www.youtube.com/watch?v=tPYj3fFJGjk<br>\n"
   ]
  }
 ],
 "metadata": {
  "kernelspec": {
   "display_name": "Python 3",
   "language": "python",
   "name": "python3"
  },
  "language_info": {
   "codemirror_mode": {
    "name": "ipython",
    "version": 3
   },
   "file_extension": ".py",
   "mimetype": "text/x-python",
   "name": "python",
   "nbconvert_exporter": "python",
   "pygments_lexer": "ipython3",
   "version": "3.7.6"
  }
 },
 "nbformat": 4,
 "nbformat_minor": 4
}
