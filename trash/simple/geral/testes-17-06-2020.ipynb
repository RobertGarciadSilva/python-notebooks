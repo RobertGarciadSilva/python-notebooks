{
 "cells": [
  {
   "cell_type": "code",
   "execution_count": 1,
   "metadata": {},
   "outputs": [],
   "source": [
    "\n",
    "import numpy as np\n",
    "import pandas as pd\n",
    "import matplotlib.pyplot as plt\n",
    "import seaborn as sns; sns.set()\n"
   ]
  },
  {
   "cell_type": "code",
   "execution_count": 23,
   "metadata": {},
   "outputs": [],
   "source": [
    "\n",
    "# building toy data\n",
    "\n",
    "# toy data 1\n",
    "dates_index_one = pd.date_range('13-01-1996','20-01-1996')\n",
    "temperature_1 = np.random.randint(10,30, len(dates_index_one)); \n",
    "\n",
    "\n",
    "# toy data 2\n",
    "dates_index_two = pd.date_range('13-01-1996', '15-01-1996')\n",
    "temperature_2 = np.random.randint(0,300,len(dates_index_two))\n",
    "\n",
    "# dataframes\n",
    "\n",
    "df1 = pd.DataFrame(temperature_1, columns=['Temperature (ºC)'], index=dates_index_one)\n",
    "\n",
    "df2 = pd.DataFrame(temperature_2, columns=['Precipitação'], index=dates_index_two)"
   ]
  },
  {
   "cell_type": "code",
   "execution_count": 24,
   "metadata": {},
   "outputs": [
    {
     "name": "stdout",
     "output_type": "stream",
     "text": [
      "DataFrame 1:\n",
      "\n",
      "             Temperature (ºC)\n",
      "1996-01-13                28\n",
      "1996-01-14                13\n",
      "1996-01-15                22\n",
      "1996-01-16                24\n",
      "1996-01-17                22\n",
      "1996-01-18                25\n",
      "1996-01-19                17\n",
      "1996-01-20                17\n",
      "\n",
      "DataFrame 2:\n",
      "\n",
      "             Precipitação\n",
      "1996-01-13           181\n",
      "1996-01-14            22\n",
      "1996-01-15            52\n"
     ]
    }
   ],
   "source": [
    "\n",
    "print('DataFrame 1:\\n\\n',df1); print('\\nDataFrame 2:\\n\\n', df2)"
   ]
  },
  {
   "cell_type": "code",
   "execution_count": 25,
   "metadata": {},
   "outputs": [
    {
     "data": {
      "text/html": [
       "<div>\n",
       "<style scoped>\n",
       "    .dataframe tbody tr th:only-of-type {\n",
       "        vertical-align: middle;\n",
       "    }\n",
       "\n",
       "    .dataframe tbody tr th {\n",
       "        vertical-align: top;\n",
       "    }\n",
       "\n",
       "    .dataframe thead th {\n",
       "        text-align: right;\n",
       "    }\n",
       "</style>\n",
       "<table border=\"1\" class=\"dataframe\">\n",
       "  <thead>\n",
       "    <tr style=\"text-align: right;\">\n",
       "      <th></th>\n",
       "      <th>Temperature (ºC)</th>\n",
       "      <th>Precipitação</th>\n",
       "    </tr>\n",
       "  </thead>\n",
       "  <tbody>\n",
       "    <tr>\n",
       "      <th>1996-01-13</th>\n",
       "      <td>28</td>\n",
       "      <td>181.0</td>\n",
       "    </tr>\n",
       "    <tr>\n",
       "      <th>1996-01-14</th>\n",
       "      <td>13</td>\n",
       "      <td>22.0</td>\n",
       "    </tr>\n",
       "    <tr>\n",
       "      <th>1996-01-15</th>\n",
       "      <td>22</td>\n",
       "      <td>52.0</td>\n",
       "    </tr>\n",
       "    <tr>\n",
       "      <th>1996-01-16</th>\n",
       "      <td>24</td>\n",
       "      <td>NaN</td>\n",
       "    </tr>\n",
       "    <tr>\n",
       "      <th>1996-01-17</th>\n",
       "      <td>22</td>\n",
       "      <td>NaN</td>\n",
       "    </tr>\n",
       "    <tr>\n",
       "      <th>1996-01-18</th>\n",
       "      <td>25</td>\n",
       "      <td>NaN</td>\n",
       "    </tr>\n",
       "    <tr>\n",
       "      <th>1996-01-19</th>\n",
       "      <td>17</td>\n",
       "      <td>NaN</td>\n",
       "    </tr>\n",
       "    <tr>\n",
       "      <th>1996-01-20</th>\n",
       "      <td>17</td>\n",
       "      <td>NaN</td>\n",
       "    </tr>\n",
       "  </tbody>\n",
       "</table>\n",
       "</div>"
      ],
      "text/plain": [
       "            Temperature (ºC)  Precipitação\n",
       "1996-01-13                28         181.0\n",
       "1996-01-14                13          22.0\n",
       "1996-01-15                22          52.0\n",
       "1996-01-16                24           NaN\n",
       "1996-01-17                22           NaN\n",
       "1996-01-18                25           NaN\n",
       "1996-01-19                17           NaN\n",
       "1996-01-20                17           NaN"
      ]
     },
     "execution_count": 25,
     "metadata": {},
     "output_type": "execute_result"
    }
   ],
   "source": [
    "df_join = df1.join(df2); df_join"
   ]
  },
  {
   "cell_type": "code",
   "execution_count": 27,
   "metadata": {},
   "outputs": [
    {
     "data": {
      "text/plain": [
       "Temperature (ºC)    0\n",
       "Precipitação        5\n",
       "dtype: int64"
      ]
     },
     "execution_count": 27,
     "metadata": {},
     "output_type": "execute_result"
    }
   ],
   "source": [
    "df_join.isnull().sum()"
   ]
  }
 ],
 "metadata": {
  "kernelspec": {
   "display_name": "Python 3",
   "language": "python",
   "name": "python3"
  },
  "language_info": {
   "codemirror_mode": {
    "name": "ipython",
    "version": 3
   },
   "file_extension": ".py",
   "mimetype": "text/x-python",
   "name": "python",
   "nbconvert_exporter": "python",
   "pygments_lexer": "ipython3",
   "version": "3.7.6"
  }
 },
 "nbformat": 4,
 "nbformat_minor": 4
}
