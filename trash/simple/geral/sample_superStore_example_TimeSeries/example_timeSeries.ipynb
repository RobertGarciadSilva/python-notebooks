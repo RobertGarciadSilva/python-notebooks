{
 "cells": [
  {
   "cell_type": "code",
   "execution_count": 78,
   "metadata": {},
   "outputs": [],
   "source": [
    "\n",
    "import numpy as np\n",
    "import pandas as pd\n",
    "import matplotlib.pyplot as plt\n",
    "import seaborn as sns; sns.set()\n"
   ]
  },
  {
   "cell_type": "code",
   "execution_count": 79,
   "metadata": {},
   "outputs": [],
   "source": [
    "\n",
    "data = pd.read_excel('./data/sample_superstore.xls')\n"
   ]
  },
  {
   "cell_type": "code",
   "execution_count": 80,
   "metadata": {},
   "outputs": [
    {
     "name": "stdout",
     "output_type": "stream",
     "text": [
      "<class 'pandas.core.frame.DataFrame'>\n",
      "RangeIndex: 9994 entries, 0 to 9993\n",
      "Data columns (total 21 columns):\n",
      " #   Column         Non-Null Count  Dtype         \n",
      "---  ------         --------------  -----         \n",
      " 0   Row ID         9994 non-null   int64         \n",
      " 1   Order ID       9994 non-null   object        \n",
      " 2   Order Date     9994 non-null   datetime64[ns]\n",
      " 3   Ship Date      9994 non-null   datetime64[ns]\n",
      " 4   Ship Mode      9994 non-null   object        \n",
      " 5   Customer ID    9994 non-null   object        \n",
      " 6   Customer Name  9994 non-null   object        \n",
      " 7   Segment        9994 non-null   object        \n",
      " 8   Country        9994 non-null   object        \n",
      " 9   City           9994 non-null   object        \n",
      " 10  State          9994 non-null   object        \n",
      " 11  Postal Code    9994 non-null   int64         \n",
      " 12  Region         9994 non-null   object        \n",
      " 13  Product ID     9994 non-null   object        \n",
      " 14  Category       9994 non-null   object        \n",
      " 15  Sub-Category   9994 non-null   object        \n",
      " 16  Product Name   9994 non-null   object        \n",
      " 17  Sales          9994 non-null   float64       \n",
      " 18  Quantity       9994 non-null   int64         \n",
      " 19  Discount       9994 non-null   float64       \n",
      " 20  Profit         9994 non-null   float64       \n",
      "dtypes: datetime64[ns](2), float64(3), int64(3), object(13)\n",
      "memory usage: 1.6+ MB\n"
     ]
    }
   ],
   "source": [
    "data.info()"
   ]
  },
  {
   "cell_type": "code",
   "execution_count": 81,
   "metadata": {},
   "outputs": [
    {
     "data": {
      "text/html": [
       "<div>\n",
       "<style scoped>\n",
       "    .dataframe tbody tr th:only-of-type {\n",
       "        vertical-align: middle;\n",
       "    }\n",
       "\n",
       "    .dataframe tbody tr th {\n",
       "        vertical-align: top;\n",
       "    }\n",
       "\n",
       "    .dataframe thead th {\n",
       "        text-align: right;\n",
       "    }\n",
       "</style>\n",
       "<table border=\"1\" class=\"dataframe\">\n",
       "  <thead>\n",
       "    <tr style=\"text-align: right;\">\n",
       "      <th></th>\n",
       "      <th>0</th>\n",
       "      <th>1</th>\n",
       "      <th>2</th>\n",
       "      <th>3</th>\n",
       "      <th>4</th>\n",
       "    </tr>\n",
       "  </thead>\n",
       "  <tbody>\n",
       "    <tr>\n",
       "      <th>Row ID</th>\n",
       "      <td>1</td>\n",
       "      <td>2</td>\n",
       "      <td>3</td>\n",
       "      <td>4</td>\n",
       "      <td>5</td>\n",
       "    </tr>\n",
       "    <tr>\n",
       "      <th>Order ID</th>\n",
       "      <td>CA-2016-152156</td>\n",
       "      <td>CA-2016-152156</td>\n",
       "      <td>CA-2016-138688</td>\n",
       "      <td>US-2015-108966</td>\n",
       "      <td>US-2015-108966</td>\n",
       "    </tr>\n",
       "    <tr>\n",
       "      <th>Order Date</th>\n",
       "      <td>2016-11-08 00:00:00</td>\n",
       "      <td>2016-11-08 00:00:00</td>\n",
       "      <td>2016-06-12 00:00:00</td>\n",
       "      <td>2015-10-11 00:00:00</td>\n",
       "      <td>2015-10-11 00:00:00</td>\n",
       "    </tr>\n",
       "    <tr>\n",
       "      <th>Ship Date</th>\n",
       "      <td>2016-11-11 00:00:00</td>\n",
       "      <td>2016-11-11 00:00:00</td>\n",
       "      <td>2016-06-16 00:00:00</td>\n",
       "      <td>2015-10-18 00:00:00</td>\n",
       "      <td>2015-10-18 00:00:00</td>\n",
       "    </tr>\n",
       "    <tr>\n",
       "      <th>Ship Mode</th>\n",
       "      <td>Second Class</td>\n",
       "      <td>Second Class</td>\n",
       "      <td>Second Class</td>\n",
       "      <td>Standard Class</td>\n",
       "      <td>Standard Class</td>\n",
       "    </tr>\n",
       "    <tr>\n",
       "      <th>Customer ID</th>\n",
       "      <td>CG-12520</td>\n",
       "      <td>CG-12520</td>\n",
       "      <td>DV-13045</td>\n",
       "      <td>SO-20335</td>\n",
       "      <td>SO-20335</td>\n",
       "    </tr>\n",
       "    <tr>\n",
       "      <th>Customer Name</th>\n",
       "      <td>Claire Gute</td>\n",
       "      <td>Claire Gute</td>\n",
       "      <td>Darrin Van Huff</td>\n",
       "      <td>Sean O'Donnell</td>\n",
       "      <td>Sean O'Donnell</td>\n",
       "    </tr>\n",
       "    <tr>\n",
       "      <th>Segment</th>\n",
       "      <td>Consumer</td>\n",
       "      <td>Consumer</td>\n",
       "      <td>Corporate</td>\n",
       "      <td>Consumer</td>\n",
       "      <td>Consumer</td>\n",
       "    </tr>\n",
       "    <tr>\n",
       "      <th>Country</th>\n",
       "      <td>United States</td>\n",
       "      <td>United States</td>\n",
       "      <td>United States</td>\n",
       "      <td>United States</td>\n",
       "      <td>United States</td>\n",
       "    </tr>\n",
       "    <tr>\n",
       "      <th>City</th>\n",
       "      <td>Henderson</td>\n",
       "      <td>Henderson</td>\n",
       "      <td>Los Angeles</td>\n",
       "      <td>Fort Lauderdale</td>\n",
       "      <td>Fort Lauderdale</td>\n",
       "    </tr>\n",
       "    <tr>\n",
       "      <th>State</th>\n",
       "      <td>Kentucky</td>\n",
       "      <td>Kentucky</td>\n",
       "      <td>California</td>\n",
       "      <td>Florida</td>\n",
       "      <td>Florida</td>\n",
       "    </tr>\n",
       "    <tr>\n",
       "      <th>Postal Code</th>\n",
       "      <td>42420</td>\n",
       "      <td>42420</td>\n",
       "      <td>90036</td>\n",
       "      <td>33311</td>\n",
       "      <td>33311</td>\n",
       "    </tr>\n",
       "    <tr>\n",
       "      <th>Region</th>\n",
       "      <td>South</td>\n",
       "      <td>South</td>\n",
       "      <td>West</td>\n",
       "      <td>South</td>\n",
       "      <td>South</td>\n",
       "    </tr>\n",
       "    <tr>\n",
       "      <th>Product ID</th>\n",
       "      <td>FUR-BO-10001798</td>\n",
       "      <td>FUR-CH-10000454</td>\n",
       "      <td>OFF-LA-10000240</td>\n",
       "      <td>FUR-TA-10000577</td>\n",
       "      <td>OFF-ST-10000760</td>\n",
       "    </tr>\n",
       "    <tr>\n",
       "      <th>Category</th>\n",
       "      <td>Furniture</td>\n",
       "      <td>Furniture</td>\n",
       "      <td>Office Supplies</td>\n",
       "      <td>Furniture</td>\n",
       "      <td>Office Supplies</td>\n",
       "    </tr>\n",
       "    <tr>\n",
       "      <th>Sub-Category</th>\n",
       "      <td>Bookcases</td>\n",
       "      <td>Chairs</td>\n",
       "      <td>Labels</td>\n",
       "      <td>Tables</td>\n",
       "      <td>Storage</td>\n",
       "    </tr>\n",
       "    <tr>\n",
       "      <th>Product Name</th>\n",
       "      <td>Bush Somerset Collection Bookcase</td>\n",
       "      <td>Hon Deluxe Fabric Upholstered Stacking Chairs,...</td>\n",
       "      <td>Self-Adhesive Address Labels for Typewriters b...</td>\n",
       "      <td>Bretford CR4500 Series Slim Rectangular Table</td>\n",
       "      <td>Eldon Fold 'N Roll Cart System</td>\n",
       "    </tr>\n",
       "    <tr>\n",
       "      <th>Sales</th>\n",
       "      <td>261.96</td>\n",
       "      <td>731.94</td>\n",
       "      <td>14.62</td>\n",
       "      <td>957.577</td>\n",
       "      <td>22.368</td>\n",
       "    </tr>\n",
       "    <tr>\n",
       "      <th>Quantity</th>\n",
       "      <td>2</td>\n",
       "      <td>3</td>\n",
       "      <td>2</td>\n",
       "      <td>5</td>\n",
       "      <td>2</td>\n",
       "    </tr>\n",
       "    <tr>\n",
       "      <th>Discount</th>\n",
       "      <td>0</td>\n",
       "      <td>0</td>\n",
       "      <td>0</td>\n",
       "      <td>0.45</td>\n",
       "      <td>0.2</td>\n",
       "    </tr>\n",
       "    <tr>\n",
       "      <th>Profit</th>\n",
       "      <td>41.9136</td>\n",
       "      <td>219.582</td>\n",
       "      <td>6.8714</td>\n",
       "      <td>-383.031</td>\n",
       "      <td>2.5164</td>\n",
       "    </tr>\n",
       "  </tbody>\n",
       "</table>\n",
       "</div>"
      ],
      "text/plain": [
       "                                               0  \\\n",
       "Row ID                                         1   \n",
       "Order ID                          CA-2016-152156   \n",
       "Order Date                   2016-11-08 00:00:00   \n",
       "Ship Date                    2016-11-11 00:00:00   \n",
       "Ship Mode                           Second Class   \n",
       "Customer ID                             CG-12520   \n",
       "Customer Name                        Claire Gute   \n",
       "Segment                                 Consumer   \n",
       "Country                            United States   \n",
       "City                                   Henderson   \n",
       "State                                   Kentucky   \n",
       "Postal Code                                42420   \n",
       "Region                                     South   \n",
       "Product ID                       FUR-BO-10001798   \n",
       "Category                               Furniture   \n",
       "Sub-Category                           Bookcases   \n",
       "Product Name   Bush Somerset Collection Bookcase   \n",
       "Sales                                     261.96   \n",
       "Quantity                                       2   \n",
       "Discount                                       0   \n",
       "Profit                                   41.9136   \n",
       "\n",
       "                                                               1  \\\n",
       "Row ID                                                         2   \n",
       "Order ID                                          CA-2016-152156   \n",
       "Order Date                                   2016-11-08 00:00:00   \n",
       "Ship Date                                    2016-11-11 00:00:00   \n",
       "Ship Mode                                           Second Class   \n",
       "Customer ID                                             CG-12520   \n",
       "Customer Name                                        Claire Gute   \n",
       "Segment                                                 Consumer   \n",
       "Country                                            United States   \n",
       "City                                                   Henderson   \n",
       "State                                                   Kentucky   \n",
       "Postal Code                                                42420   \n",
       "Region                                                     South   \n",
       "Product ID                                       FUR-CH-10000454   \n",
       "Category                                               Furniture   \n",
       "Sub-Category                                              Chairs   \n",
       "Product Name   Hon Deluxe Fabric Upholstered Stacking Chairs,...   \n",
       "Sales                                                     731.94   \n",
       "Quantity                                                       3   \n",
       "Discount                                                       0   \n",
       "Profit                                                   219.582   \n",
       "\n",
       "                                                               2  \\\n",
       "Row ID                                                         3   \n",
       "Order ID                                          CA-2016-138688   \n",
       "Order Date                                   2016-06-12 00:00:00   \n",
       "Ship Date                                    2016-06-16 00:00:00   \n",
       "Ship Mode                                           Second Class   \n",
       "Customer ID                                             DV-13045   \n",
       "Customer Name                                    Darrin Van Huff   \n",
       "Segment                                                Corporate   \n",
       "Country                                            United States   \n",
       "City                                                 Los Angeles   \n",
       "State                                                 California   \n",
       "Postal Code                                                90036   \n",
       "Region                                                      West   \n",
       "Product ID                                       OFF-LA-10000240   \n",
       "Category                                         Office Supplies   \n",
       "Sub-Category                                              Labels   \n",
       "Product Name   Self-Adhesive Address Labels for Typewriters b...   \n",
       "Sales                                                      14.62   \n",
       "Quantity                                                       2   \n",
       "Discount                                                       0   \n",
       "Profit                                                    6.8714   \n",
       "\n",
       "                                                           3  \\\n",
       "Row ID                                                     4   \n",
       "Order ID                                      US-2015-108966   \n",
       "Order Date                               2015-10-11 00:00:00   \n",
       "Ship Date                                2015-10-18 00:00:00   \n",
       "Ship Mode                                     Standard Class   \n",
       "Customer ID                                         SO-20335   \n",
       "Customer Name                                 Sean O'Donnell   \n",
       "Segment                                             Consumer   \n",
       "Country                                        United States   \n",
       "City                                         Fort Lauderdale   \n",
       "State                                                Florida   \n",
       "Postal Code                                            33311   \n",
       "Region                                                 South   \n",
       "Product ID                                   FUR-TA-10000577   \n",
       "Category                                           Furniture   \n",
       "Sub-Category                                          Tables   \n",
       "Product Name   Bretford CR4500 Series Slim Rectangular Table   \n",
       "Sales                                                957.577   \n",
       "Quantity                                                   5   \n",
       "Discount                                                0.45   \n",
       "Profit                                              -383.031   \n",
       "\n",
       "                                            4  \n",
       "Row ID                                      5  \n",
       "Order ID                       US-2015-108966  \n",
       "Order Date                2015-10-11 00:00:00  \n",
       "Ship Date                 2015-10-18 00:00:00  \n",
       "Ship Mode                      Standard Class  \n",
       "Customer ID                          SO-20335  \n",
       "Customer Name                  Sean O'Donnell  \n",
       "Segment                              Consumer  \n",
       "Country                         United States  \n",
       "City                          Fort Lauderdale  \n",
       "State                                 Florida  \n",
       "Postal Code                             33311  \n",
       "Region                                  South  \n",
       "Product ID                    OFF-ST-10000760  \n",
       "Category                      Office Supplies  \n",
       "Sub-Category                          Storage  \n",
       "Product Name   Eldon Fold 'N Roll Cart System  \n",
       "Sales                                  22.368  \n",
       "Quantity                                    2  \n",
       "Discount                                  0.2  \n",
       "Profit                                 2.5164  "
      ]
     },
     "execution_count": 81,
     "metadata": {},
     "output_type": "execute_result"
    }
   ],
   "source": [
    "\n",
    "data.head().T"
   ]
  },
  {
   "cell_type": "code",
   "execution_count": 82,
   "metadata": {},
   "outputs": [
    {
     "data": {
      "text/plain": [
       "Staple envelope                                                                        48\n",
       "Staples                                                                                46\n",
       "Easy-staple paper                                                                      46\n",
       "Avery Non-Stick Binders                                                                20\n",
       "Staples in misc. colors                                                                19\n",
       "                                                                                       ..\n",
       "Avery 5                                                                                 1\n",
       "Bush Birmingham Collection Bookcase, Dark Cherry                                        1\n",
       "Canon Color ImageCLASS MF8580Cdw Wireless Laser All-In-One Printer, Copier, Scanner     1\n",
       "Cisco SPA 501G IP Phone                                                                 1\n",
       "Xerox 1918                                                                              1\n",
       "Name: Product Name, Length: 1850, dtype: int64"
      ]
     },
     "execution_count": 82,
     "metadata": {},
     "output_type": "execute_result"
    }
   ],
   "source": [
    "data['Product Name'].value_counts()"
   ]
  },
  {
   "cell_type": "code",
   "execution_count": 83,
   "metadata": {},
   "outputs": [
    {
     "data": {
      "text/plain": [
       "Office Supplies    6026\n",
       "Furniture          2121\n",
       "Technology         1847\n",
       "Name: Category, dtype: int64"
      ]
     },
     "execution_count": 83,
     "metadata": {},
     "output_type": "execute_result"
    }
   ],
   "source": [
    "data['Category'].value_counts()"
   ]
  },
  {
   "cell_type": "code",
   "execution_count": 84,
   "metadata": {},
   "outputs": [
    {
     "data": {
      "text/plain": [
       "United States    9994\n",
       "Name: Country, dtype: int64"
      ]
     },
     "execution_count": 84,
     "metadata": {},
     "output_type": "execute_result"
    }
   ],
   "source": [
    "data['Country'].value_counts()"
   ]
  },
  {
   "cell_type": "code",
   "execution_count": 85,
   "metadata": {},
   "outputs": [
    {
     "data": {
      "text/plain": [
       "California              2001\n",
       "New York                1128\n",
       "Texas                    985\n",
       "Pennsylvania             587\n",
       "Washington               506\n",
       "Illinois                 492\n",
       "Ohio                     469\n",
       "Florida                  383\n",
       "Michigan                 255\n",
       "North Carolina           249\n",
       "Arizona                  224\n",
       "Virginia                 224\n",
       "Georgia                  184\n",
       "Tennessee                183\n",
       "Colorado                 182\n",
       "Indiana                  149\n",
       "Kentucky                 139\n",
       "Massachusetts            135\n",
       "New Jersey               130\n",
       "Oregon                   124\n",
       "Wisconsin                110\n",
       "Maryland                 105\n",
       "Delaware                  96\n",
       "Minnesota                 89\n",
       "Connecticut               82\n",
       "Missouri                  66\n",
       "Oklahoma                  66\n",
       "Alabama                   61\n",
       "Arkansas                  60\n",
       "Rhode Island              56\n",
       "Utah                      53\n",
       "Mississippi               53\n",
       "Louisiana                 42\n",
       "South Carolina            42\n",
       "Nevada                    39\n",
       "Nebraska                  38\n",
       "New Mexico                37\n",
       "Iowa                      30\n",
       "New Hampshire             27\n",
       "Kansas                    24\n",
       "Idaho                     21\n",
       "Montana                   15\n",
       "South Dakota              12\n",
       "Vermont                   11\n",
       "District of Columbia      10\n",
       "Maine                      8\n",
       "North Dakota               7\n",
       "West Virginia              4\n",
       "Wyoming                    1\n",
       "Name: State, dtype: int64"
      ]
     },
     "execution_count": 85,
     "metadata": {},
     "output_type": "execute_result"
    }
   ],
   "source": [
    "data['State'].value_counts()#.shape"
   ]
  },
  {
   "cell_type": "code",
   "execution_count": 86,
   "metadata": {},
   "outputs": [],
   "source": [
    "\n",
    "data_furniture = data[data['Category'] == 'Furniture']"
   ]
  },
  {
   "cell_type": "code",
   "execution_count": 87,
   "metadata": {},
   "outputs": [
    {
     "data": {
      "text/plain": [
       "(2121, 21)"
      ]
     },
     "execution_count": 87,
     "metadata": {},
     "output_type": "execute_result"
    }
   ],
   "source": [
    "data_furniture.shape"
   ]
  },
  {
   "cell_type": "code",
   "execution_count": 88,
   "metadata": {},
   "outputs": [
    {
     "name": "stdout",
     "output_type": "stream",
     "text": [
      "Data mais antiga:  2014-01-06 00:00:00\n",
      "Data mais recente:  2017-12-30 00:00:00\n"
     ]
    }
   ],
   "source": [
    "print(\"Data mais antiga: \",data_furniture['Order Date'].min())\n",
    "print(\"Data mais recente: \", data_furniture['Order Date'].max())"
   ]
  },
  {
   "cell_type": "code",
   "execution_count": 89,
   "metadata": {},
   "outputs": [
    {
     "data": {
      "text/plain": [
       "array(['Row ID', 'Order ID', 'Order Date', 'Ship Date', 'Ship Mode',\n",
       "       'Customer ID', 'Customer Name', 'Segment', 'Country', 'City',\n",
       "       'State', 'Postal Code', 'Region', 'Product ID', 'Category',\n",
       "       'Sub-Category', 'Product Name', 'Sales', 'Quantity', 'Discount',\n",
       "       'Profit'], dtype=object)"
      ]
     },
     "execution_count": 89,
     "metadata": {},
     "output_type": "execute_result"
    }
   ],
   "source": [
    "data_furniture.columns.values"
   ]
  },
  {
   "cell_type": "code",
   "execution_count": 90,
   "metadata": {},
   "outputs": [],
   "source": [
    "use_columns = np.array(['Order Date', 'Sales'])"
   ]
  },
  {
   "cell_type": "code",
   "execution_count": 91,
   "metadata": {},
   "outputs": [],
   "source": [
    "data_furniture = data_furniture[use_columns]"
   ]
  },
  {
   "cell_type": "code",
   "execution_count": 92,
   "metadata": {},
   "outputs": [
    {
     "name": "stdout",
     "output_type": "stream",
     "text": [
      "<class 'pandas.core.frame.DataFrame'>\n",
      "Int64Index: 2121 entries, 0 to 9990\n",
      "Data columns (total 2 columns):\n",
      " #   Column      Non-Null Count  Dtype         \n",
      "---  ------      --------------  -----         \n",
      " 0   Order Date  2121 non-null   datetime64[ns]\n",
      " 1   Sales       2121 non-null   float64       \n",
      "dtypes: datetime64[ns](1), float64(1)\n",
      "memory usage: 49.7 KB\n"
     ]
    }
   ],
   "source": [
    "data_furniture.info()"
   ]
  },
  {
   "cell_type": "code",
   "execution_count": 93,
   "metadata": {},
   "outputs": [],
   "source": [
    "data_furniture = data_furniture.sort_values('Order Date')"
   ]
  },
  {
   "cell_type": "code",
   "execution_count": 94,
   "metadata": {},
   "outputs": [
    {
     "data": {
      "text/plain": [
       "Order Date    0\n",
       "Sales         0\n",
       "dtype: int64"
      ]
     },
     "execution_count": 94,
     "metadata": {},
     "output_type": "execute_result"
    }
   ],
   "source": [
    "data_furniture.isnull().sum()"
   ]
  },
  {
   "cell_type": "code",
   "execution_count": 95,
   "metadata": {},
   "outputs": [
    {
     "data": {
      "text/html": [
       "<div>\n",
       "<style scoped>\n",
       "    .dataframe tbody tr th:only-of-type {\n",
       "        vertical-align: middle;\n",
       "    }\n",
       "\n",
       "    .dataframe tbody tr th {\n",
       "        vertical-align: top;\n",
       "    }\n",
       "\n",
       "    .dataframe thead th {\n",
       "        text-align: right;\n",
       "    }\n",
       "</style>\n",
       "<table border=\"1\" class=\"dataframe\">\n",
       "  <thead>\n",
       "    <tr style=\"text-align: right;\">\n",
       "      <th></th>\n",
       "      <th>Order Date</th>\n",
       "      <th>Sales</th>\n",
       "    </tr>\n",
       "  </thead>\n",
       "  <tbody>\n",
       "    <tr>\n",
       "      <th>7474</th>\n",
       "      <td>2014-01-06</td>\n",
       "      <td>2573.820</td>\n",
       "    </tr>\n",
       "    <tr>\n",
       "      <th>7660</th>\n",
       "      <td>2014-01-07</td>\n",
       "      <td>76.728</td>\n",
       "    </tr>\n",
       "    <tr>\n",
       "      <th>866</th>\n",
       "      <td>2014-01-10</td>\n",
       "      <td>51.940</td>\n",
       "    </tr>\n",
       "    <tr>\n",
       "      <th>716</th>\n",
       "      <td>2014-01-11</td>\n",
       "      <td>9.940</td>\n",
       "    </tr>\n",
       "    <tr>\n",
       "      <th>2978</th>\n",
       "      <td>2014-01-13</td>\n",
       "      <td>545.940</td>\n",
       "    </tr>\n",
       "  </tbody>\n",
       "</table>\n",
       "</div>"
      ],
      "text/plain": [
       "     Order Date     Sales\n",
       "7474 2014-01-06  2573.820\n",
       "7660 2014-01-07    76.728\n",
       "866  2014-01-10    51.940\n",
       "716  2014-01-11     9.940\n",
       "2978 2014-01-13   545.940"
      ]
     },
     "execution_count": 95,
     "metadata": {},
     "output_type": "execute_result"
    }
   ],
   "source": [
    "data_furniture.head()"
   ]
  },
  {
   "cell_type": "code",
   "execution_count": 96,
   "metadata": {},
   "outputs": [
    {
     "data": {
      "text/plain": [
       "7474   2014-01-06\n",
       "7660   2014-01-07\n",
       "866    2014-01-10\n",
       "716    2014-01-11\n",
       "2978   2014-01-13\n",
       "Name: Order Date, dtype: datetime64[ns]"
      ]
     },
     "execution_count": 96,
     "metadata": {},
     "output_type": "execute_result"
    }
   ],
   "source": [
    "data_furniture['Order Date'][:5]"
   ]
  },
  {
   "cell_type": "code",
   "execution_count": 97,
   "metadata": {},
   "outputs": [
    {
     "data": {
      "text/plain": [
       "[<matplotlib.lines.Line2D at 0x7f51ad0482d0>]"
      ]
     },
     "execution_count": 97,
     "metadata": {},
     "output_type": "execute_result"
    },
    {
     "data": {
      "image/png": "[encoded data removed]",
      "text/plain": [
       "<Figure size 864x432 with 1 Axes>"
      ]
     },
     "metadata": {},
     "output_type": "display_data"
    }
   ],
   "source": [
    "\n",
    "fig, axe = plt.subplots(figsize=(12,6))\n",
    "axe.plot(data_furniture['Order Date'][:50], data_furniture['Sales'][:50])"
   ]
  },
  {
   "cell_type": "code",
   "execution_count": 101,
   "metadata": {},
   "outputs": [
    {
     "data": {
      "text/plain": [
       "2016-09-05    10\n",
       "2017-10-30     9\n",
       "2016-12-25     9\n",
       "2017-11-19     9\n",
       "2016-12-01     9\n",
       "              ..\n",
       "2017-04-15     1\n",
       "2015-07-24     1\n",
       "2014-04-19     1\n",
       "2016-07-21     1\n",
       "2016-01-23     1\n",
       "Name: Order Date, Length: 889, dtype: int64"
      ]
     },
     "execution_count": 101,
     "metadata": {},
     "output_type": "execute_result"
    }
   ],
   "source": [
    "data_furniture['Order Date'].value_counts()"
   ]
  },
  {
   "cell_type": "code",
   "execution_count": 106,
   "metadata": {},
   "outputs": [],
   "source": [
    "#k = data_furniture.groupby('Order Date')['Sales'].sum(); k"
   ]
  },
  {
   "cell_type": "code",
   "execution_count": 108,
   "metadata": {},
   "outputs": [
    {
     "data": {
      "text/html": [
       "<div>\n",
       "<style scoped>\n",
       "    .dataframe tbody tr th:only-of-type {\n",
       "        vertical-align: middle;\n",
       "    }\n",
       "\n",
       "    .dataframe tbody tr th {\n",
       "        vertical-align: top;\n",
       "    }\n",
       "\n",
       "    .dataframe thead th {\n",
       "        text-align: right;\n",
       "    }\n",
       "</style>\n",
       "<table border=\"1\" class=\"dataframe\">\n",
       "  <thead>\n",
       "    <tr style=\"text-align: right;\">\n",
       "      <th></th>\n",
       "      <th>Order Date</th>\n",
       "      <th>Sales</th>\n",
       "    </tr>\n",
       "  </thead>\n",
       "  <tbody>\n",
       "    <tr>\n",
       "      <th>0</th>\n",
       "      <td>2014-01-06</td>\n",
       "      <td>2573.8200</td>\n",
       "    </tr>\n",
       "    <tr>\n",
       "      <th>1</th>\n",
       "      <td>2014-01-07</td>\n",
       "      <td>76.7280</td>\n",
       "    </tr>\n",
       "    <tr>\n",
       "      <th>2</th>\n",
       "      <td>2014-01-10</td>\n",
       "      <td>51.9400</td>\n",
       "    </tr>\n",
       "    <tr>\n",
       "      <th>3</th>\n",
       "      <td>2014-01-11</td>\n",
       "      <td>9.9400</td>\n",
       "    </tr>\n",
       "    <tr>\n",
       "      <th>4</th>\n",
       "      <td>2014-01-13</td>\n",
       "      <td>879.9390</td>\n",
       "    </tr>\n",
       "    <tr>\n",
       "      <th>...</th>\n",
       "      <td>...</td>\n",
       "      <td>...</td>\n",
       "    </tr>\n",
       "    <tr>\n",
       "      <th>884</th>\n",
       "      <td>2017-12-24</td>\n",
       "      <td>1393.4940</td>\n",
       "    </tr>\n",
       "    <tr>\n",
       "      <th>885</th>\n",
       "      <td>2017-12-25</td>\n",
       "      <td>832.4540</td>\n",
       "    </tr>\n",
       "    <tr>\n",
       "      <th>886</th>\n",
       "      <td>2017-12-28</td>\n",
       "      <td>551.2568</td>\n",
       "    </tr>\n",
       "    <tr>\n",
       "      <th>887</th>\n",
       "      <td>2017-12-29</td>\n",
       "      <td>2330.7180</td>\n",
       "    </tr>\n",
       "    <tr>\n",
       "      <th>888</th>\n",
       "      <td>2017-12-30</td>\n",
       "      <td>323.1360</td>\n",
       "    </tr>\n",
       "  </tbody>\n",
       "</table>\n",
       "<p>889 rows × 2 columns</p>\n",
       "</div>"
      ],
      "text/plain": [
       "    Order Date      Sales\n",
       "0   2014-01-06  2573.8200\n",
       "1   2014-01-07    76.7280\n",
       "2   2014-01-10    51.9400\n",
       "3   2014-01-11     9.9400\n",
       "4   2014-01-13   879.9390\n",
       "..         ...        ...\n",
       "884 2017-12-24  1393.4940\n",
       "885 2017-12-25   832.4540\n",
       "886 2017-12-28   551.2568\n",
       "887 2017-12-29  2330.7180\n",
       "888 2017-12-30   323.1360\n",
       "\n",
       "[889 rows x 2 columns]"
      ]
     },
     "execution_count": 108,
     "metadata": {},
     "output_type": "execute_result"
    }
   ],
   "source": [
    "data_furniture = data_furniture.groupby('Order Date')['Sales'].sum().reset_index(); data_furniture"
   ]
  },
  {
   "cell_type": "code",
   "execution_count": 68,
   "metadata": {},
   "outputs": [
    {
     "data": {
      "text/plain": [
       "DatetimeIndex(['2014-01-06', '2014-01-07', '2014-01-10', '2014-01-11',\n",
       "               '2014-01-13', '2014-01-14', '2014-01-16', '2014-01-19',\n",
       "               '2014-01-20', '2014-01-21',\n",
       "               ...\n",
       "               '2017-12-18', '2017-12-19', '2017-12-21', '2017-12-22',\n",
       "               '2017-12-23', '2017-12-24', '2017-12-25', '2017-12-28',\n",
       "               '2017-12-29', '2017-12-30'],\n",
       "              dtype='datetime64[ns]', name='Order Date', length=889, freq=None)"
      ]
     },
     "execution_count": 68,
     "metadata": {},
     "output_type": "execute_result"
    }
   ],
   "source": [
    "data_furniture = data_furniture.set_index('Order Date')\n",
    "data_furniture.index"
   ]
  },
  {
   "cell_type": "code",
   "execution_count": 69,
   "metadata": {},
   "outputs": [],
   "source": [
    "y = data_furniture['Sales'].resample('MS').mean()"
   ]
  },
  {
   "cell_type": "code",
   "execution_count": 72,
   "metadata": {},
   "outputs": [
    {
     "data": {
      "text/plain": [
       "Order Date\n",
       "2017-01-01     397.602133\n",
       "2017-02-01     528.179800\n",
       "2017-03-01     544.672240\n",
       "2017-04-01     453.297905\n",
       "2017-05-01     678.302328\n",
       "2017-06-01     826.460291\n",
       "2017-07-01     562.524857\n",
       "2017-08-01     857.881889\n",
       "2017-09-01    1209.508583\n",
       "2017-10-01     875.362728\n",
       "2017-11-01    1277.817759\n",
       "2017-12-01    1256.298672\n",
       "Freq: MS, Name: Sales, dtype: float64"
      ]
     },
     "execution_count": 72,
     "metadata": {},
     "output_type": "execute_result"
    }
   ],
   "source": [
    "y['2017':]"
   ]
  },
  {
   "cell_type": "code",
   "execution_count": 75,
   "metadata": {},
   "outputs": [
    {
     "data": {
      "image/png": "[encoded data removed]",
      "text/plain": [
       "<Figure size 1080x432 with 1 Axes>"
      ]
     },
     "metadata": {},
     "output_type": "display_data"
    }
   ],
   "source": [
    "y.plot(figsize=(15,6), lw=3)\n",
    "plt.show()"
   ]
  }
 ],
 "metadata": {
  "kernelspec": {
   "display_name": "Python 3",
   "language": "python",
   "name": "python3"
  },
  "language_info": {
   "codemirror_mode": {
    "name": "ipython",
    "version": 3
   },
   "file_extension": ".py",
   "mimetype": "text/x-python",
   "name": "python",
   "nbconvert_exporter": "python",
   "pygments_lexer": "ipython3",
   "version": "3.7.6"
  }
 },
 "nbformat": 4,
 "nbformat_minor": 4
}
