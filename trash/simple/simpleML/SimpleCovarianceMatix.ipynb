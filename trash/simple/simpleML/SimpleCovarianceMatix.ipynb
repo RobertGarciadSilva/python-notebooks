{
 "cells": [
  {
   "cell_type": "markdown",
   "metadata": {},
   "source": [
    "# Simple Covariance Matrix"
   ]
  },
  {
   "cell_type": "code",
   "execution_count": 20,
   "metadata": {},
   "outputs": [],
   "source": [
    "# Import Library\n",
    "\n",
    "import numpy as np\n",
    "import pandas as pd\n"
   ]
  },
  {
   "cell_type": "code",
   "execution_count": 21,
   "metadata": {},
   "outputs": [
    {
     "data": {
      "text/html": [
       "<div>\n",
       "<style scoped>\n",
       "    .dataframe tbody tr th:only-of-type {\n",
       "        vertical-align: middle;\n",
       "    }\n",
       "\n",
       "    .dataframe tbody tr th {\n",
       "        vertical-align: top;\n",
       "    }\n",
       "\n",
       "    .dataframe thead th {\n",
       "        text-align: right;\n",
       "    }\n",
       "</style>\n",
       "<table border=\"1\" class=\"dataframe\">\n",
       "  <thead>\n",
       "    <tr style=\"text-align: right;\">\n",
       "      <th></th>\n",
       "      <th>Estudante</th>\n",
       "      <th>GAAL</th>\n",
       "      <th>PDS1</th>\n",
       "      <th>Cálculo 1</th>\n",
       "      <th>ALC</th>\n",
       "    </tr>\n",
       "  </thead>\n",
       "  <tbody>\n",
       "    <tr>\n",
       "      <th>0</th>\n",
       "      <td>1</td>\n",
       "      <td>90</td>\n",
       "      <td>80</td>\n",
       "      <td>60</td>\n",
       "      <td>95</td>\n",
       "    </tr>\n",
       "    <tr>\n",
       "      <th>1</th>\n",
       "      <td>2</td>\n",
       "      <td>65</td>\n",
       "      <td>75</td>\n",
       "      <td>90</td>\n",
       "      <td>70</td>\n",
       "    </tr>\n",
       "    <tr>\n",
       "      <th>2</th>\n",
       "      <td>3</td>\n",
       "      <td>40</td>\n",
       "      <td>90</td>\n",
       "      <td>60</td>\n",
       "      <td>55</td>\n",
       "    </tr>\n",
       "    <tr>\n",
       "      <th>3</th>\n",
       "      <td>4</td>\n",
       "      <td>80</td>\n",
       "      <td>60</td>\n",
       "      <td>59</td>\n",
       "      <td>75</td>\n",
       "    </tr>\n",
       "    <tr>\n",
       "      <th>4</th>\n",
       "      <td>5</td>\n",
       "      <td>60</td>\n",
       "      <td>100</td>\n",
       "      <td>80</td>\n",
       "      <td>80</td>\n",
       "    </tr>\n",
       "  </tbody>\n",
       "</table>\n",
       "</div>"
      ],
      "text/plain": [
       "   Estudante  GAAL  PDS1  Cálculo 1  ALC\n",
       "0          1    90    80         60   95\n",
       "1          2    65    75         90   70\n",
       "2          3    40    90         60   55\n",
       "3          4    80    60         59   75\n",
       "4          5    60   100         80   80"
      ]
     },
     "execution_count": 21,
     "metadata": {},
     "output_type": "execute_result"
    }
   ],
   "source": [
    "\n",
    "# Simple data\n",
    "\n",
    "d = {\n",
    "    \"Estudante\": [1, 2, 3, 4, 5],\n",
    "    \"GAAL\": [90, 65, 40, 80, 60],\n",
    "    \"PDS1\": [80, 75, 90, 60, 100],\n",
    "    \"Cálculo 1\": [60, 90, 60, 59, 80],\n",
    "    \"ALC\": [95, 70, 55, 75, 80]\n",
    "    }\n",
    "\n",
    "data = pd.DataFrame(d); data"
   ]
  },
  {
   "cell_type": "code",
   "execution_count": 22,
   "metadata": {},
   "outputs": [
    {
     "data": {
      "text/plain": [
       "array([[ 90,  80,  60,  95],\n",
       "       [ 65,  75,  90,  70],\n",
       "       [ 40,  90,  60,  55],\n",
       "       [ 80,  60,  59,  75],\n",
       "       [ 60, 100,  80,  80]])"
      ]
     },
     "execution_count": 22,
     "metadata": {},
     "output_type": "execute_result"
    }
   ],
   "source": [
    "\n",
    "arr = np.array(data[['GAAL','PDS1','Cálculo 1', \"ALC\"]]); arr"
   ]
  },
  {
   "cell_type": "code",
   "execution_count": 45,
   "metadata": {},
   "outputs": [
    {
     "data": {
      "text/plain": [
       "array([[ 296.  , -132.  ,  -42.6 ,  195.  ],\n",
       "       [-132.  ,  184.  ,   44.2 ,  -15.  ],\n",
       "       [ -42.6 ,   44.2 ,  164.16,  -10.  ],\n",
       "       [ 195.  ,  -15.  ,  -10.  ,  170.  ]])"
      ]
     },
     "execution_count": 45,
     "metadata": {},
     "output_type": "execute_result"
    }
   ],
   "source": [
    "mat_cov = np.cov(arr.T, bias=True); mat_cov # Veja [1],[3], np.cov(MATRIX), MATRIX rows represent features."
   ]
  },
  {
   "cell_type": "markdown",
   "metadata": {},
   "source": [
    "- Observe que a diagonal representa a variancia de cada feature."
   ]
  },
  {
   "cell_type": "code",
   "execution_count": 62,
   "metadata": {},
   "outputs": [],
   "source": [
    "# Realizando os cálculos de forma manual\n",
    "\n",
    "#Veja [2]\n",
    "def calcula_matrizCovariancia(X):\n",
    "    matCov = np.array([])\n",
    "    numCols = X.shape[1]\n",
    "    \n",
    "    for i in range(numCols):\n",
    "        for j in range(numCols):\n",
    "            Y = np.mean( (X[:,i] - np.mean(X[:,i])) * (X[:,j] - np.mean(X[:,j])).T )\n",
    "            matCov = np.append(matCov, Y)\n",
    "    \n",
    "    return matCov.reshape(-1,numCols)\n"
   ]
  },
  {
   "cell_type": "code",
   "execution_count": 63,
   "metadata": {},
   "outputs": [
    {
     "data": {
      "text/plain": [
       "array([[ 296.  , -132.  ,  -42.6 ,  195.  ],\n",
       "       [-132.  ,  184.  ,   44.2 ,  -15.  ],\n",
       "       [ -42.6 ,   44.2 ,  164.16,  -10.  ],\n",
       "       [ 195.  ,  -15.  ,  -10.  ,  170.  ]])"
      ]
     },
     "execution_count": 63,
     "metadata": {},
     "output_type": "execute_result"
    }
   ],
   "source": [
    "calcula_matrizCovariancia(arr)"
   ]
  },
  {
   "cell_type": "markdown",
   "metadata": {},
   "source": [
    "## Reference"
   ]
  },
  {
   "cell_type": "markdown",
   "metadata": {},
   "source": [
    "[1]https://numpy.org/doc/stable/reference/generated/numpy.cov.html<br>\n",
    "[2]https://en.wikipedia.org/wiki/Covariance_matrix<br>\n",
    "[3]https://stackoverflow.com/questions/15317822/calculating-covariance-with-python-and-numpy<br>"
   ]
  }
 ],
 "metadata": {
  "kernelspec": {
   "display_name": "Python 3",
   "language": "python",
   "name": "python3"
  },
  "language_info": {
   "codemirror_mode": {
    "name": "ipython",
    "version": 3
   },
   "file_extension": ".py",
   "mimetype": "text/x-python",
   "name": "python",
   "nbconvert_exporter": "python",
   "pygments_lexer": "ipython3",
   "version": "3.7.6"
  }
 },
 "nbformat": 4,
 "nbformat_minor": 4
}
