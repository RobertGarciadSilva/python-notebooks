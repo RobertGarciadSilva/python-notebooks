{
 "cells": [
  {
   "cell_type": "markdown",
   "metadata": {},
   "source": [
    "## Examples"
   ]
  },
  {
   "cell_type": "code",
   "execution_count": 2,
   "metadata": {},
   "outputs": [],
   "source": [
    "\n",
    "import numpy as np\n",
    "import matplotlib.pyplot as plt\n",
    "\n",
    "from scipy.stats import norm\n"
   ]
  },
  {
   "cell_type": "code",
   "execution_count": null,
   "metadata": {},
   "outputs": [],
   "source": []
  },
  {
   "cell_type": "code",
   "execution_count": 39,
   "metadata": {},
   "outputs": [
    {
     "data": {
      "image/png": "[encoded data removed]",
      "text/plain": [
       "<Figure size 1152x288 with 3 Axes>"
      ]
     },
     "metadata": {
      "needs_background": "light"
     },
     "output_type": "display_data"
    }
   ],
   "source": [
    "\n",
    "num = 2000\n",
    "dim = 3\n",
    "matCov = np.array([[4,9,-14],[9,30,-44],[-14,-44,94]])\n",
    "mu = np.array([10,20,-50]).reshape(3,1)\n",
    "\n",
    "amostra = np.array([])\n",
    "\n",
    "for d in range(dim):\n",
    "    Yd = norm.rvs(size=num)\n",
    "    amostra = np.append(amostra, Yd)\n",
    "\n",
    "amostra = amostra.reshape(3,-1) #vetor aleátorio\n",
    "\n",
    "fig, (axe1, axe2, axe3) = plt.subplots(1,3, figsize=(16,4))\n",
    "\n",
    "axe1.hist(amostra[0], density=True, edgecolor='black')\n",
    "axe2.hist(amostra[1], density=True, edgecolor='black')\n",
    "axe3.hist(amostra[2], density=True, edgecolor='black')\n",
    "\n",
    "plt.show()"
   ]
  },
  {
   "cell_type": "code",
   "execution_count": 51,
   "metadata": {},
   "outputs": [
    {
     "name": "stdout",
     "output_type": "stream",
     "text": [
      "10.039173848783252 \n",
      " 20.02233766614635 \n",
      " -50.1517197725241\n",
      "3.9002328187403292\n",
      "30.7641395274346\n",
      "98.83951188437263\n"
     ]
    }
   ],
   "source": [
    "\n",
    "L = np.linalg.cholesky(matCov)\n",
    "\n",
    "X = np.add(mu, np.matmul(L,amostra))\n",
    "\n",
    "m1 = np.mean(X[0]);\n",
    "m2 = np.mean(X[1])\n",
    "m3 = np.mean(X[2])\n",
    "print(m1, '\\n', m2, '\\n', m3)\n",
    "\n",
    "print(np.std(X[0])**2)\n",
    "print(np.std(X[1])**2)\n",
    "print(np.std(X[2])**2)"
   ]
  },
  {
   "cell_type": "code",
   "execution_count": 52,
   "metadata": {},
   "outputs": [
    {
     "data": {
      "text/plain": [
       "array([[  3.90218391,   9.0807789 , -14.18251773],\n",
       "       [  9.0807789 ,  30.77952929, -45.58694253],\n",
       "       [-14.18251773, -45.58694253,  98.88895636]])"
      ]
     },
     "execution_count": 52,
     "metadata": {},
     "output_type": "execute_result"
    }
   ],
   "source": [
    "np.cov(X)"
   ]
  }
 ],
 "metadata": {
  "kernelspec": {
   "display_name": "Python 3",
   "language": "python",
   "name": "python3"
  },
  "language_info": {
   "codemirror_mode": {
    "name": "ipython",
    "version": 3
   },
   "file_extension": ".py",
   "mimetype": "text/x-python",
   "name": "python",
   "nbconvert_exporter": "python",
   "pygments_lexer": "ipython3",
   "version": "3.7.6"
  }
 },
 "nbformat": 4,
 "nbformat_minor": 4
}
