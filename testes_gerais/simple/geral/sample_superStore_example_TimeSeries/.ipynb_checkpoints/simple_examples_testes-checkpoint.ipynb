{
 "cells": [
  {
   "cell_type": "code",
   "execution_count": 81,
   "metadata": {},
   "outputs": [],
   "source": [
    "\n",
    "import numpy as np\n",
    "import pandas as pd\n",
    "import matplotlib.pyplot as plt\n",
    "import seaborn as sns; sns.set()"
   ]
  },
  {
   "cell_type": "code",
   "execution_count": 82,
   "metadata": {},
   "outputs": [
    {
     "name": "stdout",
     "output_type": "stream",
     "text": [
      "8921 days 04:30:00\n"
     ]
    }
   ],
   "source": [
    "\n",
    "date_aniversary = pd.to_datetime('13-01-1996 12:00:00')\n",
    "date_now = pd.to_datetime('16-06-2020 16:30')\n",
    "\n",
    "time_delta = date_now - date_aniversary\n",
    "\n",
    "print(time_delta)"
   ]
  },
  {
   "cell_type": "code",
   "execution_count": 83,
   "metadata": {},
   "outputs": [],
   "source": [
    "#np.random.rand(10)"
   ]
  },
  {
   "cell_type": "code",
   "execution_count": 84,
   "metadata": {},
   "outputs": [
    {
     "data": {
      "text/html": [
       "<div>\n",
       "<style scoped>\n",
       "    .dataframe tbody tr th:only-of-type {\n",
       "        vertical-align: middle;\n",
       "    }\n",
       "\n",
       "    .dataframe tbody tr th {\n",
       "        vertical-align: top;\n",
       "    }\n",
       "\n",
       "    .dataframe thead th {\n",
       "        text-align: right;\n",
       "    }\n",
       "</style>\n",
       "<table border=\"1\" class=\"dataframe\">\n",
       "  <thead>\n",
       "    <tr style=\"text-align: right;\">\n",
       "      <th></th>\n",
       "      <th>0</th>\n",
       "    </tr>\n",
       "  </thead>\n",
       "  <tbody>\n",
       "    <tr>\n",
       "      <th>1996-01-13</th>\n",
       "      <td>0.740588</td>\n",
       "    </tr>\n",
       "    <tr>\n",
       "      <th>1996-01-14</th>\n",
       "      <td>0.318534</td>\n",
       "    </tr>\n",
       "    <tr>\n",
       "      <th>1996-01-15</th>\n",
       "      <td>0.462524</td>\n",
       "    </tr>\n",
       "    <tr>\n",
       "      <th>1996-01-16</th>\n",
       "      <td>0.498957</td>\n",
       "    </tr>\n",
       "    <tr>\n",
       "      <th>1996-01-17</th>\n",
       "      <td>0.562909</td>\n",
       "    </tr>\n",
       "    <tr>\n",
       "      <th>1996-01-18</th>\n",
       "      <td>0.904309</td>\n",
       "    </tr>\n",
       "    <tr>\n",
       "      <th>1996-01-19</th>\n",
       "      <td>0.518013</td>\n",
       "    </tr>\n",
       "    <tr>\n",
       "      <th>1996-01-20</th>\n",
       "      <td>0.538351</td>\n",
       "    </tr>\n",
       "    <tr>\n",
       "      <th>1996-01-21</th>\n",
       "      <td>0.038083</td>\n",
       "    </tr>\n",
       "    <tr>\n",
       "      <th>1996-01-22</th>\n",
       "      <td>0.532218</td>\n",
       "    </tr>\n",
       "    <tr>\n",
       "      <th>1996-01-23</th>\n",
       "      <td>0.255312</td>\n",
       "    </tr>\n",
       "    <tr>\n",
       "      <th>1996-01-24</th>\n",
       "      <td>0.488180</td>\n",
       "    </tr>\n",
       "    <tr>\n",
       "      <th>1996-01-25</th>\n",
       "      <td>0.231459</td>\n",
       "    </tr>\n",
       "  </tbody>\n",
       "</table>\n",
       "</div>"
      ],
      "text/plain": [
       "                   0\n",
       "1996-01-13  0.740588\n",
       "1996-01-14  0.318534\n",
       "1996-01-15  0.462524\n",
       "1996-01-16  0.498957\n",
       "1996-01-17  0.562909\n",
       "1996-01-18  0.904309\n",
       "1996-01-19  0.518013\n",
       "1996-01-20  0.538351\n",
       "1996-01-21  0.038083\n",
       "1996-01-22  0.532218\n",
       "1996-01-23  0.255312\n",
       "1996-01-24  0.488180\n",
       "1996-01-25  0.231459"
      ]
     },
     "execution_count": 84,
     "metadata": {},
     "output_type": "execute_result"
    }
   ],
   "source": [
    "\n",
    "# creating some toy dates\n",
    "\n",
    "dates = pd.date_range('13-01-1996','25-01-1996')\n",
    "\n",
    "#df_data = pd.DataFrame([x for x in range(len(dates))], index=dates); df_data\n",
    "df_data = pd.DataFrame(np.random.rand(len(dates)), index=dates); df_data"
   ]
  },
  {
   "cell_type": "code",
   "execution_count": 85,
   "metadata": {},
   "outputs": [
    {
     "data": {
      "text/plain": [
       "DatetimeIndex(['1996-01-13', '1996-01-14', '1996-01-15', '1996-01-16',\n",
       "               '1996-01-17', '1996-01-18', '1996-01-19', '1996-01-20',\n",
       "               '1996-01-21', '1996-01-22', '1996-01-23', '1996-01-24',\n",
       "               '1996-01-25'],\n",
       "              dtype='datetime64[ns]', freq='D')"
      ]
     },
     "execution_count": 85,
     "metadata": {},
     "output_type": "execute_result"
    }
   ],
   "source": [
    "dates"
   ]
  },
  {
   "cell_type": "code",
   "execution_count": 86,
   "metadata": {},
   "outputs": [],
   "source": [
    "dates = dates.append(pd.to_datetime(['13-01-1996']))"
   ]
  },
  {
   "cell_type": "code",
   "execution_count": 87,
   "metadata": {},
   "outputs": [
    {
     "name": "stdout",
     "output_type": "stream",
     "text": [
      "14\n"
     ]
    },
    {
     "data": {
      "text/plain": [
       "DatetimeIndex(['1996-01-13', '1996-01-14', '1996-01-15', '1996-01-16',\n",
       "               '1996-01-17', '1996-01-18', '1996-01-19', '1996-01-20',\n",
       "               '1996-01-21', '1996-01-22', '1996-01-23', '1996-01-24',\n",
       "               '1996-01-25', '1996-01-13'],\n",
       "              dtype='datetime64[ns]', freq=None)"
      ]
     },
     "execution_count": 87,
     "metadata": {},
     "output_type": "execute_result"
    }
   ],
   "source": [
    "print(len(dates)); dates"
   ]
  },
  {
   "cell_type": "code",
   "execution_count": 88,
   "metadata": {},
   "outputs": [
    {
     "data": {
      "text/html": [
       "<div>\n",
       "<style scoped>\n",
       "    .dataframe tbody tr th:only-of-type {\n",
       "        vertical-align: middle;\n",
       "    }\n",
       "\n",
       "    .dataframe tbody tr th {\n",
       "        vertical-align: top;\n",
       "    }\n",
       "\n",
       "    .dataframe thead th {\n",
       "        text-align: right;\n",
       "    }\n",
       "</style>\n",
       "<table border=\"1\" class=\"dataframe\">\n",
       "  <thead>\n",
       "    <tr style=\"text-align: right;\">\n",
       "      <th></th>\n",
       "      <th>0</th>\n",
       "    </tr>\n",
       "  </thead>\n",
       "  <tbody>\n",
       "    <tr>\n",
       "      <th>1996-01-13</th>\n",
       "      <td>0.326864</td>\n",
       "    </tr>\n",
       "    <tr>\n",
       "      <th>1996-01-14</th>\n",
       "      <td>0.212244</td>\n",
       "    </tr>\n",
       "    <tr>\n",
       "      <th>1996-01-15</th>\n",
       "      <td>0.652322</td>\n",
       "    </tr>\n",
       "    <tr>\n",
       "      <th>1996-01-16</th>\n",
       "      <td>0.207566</td>\n",
       "    </tr>\n",
       "    <tr>\n",
       "      <th>1996-01-17</th>\n",
       "      <td>0.615111</td>\n",
       "    </tr>\n",
       "    <tr>\n",
       "      <th>1996-01-18</th>\n",
       "      <td>0.553473</td>\n",
       "    </tr>\n",
       "    <tr>\n",
       "      <th>1996-01-19</th>\n",
       "      <td>0.222560</td>\n",
       "    </tr>\n",
       "    <tr>\n",
       "      <th>1996-01-20</th>\n",
       "      <td>0.486454</td>\n",
       "    </tr>\n",
       "    <tr>\n",
       "      <th>1996-01-21</th>\n",
       "      <td>0.036557</td>\n",
       "    </tr>\n",
       "    <tr>\n",
       "      <th>1996-01-22</th>\n",
       "      <td>0.417465</td>\n",
       "    </tr>\n",
       "    <tr>\n",
       "      <th>1996-01-23</th>\n",
       "      <td>0.773907</td>\n",
       "    </tr>\n",
       "    <tr>\n",
       "      <th>1996-01-24</th>\n",
       "      <td>0.276160</td>\n",
       "    </tr>\n",
       "    <tr>\n",
       "      <th>1996-01-25</th>\n",
       "      <td>0.321244</td>\n",
       "    </tr>\n",
       "    <tr>\n",
       "      <th>1996-01-13</th>\n",
       "      <td>0.190604</td>\n",
       "    </tr>\n",
       "  </tbody>\n",
       "</table>\n",
       "</div>"
      ],
      "text/plain": [
       "                   0\n",
       "1996-01-13  0.326864\n",
       "1996-01-14  0.212244\n",
       "1996-01-15  0.652322\n",
       "1996-01-16  0.207566\n",
       "1996-01-17  0.615111\n",
       "1996-01-18  0.553473\n",
       "1996-01-19  0.222560\n",
       "1996-01-20  0.486454\n",
       "1996-01-21  0.036557\n",
       "1996-01-22  0.417465\n",
       "1996-01-23  0.773907\n",
       "1996-01-24  0.276160\n",
       "1996-01-25  0.321244\n",
       "1996-01-13  0.190604"
      ]
     },
     "execution_count": 88,
     "metadata": {},
     "output_type": "execute_result"
    }
   ],
   "source": [
    "\n",
    "df_dates2 = pd.DataFrame(np.random.rand(len(dates)), index=dates); df_dates2"
   ]
  },
  {
   "cell_type": "code",
   "execution_count": 89,
   "metadata": {},
   "outputs": [
    {
     "data": {
      "text/plain": [
       "DatetimeIndex(['1996-01-13', '1996-01-14', '1996-01-15', '1996-01-16',\n",
       "               '1996-01-17', '1996-01-18', '1996-01-19', '1996-01-20',\n",
       "               '1996-01-21', '1996-01-22', '1996-01-23', '1996-01-24',\n",
       "               '1996-01-25', '1996-01-13'],\n",
       "              dtype='datetime64[ns]', freq=None)"
      ]
     },
     "execution_count": 89,
     "metadata": {},
     "output_type": "execute_result"
    }
   ],
   "source": [
    "df_dates2.index"
   ]
  },
  {
   "cell_type": "code",
   "execution_count": 90,
   "metadata": {},
   "outputs": [],
   "source": [
    "dates2_index = df_dates2.index.sort_values()"
   ]
  },
  {
   "cell_type": "code",
   "execution_count": 93,
   "metadata": {},
   "outputs": [
    {
     "data": {
      "text/html": [
       "<div>\n",
       "<style scoped>\n",
       "    .dataframe tbody tr th:only-of-type {\n",
       "        vertical-align: middle;\n",
       "    }\n",
       "\n",
       "    .dataframe tbody tr th {\n",
       "        vertical-align: top;\n",
       "    }\n",
       "\n",
       "    .dataframe thead th {\n",
       "        text-align: right;\n",
       "    }\n",
       "</style>\n",
       "<table border=\"1\" class=\"dataframe\">\n",
       "  <thead>\n",
       "    <tr style=\"text-align: right;\">\n",
       "      <th></th>\n",
       "      <th>0</th>\n",
       "    </tr>\n",
       "  </thead>\n",
       "  <tbody>\n",
       "    <tr>\n",
       "      <th>1996-01-13</th>\n",
       "      <td>0.326864</td>\n",
       "    </tr>\n",
       "    <tr>\n",
       "      <th>1996-01-13</th>\n",
       "      <td>0.212244</td>\n",
       "    </tr>\n",
       "    <tr>\n",
       "      <th>1996-01-14</th>\n",
       "      <td>0.652322</td>\n",
       "    </tr>\n",
       "    <tr>\n",
       "      <th>1996-01-15</th>\n",
       "      <td>0.207566</td>\n",
       "    </tr>\n",
       "    <tr>\n",
       "      <th>1996-01-16</th>\n",
       "      <td>0.615111</td>\n",
       "    </tr>\n",
       "    <tr>\n",
       "      <th>1996-01-17</th>\n",
       "      <td>0.553473</td>\n",
       "    </tr>\n",
       "    <tr>\n",
       "      <th>1996-01-18</th>\n",
       "      <td>0.222560</td>\n",
       "    </tr>\n",
       "    <tr>\n",
       "      <th>1996-01-19</th>\n",
       "      <td>0.486454</td>\n",
       "    </tr>\n",
       "    <tr>\n",
       "      <th>1996-01-20</th>\n",
       "      <td>0.036557</td>\n",
       "    </tr>\n",
       "    <tr>\n",
       "      <th>1996-01-21</th>\n",
       "      <td>0.417465</td>\n",
       "    </tr>\n",
       "    <tr>\n",
       "      <th>1996-01-22</th>\n",
       "      <td>0.773907</td>\n",
       "    </tr>\n",
       "    <tr>\n",
       "      <th>1996-01-23</th>\n",
       "      <td>0.276160</td>\n",
       "    </tr>\n",
       "    <tr>\n",
       "      <th>1996-01-24</th>\n",
       "      <td>0.321244</td>\n",
       "    </tr>\n",
       "    <tr>\n",
       "      <th>1996-01-25</th>\n",
       "      <td>0.190604</td>\n",
       "    </tr>\n",
       "  </tbody>\n",
       "</table>\n",
       "</div>"
      ],
      "text/plain": [
       "                   0\n",
       "1996-01-13  0.326864\n",
       "1996-01-13  0.212244\n",
       "1996-01-14  0.652322\n",
       "1996-01-15  0.207566\n",
       "1996-01-16  0.615111\n",
       "1996-01-17  0.553473\n",
       "1996-01-18  0.222560\n",
       "1996-01-19  0.486454\n",
       "1996-01-20  0.036557\n",
       "1996-01-21  0.417465\n",
       "1996-01-22  0.773907\n",
       "1996-01-23  0.276160\n",
       "1996-01-24  0.321244\n",
       "1996-01-25  0.190604"
      ]
     },
     "execution_count": 93,
     "metadata": {},
     "output_type": "execute_result"
    }
   ],
   "source": [
    "df_dates2.set_index(dates2_index, inplace=True); df_dates2"
   ]
  },
  {
   "cell_type": "code",
   "execution_count": 96,
   "metadata": {},
   "outputs": [],
   "source": [
    "df_dates3 = df_dates2[0].resample('D').sum()"
   ]
  },
  {
   "cell_type": "code",
   "execution_count": 97,
   "metadata": {},
   "outputs": [
    {
     "data": {
      "text/plain": [
       "1996-01-13    0.539108\n",
       "1996-01-14    0.652322\n",
       "1996-01-15    0.207566\n",
       "1996-01-16    0.615111\n",
       "1996-01-17    0.553473\n",
       "1996-01-18    0.222560\n",
       "1996-01-19    0.486454\n",
       "1996-01-20    0.036557\n",
       "1996-01-21    0.417465\n",
       "1996-01-22    0.773907\n",
       "1996-01-23    0.276160\n",
       "1996-01-24    0.321244\n",
       "1996-01-25    0.190604\n",
       "Freq: D, Name: 0, dtype: float64"
      ]
     },
     "execution_count": 97,
     "metadata": {},
     "output_type": "execute_result"
    }
   ],
   "source": [
    "df_dates3"
   ]
  },
  {
   "cell_type": "code",
   "execution_count": 101,
   "metadata": {},
   "outputs": [
    {
     "data": {
      "text/html": [
       "<div>\n",
       "<style scoped>\n",
       "    .dataframe tbody tr th:only-of-type {\n",
       "        vertical-align: middle;\n",
       "    }\n",
       "\n",
       "    .dataframe tbody tr th {\n",
       "        vertical-align: top;\n",
       "    }\n",
       "\n",
       "    .dataframe thead th {\n",
       "        text-align: right;\n",
       "    }\n",
       "</style>\n",
       "<table border=\"1\" class=\"dataframe\">\n",
       "  <thead>\n",
       "    <tr style=\"text-align: right;\">\n",
       "      <th></th>\n",
       "      <th>0</th>\n",
       "    </tr>\n",
       "  </thead>\n",
       "  <tbody>\n",
       "    <tr>\n",
       "      <th>1996-01-29</th>\n",
       "      <td>5</td>\n",
       "    </tr>\n",
       "  </tbody>\n",
       "</table>\n",
       "</div>"
      ],
      "text/plain": [
       "            0\n",
       "1996-01-29  5"
      ]
     },
     "execution_count": 101,
     "metadata": {},
     "output_type": "execute_result"
    }
   ],
   "source": [
    "dframe_e = pd.DataFrame([5], index=pd.to_datetime(['29-01-1996'])); dframe_e"
   ]
  },
  {
   "cell_type": "code",
   "execution_count": 102,
   "metadata": {},
   "outputs": [
    {
     "data": {
      "text/html": [
       "<div>\n",
       "<style scoped>\n",
       "    .dataframe tbody tr th:only-of-type {\n",
       "        vertical-align: middle;\n",
       "    }\n",
       "\n",
       "    .dataframe tbody tr th {\n",
       "        vertical-align: top;\n",
       "    }\n",
       "\n",
       "    .dataframe thead th {\n",
       "        text-align: right;\n",
       "    }\n",
       "</style>\n",
       "<table border=\"1\" class=\"dataframe\">\n",
       "  <thead>\n",
       "    <tr style=\"text-align: right;\">\n",
       "      <th></th>\n",
       "      <th>0</th>\n",
       "    </tr>\n",
       "  </thead>\n",
       "  <tbody>\n",
       "    <tr>\n",
       "      <th>1996-01-13</th>\n",
       "      <td>0.539108</td>\n",
       "    </tr>\n",
       "    <tr>\n",
       "      <th>1996-01-14</th>\n",
       "      <td>0.652322</td>\n",
       "    </tr>\n",
       "    <tr>\n",
       "      <th>1996-01-15</th>\n",
       "      <td>0.207566</td>\n",
       "    </tr>\n",
       "    <tr>\n",
       "      <th>1996-01-16</th>\n",
       "      <td>0.615111</td>\n",
       "    </tr>\n",
       "    <tr>\n",
       "      <th>1996-01-17</th>\n",
       "      <td>0.553473</td>\n",
       "    </tr>\n",
       "    <tr>\n",
       "      <th>1996-01-18</th>\n",
       "      <td>0.222560</td>\n",
       "    </tr>\n",
       "    <tr>\n",
       "      <th>1996-01-19</th>\n",
       "      <td>0.486454</td>\n",
       "    </tr>\n",
       "    <tr>\n",
       "      <th>1996-01-20</th>\n",
       "      <td>0.036557</td>\n",
       "    </tr>\n",
       "    <tr>\n",
       "      <th>1996-01-21</th>\n",
       "      <td>0.417465</td>\n",
       "    </tr>\n",
       "    <tr>\n",
       "      <th>1996-01-22</th>\n",
       "      <td>0.773907</td>\n",
       "    </tr>\n",
       "    <tr>\n",
       "      <th>1996-01-23</th>\n",
       "      <td>0.276160</td>\n",
       "    </tr>\n",
       "    <tr>\n",
       "      <th>1996-01-24</th>\n",
       "      <td>0.321244</td>\n",
       "    </tr>\n",
       "    <tr>\n",
       "      <th>1996-01-25</th>\n",
       "      <td>0.190604</td>\n",
       "    </tr>\n",
       "    <tr>\n",
       "      <th>1996-01-29</th>\n",
       "      <td>5.000000</td>\n",
       "    </tr>\n",
       "  </tbody>\n",
       "</table>\n",
       "</div>"
      ],
      "text/plain": [
       "                   0\n",
       "1996-01-13  0.539108\n",
       "1996-01-14  0.652322\n",
       "1996-01-15  0.207566\n",
       "1996-01-16  0.615111\n",
       "1996-01-17  0.553473\n",
       "1996-01-18  0.222560\n",
       "1996-01-19  0.486454\n",
       "1996-01-20  0.036557\n",
       "1996-01-21  0.417465\n",
       "1996-01-22  0.773907\n",
       "1996-01-23  0.276160\n",
       "1996-01-24  0.321244\n",
       "1996-01-25  0.190604\n",
       "1996-01-29  5.000000"
      ]
     },
     "execution_count": 102,
     "metadata": {},
     "output_type": "execute_result"
    }
   ],
   "source": [
    "df4 = pd.concat([df_dates3, dframe_e]); df4"
   ]
  },
  {
   "cell_type": "code",
   "execution_count": 103,
   "metadata": {},
   "outputs": [],
   "source": [
    "df4 = df4[0].resample('D').sum()"
   ]
  },
  {
   "cell_type": "code",
   "execution_count": 104,
   "metadata": {},
   "outputs": [
    {
     "data": {
      "text/plain": [
       "1996-01-13    0.539108\n",
       "1996-01-14    0.652322\n",
       "1996-01-15    0.207566\n",
       "1996-01-16    0.615111\n",
       "1996-01-17    0.553473\n",
       "1996-01-18    0.222560\n",
       "1996-01-19    0.486454\n",
       "1996-01-20    0.036557\n",
       "1996-01-21    0.417465\n",
       "1996-01-22    0.773907\n",
       "1996-01-23    0.276160\n",
       "1996-01-24    0.321244\n",
       "1996-01-25    0.190604\n",
       "1996-01-26    0.000000\n",
       "1996-01-27    0.000000\n",
       "1996-01-28    0.000000\n",
       "1996-01-29    5.000000\n",
       "Freq: D, Name: 0, dtype: float64"
      ]
     },
     "execution_count": 104,
     "metadata": {},
     "output_type": "execute_result"
    }
   ],
   "source": [
    "df4"
   ]
  },
  {
   "cell_type": "code",
   "execution_count": 107,
   "metadata": {},
   "outputs": [
    {
     "data": {
      "text/plain": [
       "pandas.core.series.Series"
      ]
     },
     "execution_count": 107,
     "metadata": {},
     "output_type": "execute_result"
    }
   ],
   "source": [
    "type(df4)"
   ]
  },
  {
   "cell_type": "code",
   "execution_count": 115,
   "metadata": {},
   "outputs": [
    {
     "data": {
      "text/plain": [
       "DatetimeIndex(['1996-01-13', '1996-01-14', '1996-01-15', '1996-01-16',\n",
       "               '1996-01-17', '1996-01-18', '1996-01-19', '1996-01-20',\n",
       "               '1996-01-21', '1996-01-22', '1996-01-23', '1996-01-24',\n",
       "               '1996-01-25', '1996-01-26', '1996-01-27', '1996-01-28',\n",
       "               '1996-01-29'],\n",
       "              dtype='datetime64[ns]', freq='D')"
      ]
     },
     "execution_count": 115,
     "metadata": {},
     "output_type": "execute_result"
    }
   ],
   "source": [
    "df4.index"
   ]
  },
  {
   "cell_type": "code",
   "execution_count": null,
   "metadata": {},
   "outputs": [],
   "source": []
  },
  {
   "cell_type": "code",
   "execution_count": null,
   "metadata": {},
   "outputs": [],
   "source": []
  },
  {
   "cell_type": "code",
   "execution_count": 128,
   "metadata": {},
   "outputs": [
    {
     "data": {
      "text/html": [
       "<div>\n",
       "<style scoped>\n",
       "    .dataframe tbody tr th:only-of-type {\n",
       "        vertical-align: middle;\n",
       "    }\n",
       "\n",
       "    .dataframe tbody tr th {\n",
       "        vertical-align: top;\n",
       "    }\n",
       "\n",
       "    .dataframe thead th {\n",
       "        text-align: right;\n",
       "    }\n",
       "</style>\n",
       "<table border=\"1\" class=\"dataframe\">\n",
       "  <thead>\n",
       "    <tr style=\"text-align: right;\">\n",
       "      <th></th>\n",
       "      <th>0</th>\n",
       "    </tr>\n",
       "  </thead>\n",
       "  <tbody>\n",
       "    <tr>\n",
       "      <th>1996-01-13</th>\n",
       "      <td>0.539108</td>\n",
       "    </tr>\n",
       "    <tr>\n",
       "      <th>1996-01-14</th>\n",
       "      <td>0.652322</td>\n",
       "    </tr>\n",
       "    <tr>\n",
       "      <th>1996-01-15</th>\n",
       "      <td>0.207566</td>\n",
       "    </tr>\n",
       "    <tr>\n",
       "      <th>1996-01-16</th>\n",
       "      <td>0.615111</td>\n",
       "    </tr>\n",
       "    <tr>\n",
       "      <th>1996-01-17</th>\n",
       "      <td>0.553473</td>\n",
       "    </tr>\n",
       "    <tr>\n",
       "      <th>1996-01-18</th>\n",
       "      <td>0.222560</td>\n",
       "    </tr>\n",
       "    <tr>\n",
       "      <th>1996-01-19</th>\n",
       "      <td>0.486454</td>\n",
       "    </tr>\n",
       "    <tr>\n",
       "      <th>1996-01-20</th>\n",
       "      <td>0.036557</td>\n",
       "    </tr>\n",
       "    <tr>\n",
       "      <th>1996-01-21</th>\n",
       "      <td>0.417465</td>\n",
       "    </tr>\n",
       "    <tr>\n",
       "      <th>1996-01-22</th>\n",
       "      <td>0.773907</td>\n",
       "    </tr>\n",
       "    <tr>\n",
       "      <th>1996-01-23</th>\n",
       "      <td>0.276160</td>\n",
       "    </tr>\n",
       "    <tr>\n",
       "      <th>1996-01-24</th>\n",
       "      <td>0.321244</td>\n",
       "    </tr>\n",
       "    <tr>\n",
       "      <th>1996-01-25</th>\n",
       "      <td>0.190604</td>\n",
       "    </tr>\n",
       "    <tr>\n",
       "      <th>1996-01-26</th>\n",
       "      <td>0.000000</td>\n",
       "    </tr>\n",
       "    <tr>\n",
       "      <th>1996-01-27</th>\n",
       "      <td>0.000000</td>\n",
       "    </tr>\n",
       "    <tr>\n",
       "      <th>1996-01-28</th>\n",
       "      <td>0.000000</td>\n",
       "    </tr>\n",
       "    <tr>\n",
       "      <th>1996-01-29</th>\n",
       "      <td>5.000000</td>\n",
       "    </tr>\n",
       "  </tbody>\n",
       "</table>\n",
       "</div>"
      ],
      "text/plain": [
       "                   0\n",
       "1996-01-13  0.539108\n",
       "1996-01-14  0.652322\n",
       "1996-01-15  0.207566\n",
       "1996-01-16  0.615111\n",
       "1996-01-17  0.553473\n",
       "1996-01-18  0.222560\n",
       "1996-01-19  0.486454\n",
       "1996-01-20  0.036557\n",
       "1996-01-21  0.417465\n",
       "1996-01-22  0.773907\n",
       "1996-01-23  0.276160\n",
       "1996-01-24  0.321244\n",
       "1996-01-25  0.190604\n",
       "1996-01-26  0.000000\n",
       "1996-01-27  0.000000\n",
       "1996-01-28  0.000000\n",
       "1996-01-29  5.000000"
      ]
     },
     "execution_count": 128,
     "metadata": {},
     "output_type": "execute_result"
    }
   ],
   "source": [
    "df4 = pd.DataFrame(df4, index=df4.index); df4"
   ]
  }
 ],
 "metadata": {
  "kernelspec": {
   "display_name": "Python 3",
   "language": "python",
   "name": "python3"
  },
  "language_info": {
   "codemirror_mode": {
    "name": "ipython",
    "version": 3
   },
   "file_extension": ".py",
   "mimetype": "text/x-python",
   "name": "python",
   "nbconvert_exporter": "python",
   "pygments_lexer": "ipython3",
   "version": "3.7.6"
  }
 },
 "nbformat": 4,
 "nbformat_minor": 4
}
