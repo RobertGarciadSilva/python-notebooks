{
 "cells": [
  {
   "cell_type": "code",
   "execution_count": 1,
   "metadata": {},
   "outputs": [],
   "source": [
    "\n",
    "import numpy as np"
   ]
  },
  {
   "cell_type": "code",
   "execution_count": 23,
   "metadata": {},
   "outputs": [],
   "source": [
    "\n",
    "p = [0.625, -0.219, 0.749, 0.593, -0.491, -0.638, 0.507, 0.843, -0.177]\n",
    "lam = [1.196, 0.68, 0.36]\n",
    "\n",
    "P = np.array(p).reshape(3,3)\n",
    "P_t = P.T\n",
    "lam = np.diag(lam)"
   ]
  },
  {
   "cell_type": "code",
   "execution_count": 24,
   "metadata": {},
   "outputs": [
    {
     "name": "stdout",
     "output_type": "stream",
     "text": [
      "P:\n",
      " [[ 0.625 -0.219  0.749]\n",
      " [ 0.593 -0.491 -0.638]\n",
      " [ 0.507  0.843 -0.177]]\n",
      "P_transposta:\n",
      " [[ 0.625  0.593  0.507]\n",
      " [-0.219 -0.491  0.843]\n",
      " [ 0.749 -0.638 -0.177]]\n",
      "Lambda:\n",
      " [[1.196 0.    0.   ]\n",
      " [0.    0.68  0.   ]\n",
      " [0.    0.    0.36 ]]\n"
     ]
    }
   ],
   "source": [
    "print('P:\\n',P, end='\\n')\n",
    "print('P_transposta:\\n',P_t, end='\\n')\n",
    "print('Lambda:\\n', lam, end='\\n')"
   ]
  },
  {
   "cell_type": "code",
   "execution_count": 25,
   "metadata": {},
   "outputs": [
    {
     "data": {
      "text/plain": [
       "array([[0.70176134, 0.3443569 , 0.20571666],\n",
       "       [0.3443569 , 0.73104312, 0.11877112],\n",
       "       [0.20571666, 0.11877112, 0.80195036]])"
      ]
     },
     "execution_count": 25,
     "metadata": {},
     "output_type": "execute_result"
    }
   ],
   "source": [
    "\n",
    "# Sigma = P*lam*P_transposta\n",
    "\n",
    "S = np.matmul(P,np.matmul(lam,P_t)); S"
   ]
  },
  {
   "cell_type": "code",
   "execution_count": null,
   "metadata": {},
   "outputs": [],
   "source": []
  },
  {
   "cell_type": "code",
   "execution_count": 27,
   "metadata": {},
   "outputs": [],
   "source": [
    "\n",
    "p2 = [0.5, 0.5, 1/np.sqrt(2), 0.5, 0.5, -1/np.sqrt(2), 1/np.sqrt(2), -1/np.sqrt(2), 0]\n",
    "P2 = np.array(p2).reshape(3,3)\n",
    "P2_t = P2.T\n",
    "\n",
    "lam2 = [2.25, 1.96, 0.16]\n",
    "lam2 = np.diag(lam2)"
   ]
  },
  {
   "cell_type": "code",
   "execution_count": 28,
   "metadata": {},
   "outputs": [
    {
     "name": "stdout",
     "output_type": "stream",
     "text": [
      "P:\n",
      " [[ 0.5         0.5         0.70710678]\n",
      " [ 0.5         0.5        -0.70710678]\n",
      " [ 0.70710678 -0.70710678  0.        ]]\n",
      "P_transposta:\n",
      " [[ 0.5         0.5         0.70710678]\n",
      " [ 0.5         0.5        -0.70710678]\n",
      " [ 0.70710678 -0.70710678  0.        ]]\n",
      "Lambda:\n",
      " [[2.25 0.   0.  ]\n",
      " [0.   1.96 0.  ]\n",
      " [0.   0.   0.16]]\n"
     ]
    }
   ],
   "source": [
    "print('P:\\n',P2, end='\\n')\n",
    "print('P_transposta:\\n',P2_t, end='\\n')\n",
    "print('Lambda:\\n', lam2, end='\\n')"
   ]
  },
  {
   "cell_type": "code",
   "execution_count": 29,
   "metadata": {},
   "outputs": [
    {
     "data": {
      "text/plain": [
       "array([[1.1325    , 0.9725    , 0.10253048],\n",
       "       [0.9725    , 1.1325    , 0.10253048],\n",
       "       [0.10253048, 0.10253048, 2.105     ]])"
      ]
     },
     "execution_count": 29,
     "metadata": {},
     "output_type": "execute_result"
    }
   ],
   "source": [
    "S = np.matmul(P2,np.matmul(lam2,P2_t)); S"
   ]
  },
  {
   "cell_type": "code",
   "execution_count": null,
   "metadata": {},
   "outputs": [],
   "source": []
  },
  {
   "cell_type": "code",
   "execution_count": 32,
   "metadata": {},
   "outputs": [
    {
     "name": "stdout",
     "output_type": "stream",
     "text": [
      "P:\n",
      " [[0.75      ]\n",
      " [0.75      ]\n",
      " [1.06066017]]\n",
      "P_transposta:\n",
      " [[0.75       0.75       1.06066017]]\n"
     ]
    }
   ],
   "source": [
    "\n",
    "p3 = [np.sqrt(2.25)/2, np.sqrt(2.25)/2, np.sqrt(2.25)/np.sqrt(2)]\n",
    "P3 = np.array(p3).reshape(3,-1)\n",
    "P3_t = P3.T\n",
    "\n",
    "print('P:\\n',P3, end='\\n')\n",
    "print('P_transposta:\\n',P3_t, end='\\n')\n"
   ]
  },
  {
   "cell_type": "code",
   "execution_count": 34,
   "metadata": {},
   "outputs": [
    {
     "data": {
      "text/plain": [
       "array([[0.5625    , 0.5625    , 0.79549513],\n",
       "       [0.5625    , 0.5625    , 0.79549513],\n",
       "       [0.79549513, 0.79549513, 1.125     ]])"
      ]
     },
     "execution_count": 34,
     "metadata": {},
     "output_type": "execute_result"
    }
   ],
   "source": [
    "\n",
    "S = np.matmul(P3,P3_t); S"
   ]
  },
  {
   "cell_type": "code",
   "execution_count": null,
   "metadata": {},
   "outputs": [],
   "source": []
  }
 ],
 "metadata": {
  "kernelspec": {
   "display_name": "Python 3",
   "language": "python",
   "name": "python3"
  },
  "language_info": {
   "codemirror_mode": {
    "name": "ipython",
    "version": 3
   },
   "file_extension": ".py",
   "mimetype": "text/x-python",
   "name": "python",
   "nbconvert_exporter": "python",
   "pygments_lexer": "ipython3",
   "version": "3.7.6"
  }
 },
 "nbformat": 4,
 "nbformat_minor": 4
}
