{
 "cells": [
  {
   "cell_type": "markdown",
   "metadata": {
    "id": "ruYnh950B_xv"
   },
   "source": [
    "# Exercício de Programação 1\n",
    "\n",
    "<font color=\"red\">**Prazo de submissão: 23:55 do dia 04.01.2021** </font>\n",
    "\n",
    "2020.2 Álgebra Linear Computacional - DCC - UFMG\n",
    "\n",
    "Erickson - Fabricio\n",
    "\n",
    "Instruções:\n",
    "* Antes de submeter suas soluções, certifique-se de que tudo roda como esperado. Primeiro, **reinicie o kernel** no menu, selecione Kernel$\\rightarrow$Restart e então execute **todas as células** (no menu, Cell$\\rightarrow$Run All)\n",
    "* Apenas o arquivo .ipynb deve ser submetido. Ele não deve ser compactado.\n",
    "* Não deixe de preencher seu nome e número de matrícula na célula a seguir"
   ]
  },
  {
   "cell_type": "markdown",
   "metadata": {
    "id": "x4CsNEoOF4BC"
   },
   "source": [
    "**Nome do aluno:** Robert Garcia da Silva\n",
    "\n",
    "**Matricula:** 2019436676"
   ]
  },
  {
   "cell_type": "markdown",
   "metadata": {
    "id": "Wj3pr8MlsKDK"
   },
   "source": [
    "### Questão 1\n",
    "\n",
    "Dadas as matrizes $A$, $B$ e o vetor $C$:\n",
    "\n",
    "$$\n",
    "A = \\begin{bmatrix}\n",
    " 2 & 1 & 3\\\\\n",
    " 3 & 1 & 4\\\\\n",
    " 5 & 7 & 12\n",
    "\\end{bmatrix}_{3\\times 3}\n",
    "\\qquad\n",
    "B = \\begin{bmatrix}\n",
    " 1 & 0 & 0\\\\\n",
    " 0 & 1 & 0\\\\\n",
    " 0 & 0 & 1\n",
    "\\end{bmatrix}_{3\\times 3}\n",
    "\\qquad\n",
    "C = \\begin{bmatrix}\n",
    " 3 \\\\\n",
    " 1 \\\\\n",
    " 2\n",
    "\\end{bmatrix}_{3\\times 1}\n",
    "$$\n",
    "\n",
    "Gere as matrizes D, E e o vetor F tal que:\n",
    "\n",
    "$$\n",
    "D = A B \\\\\n",
    "E = A^\\top + B\\\\\n",
    "F = A  C\n",
    "$$\n",
    "\n",
    "*Dicas:*\n",
    "* *Imprima ```A.shape, B.shape, C.shape``` e confira se as dimensões de suas matrizes batem com a descrição do enunciado.*\n",
    "* As operações de produto e transposição estão definidas na documentação da biblioteca ```numpy```."
   ]
  },
  {
   "cell_type": "code",
   "execution_count": 21,
   "metadata": {
    "id": "9ttFs0HQxBj-"
   },
   "outputs": [
    {
     "name": "stdout",
     "output_type": "stream",
     "text": [
      "Matriz A:\n",
      "[[ 2  1  3]\n",
      " [ 3  1  4]\n",
      " [ 5  7 12]] (Shape: (3, 3))\n",
      "\n",
      "\n",
      "Matriz B:\n",
      "[[1. 0. 0.]\n",
      " [0. 1. 0.]\n",
      " [0. 0. 1.]] (Shape: (3, 3))\n",
      "\n",
      "\n",
      "Matriz C:\n",
      "[[3]\n",
      " [1]\n",
      " [2]] (Shape: (3, 1))\n",
      "\n",
      "\n",
      "Matriz D = AB:\n",
      "[[ 2.  1.  3.]\n",
      " [ 3.  1.  4.]\n",
      " [ 5.  7. 12.]] (Shape: (3, 3))\n",
      "\n",
      "\n",
      "Matriz E = A.T + B:\n",
      "[[ 3.  3.  5.]\n",
      " [ 1.  2.  7.]\n",
      " [ 3.  4. 13.]] (Shape: (3, 3))\n",
      "\n",
      "\n",
      "Matriz F = AC:\n",
      "[[13]\n",
      " [18]\n",
      " [46]] (Shape: (3, 1))\n"
     ]
    }
   ],
   "source": [
    "# Código para Exercício 1\n",
    "\n",
    "\n",
    "import numpy as np\n",
    "\n",
    "\n",
    "A = np.array([2,1,3,3,1,4,5,7,12]).reshape(3,3)\n",
    "B = np.identity(3)\n",
    "C = np.array([3,1,2]).reshape(3,1)\n",
    "\n",
    "D = np.matmul(A,B)\n",
    "E = np.add(A.T, B)\n",
    "F = np.matmul(A,C)\n",
    "\n",
    "# Print out\n",
    "print('Matriz A:\\n{0} (Shape: {1})'.format(A, A.shape))\n",
    "print('\\n\\nMatriz B:\\n{0} (Shape: {1})'.format(B, B.shape))\n",
    "print('\\n\\nMatriz C:\\n{0} (Shape: {1})'.format(C, C.shape))\n",
    "\n",
    "print('\\n\\nMatriz D = AB:\\n{0} (Shape: {1})'.format(D, D.shape))\n",
    "print('\\n\\nMatriz E = A.T + B:\\n{0} (Shape: {1})'.format(E, E.shape))\n",
    "print('\\n\\nMatriz F = AC:\\n{0} (Shape: {1})'.format(F, F.shape))\n",
    "\n",
    "\n",
    "#Reference\n",
    "\n",
    "#[1]https://numpy.org/doc/stable/reference/generated/numpy.identity.html\n",
    "#[2]https://numpy.org/doc/stable/reference/generated/numpy.matmul.html\n"
   ]
  },
  {
   "cell_type": "markdown",
   "metadata": {
    "id": "6rP_Qt3xGiZv"
   },
   "source": [
    "### Questão 2\n"
   ]
  },
  {
   "cell_type": "markdown",
   "metadata": {
    "id": "s27s4Jp-U9n1"
   },
   "source": [
    "\n",
    "#### Questão 2.1\n",
    "\n",
    "Uma forma de representar um vetor no espaço é através de um ponto localizado na extremidade da \"seta\" do vetor. Essa representação é especialmente útil quando queremos vizualizar uma grande quantidade de vetores. Crie um array chamado `dados`, de tamanho $n \\times 2$, em que cada linha represente um dos seguintes vetores de tamanho 2:\n",
    "\n",
    "- $(\\ 0.7,\\ 0.7\\ )$\n",
    "- $(\\ 0.0,\\ 1.0\\ )$\n",
    "- $(\\ -0.7,\\ 0.7\\ )$\n",
    "- $(\\ -1.0,\\ 0.0\\ )$\n",
    "- $(\\ -0.7,\\ -0.7\\ )$\n",
    "- $(\\ 0.0,\\ -1.0\\ )$\n",
    "- $(\\ 0.7,\\ -0.7\\ )$\n",
    "- $(\\ 1.0,\\ 0.0\\ )$\n",
    "\n",
    "\n",
    "Você pode achar a documentação do [`np.array`](https://numpy.org/doc/stable/reference/generated/numpy.array.html) útil."
   ]
  },
  {
   "cell_type": "code",
   "execution_count": 26,
   "metadata": {
    "id": "laSnwDnTT2b2"
   },
   "outputs": [
    {
     "name": "stdout",
     "output_type": "stream",
     "text": [
      "Array dados:\n",
      "\n",
      " [[ 0.7  0.7]\n",
      " [ 0.   1. ]\n",
      " [-0.7  0.7]\n",
      " [-1.   0. ]\n",
      " [-0.7 -0.7]\n",
      " [ 0.  -1. ]\n",
      " [ 0.7 -0.7]\n",
      " [ 1.   0. ]]\n"
     ]
    }
   ],
   "source": [
    "# Código para Exercício 2.1\n",
    "\n",
    "import numpy as np\n",
    "\n",
    "dados = np.array([0.7,0.7,0.0,1.0,-0.7,0.7,-1.0,0.0,-0.7,-0.7,0.0,-1.0,0.7,-0.7,1.0,0.0]).reshape(-1,2)\n",
    "\n",
    "\n",
    "#Print out\n",
    "\n",
    "print('Array dados:\\n\\n {0}'.format(dados))"
   ]
  },
  {
   "cell_type": "markdown",
   "metadata": {
    "id": "MQBRlGAST7YU"
   },
   "source": [
    "#### Questão 2.2\n",
    "\n",
    "Vamos agora visualizar esses pontos no espaço 2D. Para isso, podemos usar a biblioteca [`matplotlib`](https://matplotlib.org/). Agora, com as coordenadas $x$ e $y$ dos pontos do exercício anterior, crie um gráfico de dispersão que mostre cada ponto no plano. Voce pode achar a documentação de [`plt.scatter`](https://matplotlib.org/3.1.0/api/_as_gen/matplotlib.pyplot.scatter.html) útil, além da dica que para escolher a coluna $i$ de um array bi-dimensional usamos `x[:, i]` (consulte essa página sobre [indexing](https://numpy.org/doc/stable/reference/arrays.indexing.html) em `numpy.arrays` para mais detalhes)."
   ]
  },
  {
   "cell_type": "code",
   "execution_count": 49,
   "metadata": {
    "id": "5EQWl7ATGtr1"
   },
   "outputs": [
    {
     "data": {
      "image/png": "[encoded data removed]",
      "text/plain": [
       "<Figure size 432x288 with 1 Axes>"
      ]
     },
     "metadata": {
      "needs_background": "light"
     },
     "output_type": "display_data"
    }
   ],
   "source": [
    "# Código para Exercício 2.2\n",
    "\n",
    "import numpy as np\n",
    "import matplotlib.pyplot as plt\n",
    "\n",
    "fig, axe = plt.subplots()\n",
    "\n",
    "axe.scatter(dados[:,0], dados[:,1], color='red', edgecolor='black', s=70)\n",
    "axe.grid()\n",
    "axe.set_xlabel('x-dados')\n",
    "axe.set_ylabel('y-dados')\n",
    "axe.set_title('Plot scatter matriz dados')\n",
    "\n",
    "plt.show()"
   ]
  },
  {
   "cell_type": "markdown",
   "metadata": {
    "id": "HjvjGXteUoa4"
   },
   "source": [
    "#### Questão 2.3\n",
    "\n",
    "Agora que temos como visualizar os vetores no plano, vamos fazer operação de adição de vetores. Crie um array que represente um vetor $\\textbf{a}=(\\ 6,\\ 9\\ )$ e adicione-o a todos os vetores no nosso array, criando um novo array chamado `novos_dados`.\n",
    "\n",
    "**Dica**: Quando estamos tratando de matrizes, não podemos simplesmente adicionar uma matriz de tamanho $n \\times 2$ por um vetor de tamanho $2$, ou $1 \\times 2$. Porém, o `numpy` tem uma funcionalidade que é muito útil quando queremos fazer operações entre arrays que não possuem o mesmo tamanho, como é o nosso caso (podemos ver isso usando: `print(dados.shape, a.shape)`). Essa funcionalidade é o [broadcasting](https://numpy.org/doc/stable/user/basics.broadcasting.html), e ela nos ajuda a fazer operações entre arrays que não possuem o mesmo tamanho, mas algumas dimensões são compatíveis. "
   ]
  },
  {
   "cell_type": "code",
   "execution_count": 55,
   "metadata": {
    "id": "E3Yg_vv1U2Q6"
   },
   "outputs": [
    {
     "name": "stdout",
     "output_type": "stream",
     "text": [
      "a:\n",
      "[6 9] (Shape: (2,))\n",
      "\n",
      "\n",
      "dados:\n",
      "[[ 0.7  0.7]\n",
      " [ 0.   1. ]\n",
      " [-0.7  0.7]\n",
      " [-1.   0. ]\n",
      " [-0.7 -0.7]\n",
      " [ 0.  -1. ]\n",
      " [ 0.7 -0.7]\n",
      " [ 1.   0. ]] (Shape: (8, 2))\n",
      "\n",
      "\n",
      "Array novos_dados: (a + dados)\n",
      " [[ 6.7  9.7]\n",
      " [ 6.  10. ]\n",
      " [ 5.3  9.7]\n",
      " [ 5.   9. ]\n",
      " [ 5.3  8.3]\n",
      " [ 6.   8. ]\n",
      " [ 6.7  8.3]\n",
      " [ 7.   9. ]] (Shape: (8, 2))\n"
     ]
    }
   ],
   "source": [
    "# Código para Exercício 2.3\n",
    "\n",
    "a = np.array([6,9])#.reshape(-1,2)\n",
    "\n",
    "dados = np.array([0.7,0.7,0.0,1.0,-0.7,0.7,-1.0,0.0,-0.7,-0.7,0.0,-1.0,0.7,-0.7,1.0,0.0]).reshape(-1,2)\n",
    "\n",
    "novos_dados = np.add(a,dados)\n",
    "\n",
    "\n",
    "#Print out\n",
    "\n",
    "print('a:\\n{0} (Shape: {1})'.format(a, a.shape))\n",
    "print('\\n\\ndados:\\n{0} (Shape: {1})'.format(dados, dados.shape))\n",
    "print('\\n\\nArray novos_dados: (a + dados)\\n {0} (Shape: {1})'.format(novos_dados, novos_dados.shape))\n"
   ]
  },
  {
   "cell_type": "markdown",
   "metadata": {
    "id": "dx5BrTVbdUS7"
   },
   "source": [
    "#### Questão 2.4\n",
    "\n",
    "Note que para somar arrays de dimensões diferentes (nesse caso, dados é 2D e a é 1D), o broadcasting primeiro adiciona dimensões de tamanho 1 ao início do array com menos dimensões. Só depois ele expande as dimensões de tamanho 1 para que casem com os tamanhos das dimensões do outro array.\n",
    "\n",
    "Portanto, devemos pensar no array ```a``` como um vetor coluna ou como um vetor linha?"
   ]
  },
  {
   "cell_type": "markdown",
   "metadata": {
    "id": "vVVBkK6ceWP9"
   },
   "source": [
    "**Resposta:** Vetor linha. A soma teria funcionado mesmo se tivessemos definido <b>a = np.array([6,9]).reshape(-1,2)</b>, vetor linha 1x2, mas não funcionaria para <b>a = np.array([6,9]).reshape(2,-1)</b>, vetor coluna 2x1."
   ]
  },
  {
   "cell_type": "markdown",
   "metadata": {
    "id": "DxzZGekorL3m"
   },
   "source": [
    "#### Questão 2.5\n",
    "\n",
    "Agora podemos ver no espaço 2D nossos vetores originais e os vetores resultantes da soma. Para isso, podemos usar a mesma função que usamos para criar o gráfico de dispersão na **Questão 2.2**, porém agora queremos mostrar os pontos de 2 arrays, e não de apenas 1."
   ]
  },
  {
   "cell_type": "code",
   "execution_count": 50,
   "metadata": {
    "id": "xeBdgoFMrQwP"
   },
   "outputs": [
    {
     "data": {
      "image/png": "[encoded data removed]",
      "text/plain": [
       "<Figure size 432x288 with 1 Axes>"
      ]
     },
     "metadata": {
      "needs_background": "light"
     },
     "output_type": "display_data"
    }
   ],
   "source": [
    "# Código para Exercício 2.5\n",
    "\n",
    "import numpy as np\n",
    "import matplotlib.pyplot as plt\n",
    "\n",
    "fig, axe = plt.subplots()\n",
    "\n",
    "axe.scatter(dados[:,0], dados[:,1], color='red', edgecolor='black', label='Matriz dados', s=70)\n",
    "axe.scatter(novos_dados[:,0], novos_dados[:,1], edgecolor='black', label='Matriz novos_dados', s=70)\n",
    "axe.grid()\n",
    "axe.legend()\n",
    "axe.set_xlabel('x')\n",
    "axe.set_ylabel('y')\n",
    "axe.set_title('Plot scatter: Matriz dados vs Matriz novos dados')\n",
    "\n",
    "plt.show()"
   ]
  },
  {
   "cell_type": "markdown",
   "metadata": {
    "id": "Sz1apyFP090L"
   },
   "source": [
    "### Questão 3\n",
    "\n",
    "Como visto em aula, a multiplicação de uma matriz $G$ por um vetor $\\mathbb{x}$ pode ser vista como uma combinação linear das colunas de $G$.\n"
   ]
  },
  {
   "cell_type": "markdown",
   "metadata": {
    "id": "6Ij42r1ctg0g"
   },
   "source": [
    "\n",
    "#### Questão 3.1\n",
    "\n",
    "Dado a matriz $G$ e o vetor $\\mathbb{x}$:\n",
    "\n",
    "$$\n",
    "G = \\begin{bmatrix}\n",
    " 3 & 6 & 9\\\\\n",
    " 5 & 10 & 15\n",
    "\\end{bmatrix}_{2\\times 3}\n",
    "\\qquad\n",
    "\\mathbb{x} = \\begin{bmatrix}\n",
    " 2 \\\\\n",
    " 1 \\\\\n",
    " 1\n",
    "\\end{bmatrix}_{3\\times 1}\n",
    "$$\n",
    "\n",
    "Gere o vetor $\\mathbb{y}$ tal que:\n",
    "$$\n",
    "\\mathbb{y} = G \\mathbb{x} \\\\\n",
    "$$\n"
   ]
  },
  {
   "cell_type": "code",
   "execution_count": 57,
   "metadata": {
    "id": "cGNQcr7Ptk0r"
   },
   "outputs": [
    {
     "name": "stdout",
     "output_type": "stream",
     "text": [
      "Matriz G:\n",
      "[[ 3  6  9]\n",
      " [ 5 10 15]] (Shape: (2, 3))\n",
      "\n",
      "\n",
      "Matriz x:\n",
      "[[2]\n",
      " [1]\n",
      " [1]] (Shape: (3, 1))\n",
      "\n",
      "\n",
      "Matriz y = Gx:\n",
      "[[21]\n",
      " [35]] (Shape: (2, 1))\n"
     ]
    }
   ],
   "source": [
    "# Código para Exercício 3.1\n",
    "\n",
    "import numpy as np\n",
    "\n",
    "G = np.array([3,6,9,5,10,15]).reshape(2,3)\n",
    "x = np.array([2,1,1]).reshape(3,1)\n",
    "\n",
    "y = np.matmul(G,x)\n",
    "\n",
    "\n",
    "#Print out\n",
    "\n",
    "print('Matriz G:\\n{0} (Shape: {1})'.format(G, G.shape))\n",
    "print('\\n\\nMatriz x:\\n{0} (Shape: {1})'.format(x, x.shape))\n",
    "print('\\n\\nMatriz y = Gx:\\n{0} (Shape: {1})'.format(y, y.shape))\n"
   ]
  },
  {
   "cell_type": "markdown",
   "metadata": {
    "id": "rD0TR2nPuIo8"
   },
   "source": [
    "#### Questão 3.2\n",
    "\n",
    "O espaço de colunas de uma matriz pode ser interpretado como o espaço formado por todas as combinações lineares das colunas da matriz. Então, vamos simular a representação do espaço de colunas da matriz $G$ criada anteriormente fazendo várias combinações lineares de suas colunas. Para isso, podemos criar vários vetores-coluna $x$ aleatórios, calcular a operação $y = Gx$ para cada um deles, e mostrar onde cada vetor $y$ está localizado no espaço. Portanto, faça os seguintes passos:\n",
    "\n",
    "1. Crie um vetor-coluna $x \\in \\mathbb{R}^{3 \\times 1}$ com valores aleatórios entre $-10$ e $10$.\n",
    "1. Calcule $y = Gx$. Esse passo pode ser feito da mesma forma que a **Questão 3.1**.\n",
    "1. Plote no plano 2D um ponto com as coordenadas do $y$ resultante.\n",
    "\n",
    "Repita esses passos 10 vezes. **Dica:** para a criação dos valores $x$ aleatórios, voce pode escolher os números você mesmo ou usar a função [`np.random.randint`](https://numpy.org/doc/stable/reference/random/generated/numpy.random.randint.html). Para a  visualização, utilize a biblioteca [`matplotlib`](https://matplotlib.org/), e deixe para usar `plt.show()` apenas depois de ter plotado todos os vetores $y$, para que todos apareçam no mesmo gráfico."
   ]
  },
  {
   "cell_type": "code",
   "execution_count": 132,
   "metadata": {
    "id": "bf8B6CPPwXsE"
   },
   "outputs": [
    {
     "name": "stdout",
     "output_type": "stream",
     "text": [
      "X: \n",
      "[[-2.50919762  9.01428613  4.63987884]\n",
      " [ 1.97316968 -6.87962719 -6.88010959]\n",
      " [-8.83832776  7.32352292  2.02230023]\n",
      " [ 4.16145156 -9.58831011  9.39819704]\n",
      " [ 6.64885282 -5.75321779 -6.36350066]\n",
      " [-6.3319098  -3.91515514  0.49512863]\n",
      " [-1.36109963 -4.1754172   2.23705789]\n",
      " [-7.21012279 -4.15710703 -2.67276313]\n",
      " [-0.87860032  5.70351923 -6.00652436]\n",
      " [ 0.28468877  1.84829138 -9.07099175]] (Shape: (10, 3))\n",
      "\n",
      "\n",
      "Matriz G:\n",
      "[[ 3  6  9]\n",
      " [ 5 10 15]] (Shape: (2, 3))\n",
      "\n",
      "\n"
     ]
    },
    {
     "data": {
      "image/png": "[encoded data removed]",
      "text/plain": [
       "<Figure size 864x432 with 1 Axes>"
      ]
     },
     "metadata": {
      "needs_background": "light"
     },
     "output_type": "display_data"
    }
   ],
   "source": [
    "# Código para Exercício 3.2\n",
    "\n",
    "import numpy as np\n",
    "import matplotlib.pyplot as plt\n",
    "\n",
    "\n",
    "G = np.array([3,6,9,5,10,15]).reshape(2,3)\n",
    "\n",
    "rms = np.random.RandomState(42)\n",
    "X = 20*rms.rand(10,3) -10 # gerando matriz (10,3) com valores aleaorios com seed = 42, entre -10 e 10\n",
    "\n",
    "\n",
    "print('X: \\n{0} (Shape: {1})'.format(X,X.shape))\n",
    "print('\\n\\nMatriz G:\\n{0} (Shape: {1})\\n\\n'.format(G, G.shape))\n",
    "\n",
    "fig, axe = plt.subplots(figsize=(12,6))\n",
    "axe.grid()\n",
    "axe.set_title('Pontos (x,y): y = Gx')\n",
    "axe.set_xlabel('x')\n",
    "axe.set_ylabel('y')\n",
    "\n",
    "xy = np.array([]).reshape(-1,2) # usado para armazenar os pares ordenados (x,y)\n",
    "\n",
    "for i in range(10):\n",
    "    x = X[i].reshape(3,-1) # Vetor x coluna (3x1)\n",
    "    y = np.matmul(G, x) # y = Gx\n",
    "    xy = np.append(xy,np.array([y[0],y[1]]).reshape(-1,2), axis=0)\n",
    "    axe = plt.scatter(y[0], y[1], s=70, edgecolor='black')\n",
    "\n",
    "plt.show()"
   ]
  },
  {
   "cell_type": "markdown",
   "metadata": {
    "id": "WWwfDjZQyBKt"
   },
   "source": [
    "#### Questão 3.3\n",
    "\n",
    "No item anterior, você deve ter obtido uma reta ao visualizar o gráfico resultante. Por que isso acontece no caso dessa matriz $G$ em específico?"
   ]
  },
  {
   "cell_type": "markdown",
   "metadata": {
    "id": "mpB7U8BqyEQl"
   },
   "source": [
    "**Resposta:** Isso ocorre pois o <b>Rank Matrix: r</b> de <b>G</b> = 1, ou seja, a dimensão do espaço gerado pelas colunas de G é igual a 1 (número de colunas linearmente independentes = 1)."
   ]
  },
  {
   "cell_type": "markdown",
   "metadata": {
    "id": "9XrQcmBc4RVE"
   },
   "source": [
    "#### Questão 3.4\n",
    "\n",
    "Agora que sabemos que o espaço coluna da matriz $G$ é uma reta, encontre dois pontos no espaço coluna $C(G)$ e use o comando ```plt.plot()``` para traçá-la."
   ]
  },
  {
   "cell_type": "code",
   "execution_count": 168,
   "metadata": {
    "id": "S-zMnudo4kXZ"
   },
   "outputs": [
    {
     "data": {
      "image/png": "[encoded data removed]",
      "text/plain": [
       "<Figure size 864x432 with 1 Axes>"
      ]
     },
     "metadata": {
      "needs_background": "light"
     },
     "output_type": "display_data"
    }
   ],
   "source": [
    "# Código para Exercício 3.4\n",
    "\n",
    "baseG = np.array([3,5])\n",
    "\n",
    "b1 = 50 # escalar usado para multiplicar C(G), valor escolhido arbitrário\n",
    "y1 = b1*baseG\n",
    "\n",
    "b2 = -50 # escalar usado para multiplicar C(G), valor escolhido arbitrário\n",
    "y2 = b2*baseG\n",
    "\n",
    "y_gerado = np.array([y1,y2]).reshape(-1,2)\n",
    "\n",
    "\n",
    "fig, axe = plt.subplots(figsize=(12,6))\n",
    "\n",
    "axe.scatter(xy[:,0], xy[:,1], edgecolor='black', s=70, color='green', label='Pontos gerados no exercicio anterior')\n",
    "axe.plot(y_gerado[:,0], y_gerado[:,1], lw=3, label='Reta gerado a partir do espaço coluna G')\n",
    "axe.set_title('Espaço gerado a partir de C(G)')\n",
    "axe.set_xlabel('x')\n",
    "axe.set_ylabel('y')\n",
    "axe.grid()\n",
    "axe.legend()\n",
    "\n",
    "plt.show()\n"
   ]
  }
 ],
 "metadata": {
  "colab": {
   "collapsed_sections": [],
   "name": "EP1_release.ipynb",
   "provenance": []
  },
  "kernelspec": {
   "display_name": "Python 3",
   "language": "python",
   "name": "python3"
  },
  "language_info": {
   "codemirror_mode": {
    "name": "ipython",
    "version": 3
   },
   "file_extension": ".py",
   "mimetype": "text/x-python",
   "name": "python",
   "nbconvert_exporter": "python",
   "pygments_lexer": "ipython3",
   "version": "3.7.6"
  }
 },
 "nbformat": 4,
 "nbformat_minor": 1
}
