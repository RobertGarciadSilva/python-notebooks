{
 "cells": [
  {
   "cell_type": "code",
   "execution_count": 1,
   "metadata": {},
   "outputs": [],
   "source": [
    "# Libraryes\n",
    "\n",
    "import numpy as np\n"
   ]
  },
  {
   "cell_type": "markdown",
   "metadata": {},
   "source": [
    "# Problemas"
   ]
  },
  {
   "cell_type": "markdown",
   "metadata": {},
   "source": [
    "## Problema 01"
   ]
  },
  {
   "cell_type": "markdown",
   "metadata": {},
   "source": [
    "Escreva a função bhaskara, que recebe como parâmetro os índices a, b e c de uma equação do segundo grau e retorna uma tupla com as raízes da equação."
   ]
  },
  {
   "cell_type": "code",
   "execution_count": 2,
   "metadata": {},
   "outputs": [],
   "source": [
    "\n",
    "def bhaskara(a, b, c):\n",
    "    delta = np.sqrt(b**2 - 4*a*c)\n",
    "    ret01 = (-b + delta)/2*a\n",
    "    ret02 = (-b - delta)/2*a\n",
    "    return (ret01, ret02)\n",
    "\n"
   ]
  },
  {
   "cell_type": "code",
   "execution_count": 3,
   "metadata": {},
   "outputs": [
    {
     "data": {
      "text/plain": [
       "(3.0, -3.0)"
      ]
     },
     "execution_count": 3,
     "metadata": {},
     "output_type": "execute_result"
    }
   ],
   "source": [
    "bhaskara(1,0,-9)"
   ]
  },
  {
   "cell_type": "markdown",
   "metadata": {},
   "source": [
    "## Problema 02"
   ]
  },
  {
   "cell_type": "markdown",
   "metadata": {},
   "source": [
    "Escreva função raio_circ que recebe a área de um circulo como parâmetro e retorne uma tupla com o raio e a circunferência (considere pi = 3.14)."
   ]
  },
  {
   "cell_type": "code",
   "execution_count": 12,
   "metadata": {},
   "outputs": [],
   "source": [
    "\n",
    "def raio_circ(A):\n",
    "    pi = 3.14\n",
    "    raio = np.sqrt(A/pi)\n",
    "    circunferencia = 2*pi*raio\n",
    "    return (round(raio,2), round(circunferencia,2))\n"
   ]
  },
  {
   "cell_type": "code",
   "execution_count": 13,
   "metadata": {},
   "outputs": [
    {
     "data": {
      "text/plain": [
       "(5.0, 31.4)"
      ]
     },
     "execution_count": 13,
     "metadata": {},
     "output_type": "execute_result"
    }
   ],
   "source": [
    "raio_circ(78.5)"
   ]
  },
  {
   "cell_type": "markdown",
   "metadata": {},
   "source": [
    "## Problema 03"
   ]
  },
  {
   "cell_type": "markdown",
   "metadata": {},
   "source": [
    "Escreva a função maior_nota que recebe um dicionário como parâmetro um dicionário com matérias e notas e retorna uma tupla com o nome e a nota da matéria com maior nota."
   ]
  },
  {
   "cell_type": "code",
   "execution_count": 97,
   "metadata": {},
   "outputs": [],
   "source": [
    "\n",
    "def maior_nota(dict_materiasNotas):\n",
    "    maxNota = max(dict_materiasNotas.values())\n",
    "    materiaNotasMaxNota = []\n",
    "    \n",
    "    for i, j in zip(dict_materiasNotas.keys(), dict_materiasNotas.values()):\n",
    "        if(j == maxNota):\n",
    "            materiaNotasMaxNota.append([i,j])\n",
    "    \n",
    "    #return tuple(materiaNotasMaxNota)\n",
    "    return (materiaNotasMaxNota[0][0],materiaNotasMaxNota[0][1])\n",
    "\n",
    "        "
   ]
  },
  {
   "cell_type": "code",
   "execution_count": 98,
   "metadata": {},
   "outputs": [
    {
     "data": {
      "text/plain": [
       "('matematica', 85)"
      ]
     },
     "execution_count": 98,
     "metadata": {},
     "output_type": "execute_result"
    }
   ],
   "source": [
    "maior_nota({\"matematica\":85,\"geografia\":75,\"portugues\":60})"
   ]
  },
  {
   "cell_type": "markdown",
   "metadata": {},
   "source": [
    "\n",
    "## Problema 04"
   ]
  },
  {
   "cell_type": "markdown",
   "metadata": {},
   "source": [
    "Escreva a função nota_media que recebe como parâmetro um dicionário com matérias e notas e uma lista de matérias e retorna a media das notas das metérias desejadas."
   ]
  },
  {
   "cell_type": "code",
   "execution_count": 50,
   "metadata": {},
   "outputs": [],
   "source": [
    "\n",
    "def nota_media(A_dict, mat):\n",
    "    suma = 0\n",
    "    num = 0\n",
    "    for i, j in zip(A_dict.keys(), A_dict.values()):\n",
    "        if(i in mat):\n",
    "            suma += j\n",
    "            num += 1\n",
    "    \n",
    "    return suma/num"
   ]
  },
  {
   "cell_type": "code",
   "execution_count": 51,
   "metadata": {},
   "outputs": [
    {
     "data": {
      "text/plain": [
       "80.0"
      ]
     },
     "execution_count": 51,
     "metadata": {},
     "output_type": "execute_result"
    }
   ],
   "source": [
    "\n",
    "nota_media({\"matematica\":85,\"geografia\":75,\"portugues\":60},['matematica','geografia'])\n"
   ]
  },
  {
   "cell_type": "markdown",
   "metadata": {},
   "source": [
    "## Problema 05"
   ]
  },
  {
   "cell_type": "markdown",
   "metadata": {},
   "source": [
    "Escreva a função nota_media_aluno que recebe como parâmetro um dicionário de dicionário com o nome dos alunos, as matérias e notas, uma lista de matérias e o nome do aluno e retorna a media das notas das metérias desejadas desse aluno."
   ]
  },
  {
   "cell_type": "code",
   "execution_count": 52,
   "metadata": {},
   "outputs": [],
   "source": [
    "\n",
    "def nota_media_aluno(A_dict, list_mat, aluno):\n",
    "    suma = 0\n",
    "    n = 0\n",
    "    \n",
    "    for i, j in zip(A_dict[aluno].keys(), A_dict[aluno].values()):\n",
    "        if(i in list_mat):\n",
    "            suma += j\n",
    "            n += 1\n",
    "    \n",
    "    return suma/n\n",
    "    "
   ]
  },
  {
   "cell_type": "code",
   "execution_count": 53,
   "metadata": {},
   "outputs": [
    {
     "data": {
      "text/plain": [
       "80.0"
      ]
     },
     "execution_count": 53,
     "metadata": {},
     "output_type": "execute_result"
    }
   ],
   "source": [
    "\n",
    "notas = {\n",
    "        \"Joao\": {\"matematica\": 85,\"geografia\":75,\"portugues\":60},\n",
    "        \"Gustavo\":{\"matematica\":71,\"geografia\":88,\"portugues\":95},\n",
    "        \"Ana\":{\"matematica\":98,\"geografia\":70,\"portugues\":55}\n",
    "        }\n",
    "\n",
    "nota_media_aluno(notas,['matematica','geografia'],'Joao')\n",
    "                                                           "
   ]
  },
  {
   "cell_type": "markdown",
   "metadata": {},
   "source": [
    "## Problema 06"
   ]
  },
  {
   "cell_type": "markdown",
   "metadata": {},
   "source": [
    "Escreva a função nome_mais_comum que recebe como parâmetro uma lista de nomes e retorna uma tupla com o nome com mais repetições e quantas vezes ele ocorreu."
   ]
  },
  {
   "cell_type": "code",
   "execution_count": 100,
   "metadata": {},
   "outputs": [],
   "source": [
    "\n",
    "def nome_mais_comum(listNomes):\n",
    "    dict_nomesCont = {listNomes[0]:0}\n",
    "    \n",
    "    for nome in listNomes:\n",
    "        if(nome in dict_nomesCont.keys()):\n",
    "            n = dict_nomesCont[nome]\n",
    "            dict_nomesCont.update({nome: n + 1})\n",
    "        else:\n",
    "            dict_nomesCont.update({nome: 1})\n",
    "    \n",
    "    #return dict_nomesCont\n",
    "    return maior_nota(dict_nomesCont)\n",
    "    "
   ]
  },
  {
   "cell_type": "code",
   "execution_count": 99,
   "metadata": {},
   "outputs": [
    {
     "data": {
      "text/plain": [
       "('Joao', 2)"
      ]
     },
     "execution_count": 99,
     "metadata": {},
     "output_type": "execute_result"
    }
   ],
   "source": [
    "\n",
    "nome_mais_comum(['Joao','Gustavo','Ana','Joao'])"
   ]
  },
  {
   "cell_type": "markdown",
   "metadata": {},
   "source": [
    "\n",
    "## Problema 07"
   ]
  },
  {
   "cell_type": "markdown",
   "metadata": {},
   "source": [
    "Escreva a função algarismo_mais_comum que recebe como parâmetro uma lista de inteiros e retorna uma tupla com o algarismo com mais repetições e quantas vezes ele ocorreu."
   ]
  },
  {
   "cell_type": "code",
   "execution_count": 118,
   "metadata": {},
   "outputs": [],
   "source": [
    "\n",
    "def algarismo_mais_comum(listNumeros):\n",
    "    \n",
    "    dict_alg = {}\n",
    "    \n",
    "    for num in listNumeros:\n",
    "        str_num = str(num)\n",
    "        for alg in str_num:\n",
    "            if(alg in dict_alg.keys()):\n",
    "                dict_alg.update({alg: dict_alg[alg]+1})\n",
    "            else:\n",
    "                dict_alg.update({alg: 1})\n",
    "    \n",
    "    #return dict_alg\n",
    "    return maior_nota(dict_alg)\n",
    "    \n"
   ]
  },
  {
   "cell_type": "code",
   "execution_count": 119,
   "metadata": {},
   "outputs": [
    {
     "data": {
      "text/plain": [
       "('2', 3)"
      ]
     },
     "execution_count": 119,
     "metadata": {},
     "output_type": "execute_result"
    }
   ],
   "source": [
    "algarismo_mais_comum([0, 12, 22, 0])"
   ]
  },
  {
   "cell_type": "code",
   "execution_count": 107,
   "metadata": {},
   "outputs": [
    {
     "name": "stdout",
     "output_type": "stream",
     "text": [
      "0\n"
     ]
    }
   ],
   "source": [
    "\n",
    "n = 20\n",
    "\n",
    "m = str(n)\n",
    "print(m[1])"
   ]
  },
  {
   "cell_type": "code",
   "execution_count": 61,
   "metadata": {},
   "outputs": [],
   "source": [
    "\n",
    "#l = [5,6]\n",
    "#m = [10,11]\n",
    "\n",
    "#for a, (x,y) in enumerate(zip(l, m)):\n",
    "#    print(a,x,y)\n"
   ]
  }
 ],
 "metadata": {
  "kernelspec": {
   "display_name": "Python 3",
   "language": "python",
   "name": "python3"
  },
  "language_info": {
   "codemirror_mode": {
    "name": "ipython",
    "version": 3
   },
   "file_extension": ".py",
   "mimetype": "text/x-python",
   "name": "python",
   "nbconvert_exporter": "python",
   "pygments_lexer": "ipython3",
   "version": "3.7.6"
  }
 },
 "nbformat": 4,
 "nbformat_minor": 4
}
