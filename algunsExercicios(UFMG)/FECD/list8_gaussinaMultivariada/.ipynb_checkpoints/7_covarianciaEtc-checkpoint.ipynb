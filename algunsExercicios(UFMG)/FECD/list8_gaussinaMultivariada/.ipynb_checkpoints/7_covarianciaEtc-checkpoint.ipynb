{
 "cells": [
  {
   "cell_type": "markdown",
   "metadata": {},
   "source": [
    "## Examples"
   ]
  },
  {
   "cell_type": "code",
   "execution_count": 1,
   "metadata": {},
   "outputs": [],
   "source": [
    "\n",
    "import numpy as np\n",
    "import matplotlib.pyplot as plt\n"
   ]
  },
  {
   "cell_type": "markdown",
   "metadata": {},
   "source": [
    "<img src='imgs/q71.jpg' style=''>"
   ]
  },
  {
   "cell_type": "markdown",
   "metadata": {},
   "source": [
    "Por referência direta de [1], temos que: <br><br>\n",
    "\"Numa normal multivariada Y= (Y1,...,Yp)′, duas de suas variáveis aleatórias i e j são independentes se, e somente se, o elemento (i,j) da matriz de covariâncias (ou de correlações) é iguala zero.  Para sub-vetores de Y o memso resultado vale olhando-se para a matriz Σ particionada.\"<br><br>\n",
    "Desse modo temos:\n",
    "- <b>X1</b> e <b>X2</b>: Não são independentes.<br>\n",
    "- <b>X2</b> e <b>X3</b>: são independentes.<br>\n",
    "- <b>(X1, X2)</b> e <b>X3</b>: são independentes, pois, Σ(1,3) e Σ(2,3) apresentam elemento nulo.<br>\n",
    "- <b>(X1 + X2)/2</b> e <b>X3</b>: são independentes, pois a função h((X1 + X2)/2) é independente de X3, pois h é constituído apenas por X1 e X2, como mostrado acima, são independntes.<br>\n",
    "- <b>X2</b> e <b>X2 + 5X1/2 - X3</b>: Usando a propriedade de binilearidade da covariancia, consulte [4] e [5] para mais detalhes, podemos fazer, <br>\n",
    "cov(X2, X2 + 5X1/2 - X3) = cov(X2,X2) + (5/2)cov(X2,X1) - cov(X2,X3) = 0, logo, são independetes."
   ]
  },
  {
   "cell_type": "markdown",
   "metadata": {},
   "source": [
    "## References"
   ]
  },
  {
   "cell_type": "markdown",
   "metadata": {},
   "source": [
    "[1]https://homepages.dcc.ufmg.br/%7Eassuncao/EstatCC/LivroDeExerciciosFECD.pdf\n",
    "<br>\n",
    "[2]https://homepages.dcc.ufmg.br/%7Eassuncao/EstatCC/FECD.pdf\n",
    "Cap. Gaussiana Multivariada\n",
    "<br>\n",
    "[3]https://numpy.org/doc/stable/reference/generated/numpy.diag.html\n",
    "<br>\n",
    "[4]https://en.wikipedia.org/wiki/Covariance_matrix\n",
    "<br>\n",
    "[5]https://en.wikipedia.org/wiki/Bilinear_form\n",
    "<br>"
   ]
  }
 ],
 "metadata": {
  "kernelspec": {
   "display_name": "Python 3",
   "language": "python",
   "name": "python3"
  },
  "language_info": {
   "codemirror_mode": {
    "name": "ipython",
    "version": 3
   },
   "file_extension": ".py",
   "mimetype": "text/x-python",
   "name": "python",
   "nbconvert_exporter": "python",
   "pygments_lexer": "ipython3",
   "version": "3.7.6"
  }
 },
 "nbformat": 4,
 "nbformat_minor": 4
}
