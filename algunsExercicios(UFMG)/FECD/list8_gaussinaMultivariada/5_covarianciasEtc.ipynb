{
 "cells": [
  {
   "cell_type": "markdown",
   "metadata": {},
   "source": [
    "## Examples"
   ]
  },
  {
   "cell_type": "code",
   "execution_count": 1,
   "metadata": {},
   "outputs": [],
   "source": [
    "\n",
    "import numpy as np\n",
    "import matplotlib.pyplot as plt\n"
   ]
  },
  {
   "cell_type": "markdown",
   "metadata": {},
   "source": [
    "<img src='imgs/q51.jpg' style=''>"
   ]
  },
  {
   "cell_type": "code",
   "execution_count": 2,
   "metadata": {},
   "outputs": [
    {
     "data": {
      "text/plain": [
       "array([[ 3,  0,  2,  2],\n",
       "       [ 0,  1,  1,  0],\n",
       "       [ 2,  1,  9, -2],\n",
       "       [ 2,  0, -2,  4]])"
      ]
     },
     "execution_count": 2,
     "metadata": {},
     "output_type": "execute_result"
    }
   ],
   "source": [
    "\n",
    "# definindo a matrix de covariancia\n",
    "\n",
    "matCov = np.array([3,0,2,2,0,1,1,0,2,1,9,-2,2,0,-2,4]).reshape(-1,4); matCov"
   ]
  },
  {
   "cell_type": "markdown",
   "metadata": {},
   "source": [
    "A relação entre a matrix de correlação e covariancia pode ser vista abaixo: (Para mais detalhes e explicações de como isso é obitido consulte [2] e [4])"
   ]
  },
  {
   "cell_type": "markdown",
   "metadata": {},
   "source": [
    "<img src='imgs/q52.jpg' style=''>"
   ]
  },
  {
   "cell_type": "markdown",
   "metadata": {},
   "source": [
    ", em que <b>V</b> representa a diagonal da matrix de covariancia, ou seja, representa as variancias de cada v.a. do vetor aleaório <b>X</b>."
   ]
  },
  {
   "cell_type": "code",
   "execution_count": 7,
   "metadata": {},
   "outputs": [
    {
     "name": "stdout",
     "output_type": "stream",
     "text": [
      "[[0.57735027 0.         0.         0.        ]\n",
      " [0.         1.         0.         0.        ]\n",
      " [0.         0.         0.33333333 0.        ]\n",
      " [0.         0.         0.         0.5       ]]\n"
     ]
    }
   ],
   "source": [
    "V = np.diag(matCov) # pegando as diagonais da matrix de covariancia, consulte [3]\n",
    "V = np.diag(1/(np.sqrt(V))); #construindo uma matrix diagonal com os valores de V acima\n",
    "print(V)"
   ]
  },
  {
   "cell_type": "markdown",
   "metadata": {},
   "source": [
    "Logo a matrix de correlação é obtida fazendo:"
   ]
  },
  {
   "cell_type": "code",
   "execution_count": 8,
   "metadata": {},
   "outputs": [
    {
     "name": "stdout",
     "output_type": "stream",
     "text": [
      "[[ 1.          0.          0.38490018  0.57735027]\n",
      " [ 0.          1.          0.33333333  0.        ]\n",
      " [ 0.38490018  0.33333333  1.         -0.33333333]\n",
      " [ 0.57735027  0.         -0.33333333  1.        ]]\n"
     ]
    }
   ],
   "source": [
    "matCorr = np.matmul(V, (np.matmul(matCov, V))); print(matCorr)"
   ]
  },
  {
   "cell_type": "markdown",
   "metadata": {},
   "source": [
    "As outras informações podem ser facilmente obtidas através da matrix de covariancia de do vetor de esperança das v.a. Abaixo são apresentadas essas informações:"
   ]
  },
  {
   "cell_type": "markdown",
   "metadata": {},
   "source": [
    "<img src='imgs/q53.jpeg' style='width:400px'>\n",
    "<img src='imgs/q53.jpeg' style='width:400px'>"
   ]
  },
  {
   "cell_type": "markdown",
   "metadata": {},
   "source": [
    "Mais informações detalhadas de como encontrar esses valores podem ser encontrados em [1],[2],[4], [1] apresenta a resolução acima em um formato digital e não feito a mão."
   ]
  },
  {
   "cell_type": "markdown",
   "metadata": {},
   "source": [
    "## References"
   ]
  },
  {
   "cell_type": "markdown",
   "metadata": {},
   "source": [
    "[1]https://homepages.dcc.ufmg.br/%7Eassuncao/EstatCC/LivroDeExerciciosFECD.pdf\n",
    "<br>\n",
    "[2]https://homepages.dcc.ufmg.br/%7Eassuncao/EstatCC/FECD.pdf\n",
    "Cap. Gaussiana Multivariada\n",
    "<br>\n",
    "[3]https://numpy.org/doc/stable/reference/generated/numpy.diag.html\n",
    "<br>\n",
    "[4]https://en.wikipedia.org/wiki/Covariance_matrix\n",
    "<br>"
   ]
  }
 ],
 "metadata": {
  "kernelspec": {
   "display_name": "Python 3",
   "language": "python",
   "name": "python3"
  },
  "language_info": {
   "codemirror_mode": {
    "name": "ipython",
    "version": 3
   },
   "file_extension": ".py",
   "mimetype": "text/x-python",
   "name": "python",
   "nbconvert_exporter": "python",
   "pygments_lexer": "ipython3",
   "version": "3.7.6"
  }
 },
 "nbformat": 4,
 "nbformat_minor": 4
}
