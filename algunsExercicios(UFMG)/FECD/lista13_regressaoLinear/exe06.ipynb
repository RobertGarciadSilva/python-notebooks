{
 "cells": [
  {
   "cell_type": "code",
   "execution_count": 20,
   "metadata": {},
   "outputs": [],
   "source": [
    "\n",
    "import numpy as np\n",
    "import pandas as pd\n",
    "\n",
    "from sklearn.linear_model import LinearRegression\n"
   ]
  },
  {
   "cell_type": "markdown",
   "metadata": {},
   "source": [
    "\n",
    "<img src='./imgs/exe6_1.png' style=''>"
   ]
  },
  {
   "cell_type": "code",
   "execution_count": 25,
   "metadata": {},
   "outputs": [],
   "source": [
    "data = pd.read_csv('./data/aptos.csv', sep=';', index_col=False)"
   ]
  },
  {
   "cell_type": "code",
   "execution_count": 26,
   "metadata": {},
   "outputs": [
    {
     "data": {
      "text/html": [
       "<div>\n",
       "<style scoped>\n",
       "    .dataframe tbody tr th:only-of-type {\n",
       "        vertical-align: middle;\n",
       "    }\n",
       "\n",
       "    .dataframe tbody tr th {\n",
       "        vertical-align: top;\n",
       "    }\n",
       "\n",
       "    .dataframe thead th {\n",
       "        text-align: right;\n",
       "    }\n",
       "</style>\n",
       "<table border=\"1\" class=\"dataframe\">\n",
       "  <thead>\n",
       "    <tr style=\"text-align: right;\">\n",
       "      <th></th>\n",
       "      <th>ID</th>\n",
       "      <th>area</th>\n",
       "      <th>quartos</th>\n",
       "      <th>suites</th>\n",
       "      <th>vagas</th>\n",
       "      <th>preco</th>\n",
       "    </tr>\n",
       "  </thead>\n",
       "  <tbody>\n",
       "    <tr>\n",
       "      <th>0</th>\n",
       "      <td>353534.0</td>\n",
       "      <td>110.00</td>\n",
       "      <td>3.0</td>\n",
       "      <td>1.0</td>\n",
       "      <td>2.0</td>\n",
       "      <td>880000.0</td>\n",
       "    </tr>\n",
       "    <tr>\n",
       "      <th>1</th>\n",
       "      <td>366113.0</td>\n",
       "      <td>101.89</td>\n",
       "      <td>3.0</td>\n",
       "      <td>1.0</td>\n",
       "      <td>4.0</td>\n",
       "      <td>900000.0</td>\n",
       "    </tr>\n",
       "    <tr>\n",
       "      <th>2</th>\n",
       "      <td>186728.0</td>\n",
       "      <td>191.00</td>\n",
       "      <td>3.0</td>\n",
       "      <td>1.0</td>\n",
       "      <td>3.0</td>\n",
       "      <td>920000.0</td>\n",
       "    </tr>\n",
       "    <tr>\n",
       "      <th>3</th>\n",
       "      <td>366115.0</td>\n",
       "      <td>101.89</td>\n",
       "      <td>3.0</td>\n",
       "      <td>1.0</td>\n",
       "      <td>4.0</td>\n",
       "      <td>950000.0</td>\n",
       "    </tr>\n",
       "    <tr>\n",
       "      <th>4</th>\n",
       "      <td>353022.0</td>\n",
       "      <td>280.61</td>\n",
       "      <td>3.0</td>\n",
       "      <td>1.0</td>\n",
       "      <td>4.0</td>\n",
       "      <td>1000000.0</td>\n",
       "    </tr>\n",
       "  </tbody>\n",
       "</table>\n",
       "</div>"
      ],
      "text/plain": [
       "         ID    area  quartos  suites  vagas      preco\n",
       "0  353534.0  110.00      3.0     1.0    2.0   880000.0\n",
       "1  366113.0  101.89      3.0     1.0    4.0   900000.0\n",
       "2  186728.0  191.00      3.0     1.0    3.0   920000.0\n",
       "3  366115.0  101.89      3.0     1.0    4.0   950000.0\n",
       "4  353022.0  280.61      3.0     1.0    4.0  1000000.0"
      ]
     },
     "execution_count": 26,
     "metadata": {},
     "output_type": "execute_result"
    }
   ],
   "source": [
    "data.head(5)"
   ]
  },
  {
   "cell_type": "code",
   "execution_count": 57,
   "metadata": {},
   "outputs": [],
   "source": [
    "\n",
    "y = data['preco']\n",
    "X = data.drop(['preco','ID'],axis=1)\n"
   ]
  },
  {
   "cell_type": "code",
   "execution_count": 58,
   "metadata": {},
   "outputs": [
    {
     "data": {
      "text/html": [
       "<div>\n",
       "<style scoped>\n",
       "    .dataframe tbody tr th:only-of-type {\n",
       "        vertical-align: middle;\n",
       "    }\n",
       "\n",
       "    .dataframe tbody tr th {\n",
       "        vertical-align: top;\n",
       "    }\n",
       "\n",
       "    .dataframe thead th {\n",
       "        text-align: right;\n",
       "    }\n",
       "</style>\n",
       "<table border=\"1\" class=\"dataframe\">\n",
       "  <thead>\n",
       "    <tr style=\"text-align: right;\">\n",
       "      <th></th>\n",
       "      <th>area</th>\n",
       "      <th>quartos</th>\n",
       "      <th>suites</th>\n",
       "      <th>vagas</th>\n",
       "    </tr>\n",
       "  </thead>\n",
       "  <tbody>\n",
       "    <tr>\n",
       "      <th>0</th>\n",
       "      <td>110.00</td>\n",
       "      <td>3.0</td>\n",
       "      <td>1.0</td>\n",
       "      <td>2.0</td>\n",
       "    </tr>\n",
       "    <tr>\n",
       "      <th>1</th>\n",
       "      <td>101.89</td>\n",
       "      <td>3.0</td>\n",
       "      <td>1.0</td>\n",
       "      <td>4.0</td>\n",
       "    </tr>\n",
       "    <tr>\n",
       "      <th>2</th>\n",
       "      <td>191.00</td>\n",
       "      <td>3.0</td>\n",
       "      <td>1.0</td>\n",
       "      <td>3.0</td>\n",
       "    </tr>\n",
       "    <tr>\n",
       "      <th>3</th>\n",
       "      <td>101.89</td>\n",
       "      <td>3.0</td>\n",
       "      <td>1.0</td>\n",
       "      <td>4.0</td>\n",
       "    </tr>\n",
       "    <tr>\n",
       "      <th>4</th>\n",
       "      <td>280.61</td>\n",
       "      <td>3.0</td>\n",
       "      <td>1.0</td>\n",
       "      <td>4.0</td>\n",
       "    </tr>\n",
       "    <tr>\n",
       "      <th>...</th>\n",
       "      <td>...</td>\n",
       "      <td>...</td>\n",
       "      <td>...</td>\n",
       "      <td>...</td>\n",
       "    </tr>\n",
       "    <tr>\n",
       "      <th>216</th>\n",
       "      <td>81.99</td>\n",
       "      <td>2.0</td>\n",
       "      <td>1.0</td>\n",
       "      <td>2.0</td>\n",
       "    </tr>\n",
       "    <tr>\n",
       "      <th>217</th>\n",
       "      <td>70.00</td>\n",
       "      <td>2.0</td>\n",
       "      <td>2.0</td>\n",
       "      <td>2.0</td>\n",
       "    </tr>\n",
       "    <tr>\n",
       "      <th>218</th>\n",
       "      <td>70.00</td>\n",
       "      <td>2.0</td>\n",
       "      <td>2.0</td>\n",
       "      <td>2.0</td>\n",
       "    </tr>\n",
       "    <tr>\n",
       "      <th>219</th>\n",
       "      <td>238.39</td>\n",
       "      <td>2.0</td>\n",
       "      <td>1.0</td>\n",
       "      <td>2.0</td>\n",
       "    </tr>\n",
       "    <tr>\n",
       "      <th>220</th>\n",
       "      <td>115.00</td>\n",
       "      <td>3.0</td>\n",
       "      <td>1.0</td>\n",
       "      <td>2.0</td>\n",
       "    </tr>\n",
       "  </tbody>\n",
       "</table>\n",
       "<p>221 rows × 4 columns</p>\n",
       "</div>"
      ],
      "text/plain": [
       "       area  quartos  suites  vagas\n",
       "0    110.00      3.0     1.0    2.0\n",
       "1    101.89      3.0     1.0    4.0\n",
       "2    191.00      3.0     1.0    3.0\n",
       "3    101.89      3.0     1.0    4.0\n",
       "4    280.61      3.0     1.0    4.0\n",
       "..      ...      ...     ...    ...\n",
       "216   81.99      2.0     1.0    2.0\n",
       "217   70.00      2.0     2.0    2.0\n",
       "218   70.00      2.0     2.0    2.0\n",
       "219  238.39      2.0     1.0    2.0\n",
       "220  115.00      3.0     1.0    2.0\n",
       "\n",
       "[221 rows x 4 columns]"
      ]
     },
     "execution_count": 58,
     "metadata": {},
     "output_type": "execute_result"
    }
   ],
   "source": [
    "X"
   ]
  },
  {
   "cell_type": "code",
   "execution_count": 59,
   "metadata": {},
   "outputs": [],
   "source": [
    "# normalizando o DataFrame X,(x - x_mean)/x_std \n",
    "X_normalized = (X - X.mean())/X.std()"
   ]
  },
  {
   "cell_type": "code",
   "execution_count": 64,
   "metadata": {},
   "outputs": [
    {
     "data": {
      "text/html": [
       "<div>\n",
       "<style scoped>\n",
       "    .dataframe tbody tr th:only-of-type {\n",
       "        vertical-align: middle;\n",
       "    }\n",
       "\n",
       "    .dataframe tbody tr th {\n",
       "        vertical-align: top;\n",
       "    }\n",
       "\n",
       "    .dataframe thead th {\n",
       "        text-align: right;\n",
       "    }\n",
       "</style>\n",
       "<table border=\"1\" class=\"dataframe\">\n",
       "  <thead>\n",
       "    <tr style=\"text-align: right;\">\n",
       "      <th></th>\n",
       "      <th>area</th>\n",
       "      <th>quartos</th>\n",
       "      <th>suites</th>\n",
       "      <th>vagas</th>\n",
       "    </tr>\n",
       "  </thead>\n",
       "  <tbody>\n",
       "    <tr>\n",
       "      <th>0</th>\n",
       "      <td>-0.245378</td>\n",
       "      <td>-0.066177</td>\n",
       "      <td>-0.05295</td>\n",
       "      <td>0.042399</td>\n",
       "    </tr>\n",
       "    <tr>\n",
       "      <th>1</th>\n",
       "      <td>-0.381459</td>\n",
       "      <td>-0.066177</td>\n",
       "      <td>-0.05295</td>\n",
       "      <td>2.719598</td>\n",
       "    </tr>\n",
       "    <tr>\n",
       "      <th>2</th>\n",
       "      <td>1.113747</td>\n",
       "      <td>-0.066177</td>\n",
       "      <td>-0.05295</td>\n",
       "      <td>1.380998</td>\n",
       "    </tr>\n",
       "    <tr>\n",
       "      <th>3</th>\n",
       "      <td>-0.381459</td>\n",
       "      <td>-0.066177</td>\n",
       "      <td>-0.05295</td>\n",
       "      <td>2.719598</td>\n",
       "    </tr>\n",
       "    <tr>\n",
       "      <th>4</th>\n",
       "      <td>2.617342</td>\n",
       "      <td>-0.066177</td>\n",
       "      <td>-0.05295</td>\n",
       "      <td>2.719598</td>\n",
       "    </tr>\n",
       "    <tr>\n",
       "      <th>...</th>\n",
       "      <td>...</td>\n",
       "      <td>...</td>\n",
       "      <td>...</td>\n",
       "      <td>...</td>\n",
       "    </tr>\n",
       "    <tr>\n",
       "      <th>216</th>\n",
       "      <td>-0.715367</td>\n",
       "      <td>-1.395742</td>\n",
       "      <td>-0.05295</td>\n",
       "      <td>0.042399</td>\n",
       "    </tr>\n",
       "    <tr>\n",
       "      <th>217</th>\n",
       "      <td>-0.916551</td>\n",
       "      <td>-1.395742</td>\n",
       "      <td>1.89738</td>\n",
       "      <td>0.042399</td>\n",
       "    </tr>\n",
       "    <tr>\n",
       "      <th>218</th>\n",
       "      <td>-0.916551</td>\n",
       "      <td>-1.395742</td>\n",
       "      <td>1.89738</td>\n",
       "      <td>0.042399</td>\n",
       "    </tr>\n",
       "    <tr>\n",
       "      <th>219</th>\n",
       "      <td>1.908919</td>\n",
       "      <td>-1.395742</td>\n",
       "      <td>-0.05295</td>\n",
       "      <td>0.042399</td>\n",
       "    </tr>\n",
       "    <tr>\n",
       "      <th>220</th>\n",
       "      <td>-0.161482</td>\n",
       "      <td>-0.066177</td>\n",
       "      <td>-0.05295</td>\n",
       "      <td>0.042399</td>\n",
       "    </tr>\n",
       "  </tbody>\n",
       "</table>\n",
       "<p>221 rows × 4 columns</p>\n",
       "</div>"
      ],
      "text/plain": [
       "         area   quartos   suites     vagas\n",
       "0   -0.245378 -0.066177 -0.05295  0.042399\n",
       "1   -0.381459 -0.066177 -0.05295  2.719598\n",
       "2    1.113747 -0.066177 -0.05295  1.380998\n",
       "3   -0.381459 -0.066177 -0.05295  2.719598\n",
       "4    2.617342 -0.066177 -0.05295  2.719598\n",
       "..        ...       ...      ...       ...\n",
       "216 -0.715367 -1.395742 -0.05295  0.042399\n",
       "217 -0.916551 -1.395742  1.89738  0.042399\n",
       "218 -0.916551 -1.395742  1.89738  0.042399\n",
       "219  1.908919 -1.395742 -0.05295  0.042399\n",
       "220 -0.161482 -0.066177 -0.05295  0.042399\n",
       "\n",
       "[221 rows x 4 columns]"
      ]
     },
     "execution_count": 64,
     "metadata": {},
     "output_type": "execute_result"
    }
   ],
   "source": [
    "X_normalized"
   ]
  },
  {
   "cell_type": "code",
   "execution_count": 60,
   "metadata": {},
   "outputs": [],
   "source": [
    "\n",
    "# aplicando modelo de Regressão linear\n",
    "model_linear = LinearRegression().fit(X_normalized, y)"
   ]
  },
  {
   "cell_type": "code",
   "execution_count": 61,
   "metadata": {},
   "outputs": [],
   "source": [
    "# y preditos pelo modelo. Observe que o modelo é aplicado sobre o mesmo conjunto de dados de treino devido ao objetivo principal do problema.\n",
    "y_pred = model_linear.predict(X_normalized)"
   ]
  },
  {
   "cell_type": "code",
   "execution_count": 62,
   "metadata": {},
   "outputs": [
    {
     "data": {
      "text/plain": [
       "0      265170.252537\n",
       "1      -82100.068813\n",
       "2      -41421.605427\n",
       "3      -32100.068813\n",
       "4     -324509.344453\n",
       "           ...      \n",
       "216     23363.558735\n",
       "217    -40300.659793\n",
       "218     29699.340207\n",
       "219   -181174.875409\n",
       "220    125590.762955\n",
       "Name: preco, Length: 221, dtype: float64"
      ]
     },
     "execution_count": 62,
     "metadata": {},
     "output_type": "execute_result"
    }
   ],
   "source": [
    "\n",
    "# vetor de resíduos\n",
    "r = (y - y_pred)\n",
    "r"
   ]
  },
  {
   "cell_type": "code",
   "execution_count": 63,
   "metadata": {},
   "outputs": [
    {
     "name": "stdout",
     "output_type": "stream",
     "text": [
      "-0.002471923828125\n"
     ]
    }
   ],
   "source": [
    "\n",
    "s = np.inner(y_pred, r)\n",
    "print(s)"
   ]
  },
  {
   "cell_type": "code",
   "execution_count": null,
   "metadata": {},
   "outputs": [],
   "source": []
  },
  {
   "cell_type": "markdown",
   "metadata": {},
   "source": [
    "### Anexo"
   ]
  },
  {
   "cell_type": "markdown",
   "metadata": {},
   "source": [
    "Foi necessário um script para formatar o arquivo aptos.txt para aptos.csv para que fosse possível realizar a leitura correta dos dados com o Pandas. O script construído é mostrado abaixo."
   ]
  },
  {
   "cell_type": "raw",
   "metadata": {},
   "source": [
    "# script formata arquivo aptos.txt para formato aptos.csv\n",
    "# a formatação é feita em dois niveis, primeiro cria uma string em um pre formato e então é aplicado uma\n",
    "# função, sobre a string gerada, que finaliza a formatação\n",
    "\n",
    "\n",
    "# função que recebe cada linha do arquivo aptos.txt e formata para o tipo aptos.csv\n",
    "def formatFile_aptos(line_file):\n",
    "    new_line = '' # armazena linha formatada\n",
    "    for ind, char in enumerate(line_file):\n",
    "        if(ind == 0 and char != ' '): # verifica se o atual caractere é o primeiro e se é diferente de espaço.\n",
    "            new_line += char\n",
    "        elif(char != ' ' and char != '\\t'): # verifica se o atual caractere é diferente de espaço ou tab\n",
    "            new_line += char\n",
    "        elif((ind != len(line_file)-1) and (ind != 0) and line_file[ind+1] != ' '): # verifica se o atual caractere não é o primeiro, se o próximo caractere é diferente de espaço e se o atual caractere não é o útilmo da linha, a ordem dessas operações lógicas é importante.\n",
    "            new_line += ';'\n",
    "    return new_line\n",
    "\n",
    "\n",
    "# finaliza a formatação para csv\n",
    "def formatString(line):\n",
    "    new_line = ''\n",
    "    for ind, char in enumerate(line):\n",
    "        if(ind == 0 and char == ';'): # elimina ';' em inicio de nova linha\n",
    "            continue;\n",
    "        elif(char == ';' and ind != (len(line)-1) and line[ind+1] == ';'): # elimina ';' duplicados\n",
    "            continue;\n",
    "        else:\n",
    "            new_line += char;\n",
    "    return new_line;\n",
    "        \n",
    "\n",
    "    \n",
    "new_string = [] # armazena string, quase já pronta para o formato csv\n",
    "\n",
    "# abre arquivo aptos.txt e realiza sua leitura linha por linha\n",
    "with open('./aptos.txt') as file:\n",
    "    for line in file:\n",
    "        new_string.append(formatFile_aptos(line)) # formata linha para csv e concatena com new_file\n",
    "        \n",
    "new_file = '' # armazena o arquivo formatado para csv\n",
    "\n",
    "for a in new_string:\n",
    "    new_file += formatString(a)\n",
    "\n",
    "#print(new_file)\n",
    "\n",
    "#cria arquivo aptos.csv salvando a string new_file, string contendo arquivo formatado\n",
    "with open('./aptos.csv', 'a') as file:\n",
    "    file.write(new_file)\n",
    "    \n",
    "    \n",
    "    \n",
    "# Reference\n",
    "\n",
    "#[1]https://www.pythoncheatsheet.org/#Reading-and-Writing-Files\n",
    "#[2]https://stackoverflow.com/questions/4435169/how-do-i-append-one-string-to-another-in-python\n",
    "\n"
   ]
  },
  {
   "cell_type": "markdown",
   "metadata": {},
   "source": [
    "### References"
   ]
  },
  {
   "cell_type": "markdown",
   "metadata": {},
   "source": [
    "[1]https://homepages.dcc.ufmg.br/%7Eassuncao/EstatCC/LivroDeExerciciosFECD.pdf\n",
    "<br>\n",
    "[2]https://homepages.dcc.ufmg.br/%7Eassuncao/EstatCC/FECD.pdf Cap. Regressão\n",
    "<br>\n",
    "[3]https://homepages.dcc.ufmg.br/%7Eassuncao/EstatCC/material.html\n",
    "<br>"
   ]
  }
 ],
 "metadata": {
  "kernelspec": {
   "display_name": "Python 3",
   "language": "python",
   "name": "python3"
  },
  "language_info": {
   "codemirror_mode": {
    "name": "ipython",
    "version": 3
   },
   "file_extension": ".py",
   "mimetype": "text/x-python",
   "name": "python",
   "nbconvert_exporter": "python",
   "pygments_lexer": "ipython3",
   "version": "3.7.6"
  }
 },
 "nbformat": 4,
 "nbformat_minor": 4
}
