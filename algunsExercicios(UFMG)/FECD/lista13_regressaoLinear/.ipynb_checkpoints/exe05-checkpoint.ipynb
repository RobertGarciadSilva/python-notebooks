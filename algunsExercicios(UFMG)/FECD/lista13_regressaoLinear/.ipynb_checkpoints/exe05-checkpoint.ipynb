{
 "cells": [
  {
   "cell_type": "markdown",
   "metadata": {},
   "source": [
    "<img src='./imgs/exe5_1.png' style=''>"
   ]
  },
  {
   "cell_type": "markdown",
   "metadata": {},
   "source": [
    "<img src='./imgs/exe5_2.jpeg' style=''>"
   ]
  },
  {
   "cell_type": "markdown",
   "metadata": {},
   "source": [
    "### Reference"
   ]
  },
  {
   "cell_type": "markdown",
   "metadata": {},
   "source": [
    "[1]https://docs.scipy.org/doc/scipy/reference/generated/scipy.stats.norm.html#scipy.stats.norm\n",
    "<br>\n",
    "[2]https://homepages.dcc.ufmg.br/%7Eassuncao/EstatCC/LivroDeExerciciosFECD.pdf\n",
    "<br>\n",
    "[3]https://homepages.dcc.ufmg.br/%7Eassuncao/EstatCC/FECD.pdf Cap. Regressão\n",
    "<br>\n",
    "[4]https://homepages.dcc.ufmg.br/%7Eassuncao/EstatCC/material.html\n",
    "<br>\n",
    "[5]https://www.ufrgs.br/reamat/AlgebraLinear/livro/s13-projex00e7x00e3o_ortogonais_sobre_subespax00e7os.html\n",
    "<br>"
   ]
  }
 ],
 "metadata": {
  "kernelspec": {
   "display_name": "Python 3",
   "language": "python",
   "name": "python3"
  },
  "language_info": {
   "codemirror_mode": {
    "name": "ipython",
    "version": 3
   },
   "file_extension": ".py",
   "mimetype": "text/x-python",
   "name": "python",
   "nbconvert_exporter": "python",
   "pygments_lexer": "ipython3",
   "version": "3.7.6"
  }
 },
 "nbformat": 4,
 "nbformat_minor": 4
}
